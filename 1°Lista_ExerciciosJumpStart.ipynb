{
 "cells": [
  {
   "cell_type": "markdown",
   "id": "04e1f700-cdcf-4ea2-bff3-20a425ad126f",
   "metadata": {},
   "source": [
    "Aula 1 sábado - 08/06/2024\n",
    "# Exercícios: \n",
    "\n",
    "## Pesquisa a utilidade e dê um exemplo de como utilizar as seguintes funções:"
   ]
  },
  {
   "cell_type": "markdown",
   "id": "62566377-b622-47e6-8a53-b0712c2731b9",
   "metadata": {},
   "source": [
    "# Exemplo da função upper()\n",
    "Transforma todas as letras de uma string em maiúsculas"
   ]
  },
  {
   "cell_type": "code",
   "execution_count": 9,
   "id": "4185663d-afb1-4911-8432-4a7629f244c7",
   "metadata": {},
   "outputs": [
    {
     "name": "stdout",
     "output_type": "stream",
     "text": [
      "JUMP START 4 - THIAGO\n",
      "-=-=-=-=-=-=-=-=-=-=-=-=-=-=-=-=-=-=-=-=-=-=-=-=-=-=-=-=-=-=\n"
     ]
    }
   ],
   "source": [
    "texto = \"Jump Start 4 - Thiago\"\n",
    "print(texto.upper()) \n",
    "print('-='*30)"
   ]
  },
  {
   "cell_type": "markdown",
   "id": "9b54ddfe-1e49-4597-bf94-958cac972399",
   "metadata": {},
   "source": [
    "# Exemplo da função lower()\n",
    "Transforma todas as letras de uma string em minúsculas."
   ]
  },
  {
   "cell_type": "code",
   "execution_count": 26,
   "id": "b8a60029-e647-4b3f-a381-c8a62e3d7396",
   "metadata": {},
   "outputs": [
    {
     "name": "stdout",
     "output_type": "stream",
     "text": [
      "prazer: meu nome é thiago\n",
      "-=-=-=-=-=-=-=-=-=-=-=-=-=-=-=-=-=-=-=-=-=-=-=-=-=-=-=-=-=-=\n"
     ]
    }
   ],
   "source": [
    "nome = \"PRAZER: MEU NOME É THIAGO\"\n",
    "print(nome.lower())  \n",
    "print('-='*30)"
   ]
  },
  {
   "cell_type": "markdown",
   "id": "d5539a07-9d82-4de4-846d-a0a27bbb609c",
   "metadata": {},
   "source": [
    "# Exemplo da função split()\n",
    " Divide uma string em uma lista de substrings, utilizando um caractere como separador.\n",
    " "
   ]
  },
  {
   "cell_type": "code",
   "execution_count": 41,
   "id": "3358b9dd-fff9-4d15-ac1e-f624e38e867c",
   "metadata": {},
   "outputs": [
    {
     "name": "stdout",
     "output_type": "stream",
     "text": [
      "['Jump', 'Start', '4', '-', 'Turma', 'Show']\n",
      "-=-=-=-=-=-=-=-=-=-=-=-=-=-=-=-=-=-=-=-=-=-=-=-=-=-=-=-=-=-=\n"
     ]
    }
   ],
   "source": [
    "treinamento = \"Jump Start 4 - Turma Show\"\n",
    "print(treinamento.split()) \n",
    "print('-='*30)"
   ]
  },
  {
   "cell_type": "markdown",
   "id": "b6b47ce8-c5cf-4b8f-b3f9-c82a9c56b686",
   "metadata": {},
   "source": [
    "# Exemplo da função capitalize()\n",
    "\n",
    "Transforma a primeira letra de uma string em maiúscula e o restante em minúsculo - Refere-se a primeira palavra do Texto"
   ]
  },
  {
   "cell_type": "code",
   "execution_count": 40,
   "id": "8bdf2713-15f7-4ebe-9ea3-e40616c458d5",
   "metadata": {},
   "outputs": [
    {
     "name": "stdout",
     "output_type": "stream",
     "text": [
      "Aluno jump start\n",
      "-=-=-=-=-=-=-=-=-=-=-=-=-=-=-=-=-=-=-=-=-=-=-=-=-=-=-=-=-=-=\n"
     ]
    }
   ],
   "source": [
    "texto = \"aluno jump start\"\n",
    "print(texto.capitalize()) \n",
    "print('-='*30)"
   ]
  },
  {
   "cell_type": "markdown",
   "id": "59747886-460a-4cf5-89d9-15e8d5b9b10d",
   "metadata": {},
   "source": [
    "# Exemplo da função count()\n",
    "\n",
    "Conta o número de ocorrências de um determinado caractere ou substring em uma string\n"
   ]
  },
  {
   "cell_type": "code",
   "execution_count": 39,
   "id": "388fd8e4-bfbc-4b21-9a97-83f3db55fe73",
   "metadata": {},
   "outputs": [
    {
     "name": "stdout",
     "output_type": "stream",
     "text": [
      "5\n",
      "-=-=-=-=-=-=-=-=-=-=-=-=-=-=-=-=-=-=-=-=-=-=-=-=-=-=-=-=-=-=\n"
     ]
    }
   ],
   "source": [
    "nome = \"Thiago Costa Santana\"\n",
    "ocorrencias = nome.count(\"a\")\n",
    "print(ocorrencias)\n",
    "print('-='*30)"
   ]
  },
  {
   "cell_type": "markdown",
   "id": "13c631e2-9c96-448f-95c2-9be4223f458b",
   "metadata": {},
   "source": [
    "# Exemplo da função find()\n",
    "Retorna o índice da primeira ocorrência de um determinado caractere ou substring em uma string."
   ]
  },
  {
   "cell_type": "code",
   "execution_count": 38,
   "id": "435c38f0-70fd-40ac-bbc7-3054cc899318",
   "metadata": {},
   "outputs": [
    {
     "name": "stdout",
     "output_type": "stream",
     "text": [
      "0\n",
      "-=-=-=-=-=-=-=-=-=-=-=-=-=-=-=-=-=-=-=-=-=-=-=-=-=-=-=-=-=-=\n"
     ]
    }
   ],
   "source": [
    "texto = \"olá mundo\"\n",
    "print(texto.find('o')) \n",
    "print('-='*30)"
   ]
  },
  {
   "cell_type": "markdown",
   "id": "c84aa58e-3bf7-4485-8dbf-aa28224c0200",
   "metadata": {},
   "source": [
    "# Exemplo da função center()\n",
    "Centraliza uma string em um campo de largura especificada.\n"
   ]
  },
  {
   "cell_type": "code",
   "execution_count": 42,
   "id": "0653e939-2fc6-4e15-bc10-4682e10f4efe",
   "metadata": {},
   "outputs": [
    {
     "name": "stdout",
     "output_type": "stream",
     "text": [
      "*********JUMP, START!*********\n",
      "-=-=-=-=-=-=-=-=-=-=-=-=-=-=-=-=-=-=-=-=-=-=-=-=-=-=-=-=-=-=\n"
     ]
    }
   ],
   "source": [
    "texto = \"JUMP, START!\"\n",
    "print(texto.center(30, \"*\"))\n",
    "print('-='*30)"
   ]
  },
  {
   "cell_type": "markdown",
   "id": "d9834a8b-db67-4399-8a84-9a4f6d0abe6c",
   "metadata": {},
   "source": [
    "# Exemplo da função isalnum()\n",
    " Verifica se todos os caracteres da string são alfanuméricos - expressão booleana."
   ]
  },
  {
   "cell_type": "code",
   "execution_count": 47,
   "id": "f76ebdf2-711c-42b0-8fde-a0825bd6a96a",
   "metadata": {},
   "outputs": [
    {
     "name": "stdout",
     "output_type": "stream",
     "text": [
      "True\n",
      "-=-=-=-=-=-=-=-=-=-=-=-=-=-=-=-=-=-=-=-=-=-=-=-=-=-=-=-=-=-=\n"
     ]
    }
   ],
   "source": [
    "turma = \"jumpstart4\"\n",
    "print(turma.isalnum())\n",
    "print('-='*30)"
   ]
  },
  {
   "cell_type": "markdown",
   "id": "938cdba1-e59d-4661-aea8-2dc6e0587661",
   "metadata": {},
   "source": [
    "# Exemplo da função isalpha()\n",
    "Verifica se todos os caracteres da string são alfabéticos -  expressão booleana."
   ]
  },
  {
   "cell_type": "code",
   "execution_count": 49,
   "id": "ffb6d365-b7dc-4f45-8337-6cc46e41dc47",
   "metadata": {},
   "outputs": [
    {
     "name": "stdout",
     "output_type": "stream",
     "text": [
      "True\n",
      "-=-=-=-=-=-=-=-=-=-=-=-=-=-=-=-=-=-=-=-=-=-=-=-=-=-=-=-=-=-=\n"
     ]
    }
   ],
   "source": [
    "nome = \"Treinamento\"\n",
    "print(nome.isalpha())  \n",
    "print('-='*30)"
   ]
  },
  {
   "cell_type": "markdown",
   "id": "b244d6b7-a848-497e-a4eb-aff2725bd770",
   "metadata": {},
   "source": [
    "# Exemplo da função islower()\n",
    "Verifica se todos os caracteres da string estão em minúsculas -  expressão booleana."
   ]
  },
  {
   "cell_type": "code",
   "execution_count": 55,
   "id": "04ae74d4-4395-439b-8891-b6be5d3d79d8",
   "metadata": {},
   "outputs": [
    {
     "name": "stdout",
     "output_type": "stream",
     "text": [
      "True\n",
      "-=-=-=-=-=-=-=-=-=-=-=-=-=-=-=-=-=-=-=-=-=-=-=-=-=-=-=-=-=-=\n"
     ]
    }
   ],
   "source": [
    "modulo = \"python\"\n",
    "print(modulo.islower())  \n",
    "print('-='*30)"
   ]
  },
  {
   "cell_type": "markdown",
   "id": "de964a58-d8be-429c-b1d1-12df64700489",
   "metadata": {},
   "source": [
    "# Exemplo da função isspace() \n",
    "Verifica se a string é composta apenas por espaços em branco - expressão booleana."
   ]
  },
  {
   "cell_type": "code",
   "execution_count": 58,
   "id": "7c6ac7f3-9441-4d08-8e5f-be8366efdf27",
   "metadata": {},
   "outputs": [
    {
     "name": "stdout",
     "output_type": "stream",
     "text": [
      "True\n",
      "-=-=-=-=-=-=-=-=-=-=-=-=-=-=-=-=-=-=-=-=-=-=-=-=-=-=-=-=-=-=\n"
     ]
    }
   ],
   "source": [
    "texto = \"   \"\n",
    "print(texto.isspace()) \n",
    "print('-='*30)"
   ]
  },
  {
   "cell_type": "markdown",
   "id": "82d2d271-940f-4305-84a3-01e1f3333e13",
   "metadata": {},
   "source": [
    "# Exemplo da função endswith()\n",
    "Verifica se a string termina com um determinado sufixo - expressão booleana."
   ]
  },
  {
   "cell_type": "code",
   "execution_count": 5,
   "id": "695a8275-75d9-409d-bc4e-1bb8a8bdfbf9",
   "metadata": {},
   "outputs": [
    {
     "name": "stdout",
     "output_type": "stream",
     "text": [
      "True\n",
      "-=-=-=-=-=-=-=-=-=-=-=-=-=-=-=-=-=-=-=-=-=-=-=-=-=-=-=-=-=-=\n"
     ]
    }
   ],
   "source": [
    "nome = \"jump start\"\n",
    "print(nome.endswith(\"start\")) \n",
    "print('-='*30)"
   ]
  },
  {
   "cell_type": "markdown",
   "id": "7e09632e-8881-42b5-bc65-cd99bce1626f",
   "metadata": {},
   "source": [
    "# Exemplo da função partition()\n",
    "\n",
    "Particiona uma lista com base em um elemento escolhido, e retorna uma tupla com 3 elementos:\n",
    "Uma lista contendo os elementos menores que o elemento escolhido, o próprio elemento escolhido, e uma lista com os elementos maiores que o elemento escolhido.\n",
    "\n",
    "A função partition é usada para dividir uma string em três partes, com base em um separador especificado. \n",
    "\n",
    "A primeira parte é a substring antes do separador, a segunda parte é o próprio separador, e a terceira parte é a substring após o separador.\n"
   ]
  },
  {
   "cell_type": "code",
   "execution_count": 1,
   "id": "ae69ff5b-d344-420c-bf15-aed42a2f403b",
   "metadata": {},
   "outputs": [
    {
     "name": "stdout",
     "output_type": "stream",
     "text": [
      "('Olá', ',', ' como vai você?')\n"
     ]
    }
   ],
   "source": [
    "# Utilizando a função partition para dividir a string pela vírgula\n",
    "\n",
    "frase = \"Olá, como vai você?\"\n",
    "\n",
    "partes = frase.partition(\",\")\n",
    "\n",
    "print(partes)"
   ]
  },
  {
   "cell_type": "code",
   "execution_count": 6,
   "id": "11bae997-23c2-4217-9a9b-5b5bd6471bce",
   "metadata": {},
   "outputs": [
    {
     "name": "stdout",
     "output_type": "stream",
     "text": [
      "('bom ', 'dia', ' amigo')\n"
     ]
    }
   ],
   "source": [
    "texto = 'bom dia amigo'\n",
    "resultado = texto.partition('dia')\n",
    "print(resultado)"
   ]
  },
  {
   "cell_type": "code",
   "execution_count": 9,
   "id": "846cafc1-2495-48af-bd34-0bf61cfc7af6",
   "metadata": {},
   "outputs": [
    {
     "data": {
      "text/plain": [
       "('thiago.costa.santana', '@', 'jumpstart.com.br')"
      ]
     },
     "execution_count": 9,
     "metadata": {},
     "output_type": "execute_result"
    }
   ],
   "source": [
    "# Um exemplo prático seria separar o usuário de e-mail do provedor atráves da função partition o @ seria a divisão.\n",
    "\n",
    "email = 'thiago.costa.santana@jumpstart.com.br'\n",
    "\n",
    "email.partition('@')"
   ]
  },
  {
   "cell_type": "code",
   "execution_count": null,
   "id": "97194b50-2030-452e-9496-83521e61a819",
   "metadata": {},
   "outputs": [],
   "source": []
  }
 ],
 "metadata": {
  "kernelspec": {
   "display_name": "Python 3 (ipykernel)",
   "language": "python",
   "name": "python3"
  },
  "language_info": {
   "codemirror_mode": {
    "name": "ipython",
    "version": 3
   },
   "file_extension": ".py",
   "mimetype": "text/x-python",
   "name": "python",
   "nbconvert_exporter": "python",
   "pygments_lexer": "ipython3",
   "version": "3.11.7"
  }
 },
 "nbformat": 4,
 "nbformat_minor": 5
}
