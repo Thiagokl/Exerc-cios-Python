{
 "cells": [
  {
   "cell_type": "markdown",
   "id": "27d15f7b-6c6d-42dd-9dad-d33a43cea085",
   "metadata": {},
   "source": [
    "<img src=\"https://scontent.fjdo12-1.fna.fbcdn.net/v/t39.30808-6/385067949_805512978251733_639921228418853171_n.jpg?_nc_cat=106&ccb=1-7&_nc_sid=5f2048&_nc_ohc=R1INuflgYEQQ7kNvgFO14wf&_nc_ht=scontent.fjdo12-1.fna&oh=00_AYCiz0Y4Ywb_0exKVdCCrRlKbq6h4dvf4ctL6SWY4MJ1kQ&oe=666FE98C\" width=\"50\">\n",
    "<p style=\"color:orange;\"> Jump Start 4 </p>      \n",
    "\n",
    "Quinta-Feira 13/06/2024  \n",
    "\n",
    "\n",
    "- ### 3° Lista - Exercícios:\n",
    "\n",
    "- #### Criar um programa em Python que permite ao usuário registrar o nome dos alunos e suas cidades de origem em um dicionário, e consultar essas informações pelo nome do aluno. Consulte pelo menos 5 colegas de classe.\n",
    "|     Nome       |   Cidade-UF  |\n",
    "|----------------|--------------|\n",
    "|Natália Berti   | São Paulo-SP |\n",
    "|Tatiana Beltrão | Recife-PE    | \n",
    "|⁠Júlio César     | Cunha-SP     |\r\n",
    "|⁠Leandro Tezzon  | Jundiaí-SP   |E\r",
    "|⁠João Pedro      | Manaira-PB   |S//PB\n"
   ]
  },
  {
   "cell_type": "code",
   "execution_count": 1,
   "id": "878ad386-c191-440e-988f-ff68a0cc135f",
   "metadata": {},
   "outputs": [],
   "source": [
    "alunos = { \n",
    "    'Natália Berti': 'São Paulo-SP', \n",
    "    'Tatiana Beltrão': 'Recife-PE',\n",
    "    '⁠Júlio César': 'Cunha-SP',\n",
    "    '⁠Leandro Tezzon': 'Jundiaí-SP',\n",
    "    '⁠João Pedro': 'Manaira-PB'\n",
    "}"
   ]
  },
  {
   "cell_type": "code",
   "execution_count": 2,
   "id": "365d1bf3-5f46-4793-b05e-5f7c15fb5d0c",
   "metadata": {},
   "outputs": [
    {
     "data": {
      "text/plain": [
       "'São Paulo-SP'"
      ]
     },
     "execution_count": 2,
     "metadata": {},
     "output_type": "execute_result"
    }
   ],
   "source": [
    "alunos['Natália Berti']"
   ]
  },
  {
   "cell_type": "code",
   "execution_count": 3,
   "id": "3f91f9eb-33fe-4540-ad96-81d49c558cb5",
   "metadata": {},
   "outputs": [
    {
     "data": {
      "text/plain": [
       "'Recife-PE'"
      ]
     },
     "execution_count": 3,
     "metadata": {},
     "output_type": "execute_result"
    }
   ],
   "source": [
    "alunos['Tatiana Beltrão']"
   ]
  },
  {
   "cell_type": "code",
   "execution_count": 6,
   "id": "62312151-4053-4ca1-91a5-f08b0e90615c",
   "metadata": {},
   "outputs": [
    {
     "data": {
      "text/plain": [
       "'Cunha-SP'"
      ]
     },
     "execution_count": 6,
     "metadata": {},
     "output_type": "execute_result"
    }
   ],
   "source": [
    "alunos['⁠Júlio César']"
   ]
  },
  {
   "cell_type": "code",
   "execution_count": 9,
   "id": "44e123fd-51eb-4f32-b5d9-4a3943b8fe2b",
   "metadata": {},
   "outputs": [
    {
     "data": {
      "text/plain": [
       "'Jundiaí-SP'"
      ]
     },
     "execution_count": 9,
     "metadata": {},
     "output_type": "execute_result"
    }
   ],
   "source": [
    "alunos['⁠Leandro Tezzon']"
   ]
  },
  {
   "cell_type": "code",
   "execution_count": 10,
   "id": "a512df6d-f5b0-4621-ac96-2cf5439d930b",
   "metadata": {},
   "outputs": [
    {
     "data": {
      "text/plain": [
       "'Manaira-PB'"
      ]
     },
     "execution_count": 10,
     "metadata": {},
     "output_type": "execute_result"
    }
   ],
   "source": [
    "alunos['⁠João Pedro']"
   ]
  },
  {
   "cell_type": "code",
   "execution_count": 68,
   "id": "33e4e07f-1316-44b2-a38d-2a8688c5d7b9",
   "metadata": {},
   "outputs": [
    {
     "name": "stdin",
     "output_type": "stream",
     "text": [
      "Digite o nome do aluno:  Natália Berti\n",
      "Digite a cidade do aluno:  São Paulo-SP\n"
     ]
    },
    {
     "name": "stdout",
     "output_type": "stream",
     "text": [
      "Aluno cadastrado com sucesso!\n"
     ]
    }
   ],
   "source": [
    "alunos = {}\n",
    "\n",
    "def adicionar_aluno():\n",
    "    nome_aluno = input(\"Digite o nome do aluno: \")\n",
    "    cidade_aluno = input(\"Digite a cidade do aluno: \")\n",
    "    alunos[nome_aluno] = cidade_aluno\n",
    "    print(\"Aluno cadastrado com sucesso!\")\n",
    "\n",
    "adicionar_aluno()"
   ]
  },
  {
   "cell_type": "code",
   "execution_count": 69,
   "id": "c389b3ac-0865-440e-a447-74b4b57de6d7",
   "metadata": {},
   "outputs": [
    {
     "name": "stdin",
     "output_type": "stream",
     "text": [
      "Digite o nome do aluno para consultar:  Natália Berti\n"
     ]
    },
    {
     "name": "stdout",
     "output_type": "stream",
     "text": [
      "Natália Berti é de São Paulo-SP.\n"
     ]
    }
   ],
   "source": [
    "def consultar_aluno(alunos):\n",
    "    nome_consulta = input(\"Digite o nome do aluno para consultar: \")\n",
    "    if nome_consulta in alunos:\n",
    "        cidade_origem = alunos[nome_consulta]\n",
    "        print(f\"{nome_consulta} é de {cidade_origem}.\")\n",
    "    else:\n",
    "        print(\"Aluno não encontrado.\")\n",
    "\n",
    "consultar_aluno(alunos)"
   ]
  },
  {
   "cell_type": "markdown",
   "id": "222f5b1f-588d-49a0-8d0c-5443c48494b5",
   "metadata": {},
   "source": [
    "- ## Exemplo de input com 5 cadastros\n",
    "- Caso seja necessário inserir somente 1 cadastro, aperte enter para completar o loop com 5 registros.\n",
    "- Também podemos alterar a quantidade de alunos para inserir mais ou menos alunos "
   ]
  },
  {
   "cell_type": "code",
   "execution_count": 70,
   "id": "bf6be0b9-f777-4656-91d8-562e29135a0f",
   "metadata": {},
   "outputs": [
    {
     "name": "stdin",
     "output_type": "stream",
     "text": [
      "Digite o nome do aluno:  Natália Berti\n",
      "Digite a cidade do aluno:  São Paulo-SP\n"
     ]
    },
    {
     "name": "stdout",
     "output_type": "stream",
     "text": [
      "Aluno Natália Berti cadastrado com sucesso!\n"
     ]
    },
    {
     "name": "stdin",
     "output_type": "stream",
     "text": [
      "Digite o nome do aluno:  Tatiana Beltrão\n",
      "Digite a cidade do aluno:  Recife-PE\n"
     ]
    },
    {
     "name": "stdout",
     "output_type": "stream",
     "text": [
      "Aluno Tatiana Beltrão cadastrado com sucesso!\n"
     ]
    },
    {
     "name": "stdin",
     "output_type": "stream",
     "text": [
      "Digite o nome do aluno:  Júlio César\n",
      "Digite a cidade do aluno:  Cunha-SP\n"
     ]
    },
    {
     "name": "stdout",
     "output_type": "stream",
     "text": [
      "Aluno Júlio César cadastrado com sucesso!\n"
     ]
    },
    {
     "name": "stdin",
     "output_type": "stream",
     "text": [
      "Digite o nome do aluno:  Leandro Tezzon\n",
      "Digite a cidade do aluno:  Jundiaí-SP\n"
     ]
    },
    {
     "name": "stdout",
     "output_type": "stream",
     "text": [
      "Aluno Leandro Tezzon cadastrado com sucesso!\n"
     ]
    },
    {
     "name": "stdin",
     "output_type": "stream",
     "text": [
      "Digite o nome do aluno:  ⁠João Pedro\n",
      "Digite a cidade do aluno:  Manaira-PB\n"
     ]
    },
    {
     "name": "stdout",
     "output_type": "stream",
     "text": [
      "Aluno ⁠João Pedro cadastrado com sucesso!\n"
     ]
    }
   ],
   "source": [
    "alunos = {}\n",
    "\n",
    "def adicionar_alunos():\n",
    "    quantidade_alunos = 5\n",
    "    for _ in range(quantidade_alunos):\n",
    "        nome_aluno = input(\"Digite o nome do aluno: \")\n",
    "        cidade_aluno = input(\"Digite a cidade do aluno: \")\n",
    "        alunos[nome_aluno] = cidade_aluno\n",
    "        print(f\"Aluno {nome_aluno} cadastrado com sucesso!\")\n",
    "\n",
    "adicionar_alunos()\n"
   ]
  },
  {
   "cell_type": "markdown",
   "id": "ca91dae8-e838-4ade-a720-ca86db0c3281",
   "metadata": {},
   "source": [
    "## Exemplo de Consulta com 5 cadastros\n",
    "Também podemos alterar a quantidade de alunos para inserir mais ou menos alunos ou aperte enter para completar o loop com 5 registros."
   ]
  },
  {
   "cell_type": "code",
   "execution_count": 72,
   "id": "67300d6b-b966-41cd-ab94-1c1af15a7770",
   "metadata": {},
   "outputs": [
    {
     "name": "stdin",
     "output_type": "stream",
     "text": [
      "Digite o nome do aluno para consultar:  Natália Berti\n"
     ]
    },
    {
     "name": "stdout",
     "output_type": "stream",
     "text": [
      "Natália Berti é de São Paulo-SP.\n"
     ]
    },
    {
     "name": "stdin",
     "output_type": "stream",
     "text": [
      "Digite o nome do aluno para consultar:  Tatiana Beltrão\n"
     ]
    },
    {
     "name": "stdout",
     "output_type": "stream",
     "text": [
      "Tatiana Beltrão é de Recife-PE.\n"
     ]
    },
    {
     "name": "stdin",
     "output_type": "stream",
     "text": [
      "Digite o nome do aluno para consultar:  Júlio César\n"
     ]
    },
    {
     "name": "stdout",
     "output_type": "stream",
     "text": [
      "Júlio César é de Cunha-SP.\n"
     ]
    },
    {
     "name": "stdin",
     "output_type": "stream",
     "text": [
      "Digite o nome do aluno para consultar:  Leandro Tezzon\n"
     ]
    },
    {
     "name": "stdout",
     "output_type": "stream",
     "text": [
      "Leandro Tezzon é de Jundiaí-SP.\n"
     ]
    },
    {
     "name": "stdin",
     "output_type": "stream",
     "text": [
      "Digite o nome do aluno para consultar:  ⁠João Pedro\n"
     ]
    },
    {
     "name": "stdout",
     "output_type": "stream",
     "text": [
      "⁠João Pedro é de Manaira-PB.\n"
     ]
    }
   ],
   "source": [
    "def consultar_alunos(alunos):\n",
    "    quantidade_consultas = 5\n",
    "    for _ in range(quantidade_consultas):\n",
    "        nome_consulta = input(\"Digite o nome do aluno para consultar: \")\n",
    "        if nome_consulta in alunos:\n",
    "            cidade_origem = alunos[nome_consulta]\n",
    "            print(f\"{nome_consulta} é de {cidade_origem}.\")\n",
    "        else:\n",
    "            print(\"Aluno não encontrado.\")\n",
    "\n",
    "consultar_alunos(alunos)\n"
   ]
  },
  {
   "cell_type": "code",
   "execution_count": null,
   "id": "b667a0e8-d18c-441d-bc99-e08eb831ad13",
   "metadata": {},
   "outputs": [],
   "source": []
  }
 ],
 "metadata": {
  "kernelspec": {
   "display_name": "Python 3 (ipykernel)",
   "language": "python",
   "name": "python3"
  },
  "language_info": {
   "codemirror_mode": {
    "name": "ipython",
    "version": 3
   },
   "file_extension": ".py",
   "mimetype": "text/x-python",
   "name": "python",
   "nbconvert_exporter": "python",
   "pygments_lexer": "ipython3",
   "version": "3.11.7"
  }
 },
 "nbformat": 4,
 "nbformat_minor": 5
}
