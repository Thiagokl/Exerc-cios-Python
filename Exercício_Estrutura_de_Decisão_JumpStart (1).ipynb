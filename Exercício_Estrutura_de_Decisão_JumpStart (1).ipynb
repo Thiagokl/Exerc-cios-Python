{
 "cells": [
  {
   "cell_type": "markdown",
   "id": "d6c3cd8e-8e0e-42b5-9a3a-b68613442e9d",
   "metadata": {},
   "source": [
    "<div style=\"display: flex; align-items: center;\">\n",
    "    <img src=\"https://scontent.fjdo12-1.fna.fbcdn.net/v/t39.30808-6/385067949_805512978251733_639921228418853171_n.jpg?_nc_cat=106&ccb=1-7&_nc_sid=5f2048&_nc_ohc=R1INuflgYEQQ7kNvgFO14wf&_nc_ht=scontent.fjdo12-1.fna&oh=00_AYCiz0Y4Ywb_0exKVdCCrRlKbq6h4dvf4ctL6SWY4MJ1kQ&oe=666FE98C\" width=\"80\" style=\"margin-right: 10px;\"> \n",
    "    <h1 style=\"font-size: 15px;\">Segunda-Feira 24/06/2024</h1>\n",
    "</div>\n",
    "<p style=\"color:orange;\">Jump Start 4</p>\n",
    "<h2 style=\"text-align: center;\">Thiago Costa Santana</h2>\n",
    "<br>\n",
    "<h1 align=\"center\">Exercícios - Estruturas de decisão</h1>\n",
    "<br>\n",
    "<br>"
   ]
  },
  {
   "attachments": {},
   "cell_type": "markdown",
   "id": "149ffafa-c49b-4c40-996e-0833cfa5ecf0",
   "metadata": {},
   "source": [
    "- ### 1 - Faça um programa que peça dois números e imprima o maior deles.\r\n",
    " <br>\n",
    "  "
   ]
  },
  {
   "cell_type": "markdown",
   "id": "a39397be-069f-43f8-bf40-179dcebe3026",
   "metadata": {},
   "source": [
    "- **Apresento dois exemplos:**\n",
    "- 1° usando função e definindo apenas 1 print.\n",
    "- 2° usando as variáveis e definindo com if e else os dois prints conforme inserção dos inputs."
   ]
  },
  {
   "cell_type": "code",
   "execution_count": 127,
   "id": "7e695c48-a0c1-4e1d-b2dd-cedda73ebb60",
   "metadata": {},
   "outputs": [
    {
     "name": "stdin",
     "output_type": "stream",
     "text": [
      "Digite o primeiro número:  10\n",
      "Digite o segundo número:  20\n"
     ]
    },
    {
     "name": "stdout",
     "output_type": "stream",
     "text": [
      "O maior número é 20.0\n"
     ]
    }
   ],
   "source": [
    "def maior_numero(numero_1, numero_2):\n",
    "    \n",
    "    if numero_1 > numero_2: \n",
    "        return numero_1\n",
    "    else: \n",
    "        return numero_2\n",
    "\n",
    "numero_1 = float(input(\"Digite o primeiro número: \"))\n",
    "numero_2 = float(input(\"Digite o segundo número: \"))\n",
    "\n",
    "num_maior = maior_numero(numero_1, numero_2) \n",
    "print(f\"O maior número é {num_maior}\")\n",
    "\n"
   ]
  },
  {
   "cell_type": "code",
   "execution_count": 11,
   "id": "6793d216-b4ba-402e-b434-cbdfe829d1a7",
   "metadata": {},
   "outputs": [
    {
     "name": "stdin",
     "output_type": "stream",
     "text": [
      "Digite o primeiro número:  10\n",
      "Digite o segundo número:  20\n"
     ]
    },
    {
     "name": "stdout",
     "output_type": "stream",
     "text": [
      "O maior número é 20.0\n",
      "-=-=-=-=-=-=-=-=-=-=-=-=-=-=-=-=-=-=-=-=-=-=-=-=-=-=-=-=-=-=-=-=-=-=-=-=-=-=-=-=-=-=-=-=-=-=-=-=-=-=\n"
     ]
    }
   ],
   "source": [
    "numero_1 = float(input(\"Digite o primeiro número: \")) \n",
    "numero_2 = float(input(\"Digite o segundo número: \"))\n",
    "\n",
    "if numero_1 > numero_2: \n",
    "    print(f\"O maior número é {numero_1 }\") \n",
    "else: \n",
    "    print(f\"O maior número é {numero_2}\")\n",
    "print('-='*50)\n"
   ]
  },
  {
   "attachments": {},
   "cell_type": "markdown",
   "id": "04b0e5c7-f928-4881-af45-ab76d28c1d4b",
   "metadata": {},
   "source": [
    "- ### 2 - Faça um programa que peça um valor e mostre na tela se o valor é positivo ou negativo.\r\n",
    " <br>\n"
   ]
  },
  {
   "cell_type": "markdown",
   "id": "250f97ab-9ade-45ec-a90d-be4baf510727",
   "metadata": {},
   "source": [
    "- Função criada com bloco if, elif e else retornando os valores positivo, negativo e caso apresente 0 neutro.\n",
    "- Após input, o print f-string para concatenar a resposta "
   ]
  },
  {
   "cell_type": "code",
   "execution_count": 18,
   "id": "6d8ba3fe-49a0-4b14-8d51-6739ccd61c55",
   "metadata": {},
   "outputs": [
    {
     "name": "stdin",
     "output_type": "stream",
     "text": [
      "Digite um valor:  -20\n"
     ]
    },
    {
     "name": "stdout",
     "output_type": "stream",
     "text": [
      "O valor digitado foi: -20.0 sendo valor negativo\n",
      "-=-=-=-=-=-=-=-=-=-=-=-=-=-=-=-=-=-=-=-=-=-=-=-=-=-=-=-=-=-=-=-=-=-=-=-=-=-=-=-=-=-=-=-=-=-=-=-=-=-=\n"
     ]
    }
   ],
   "source": [
    "def valores_p_n(numero):\n",
    "    \n",
    "    if numero > 0:\n",
    "        return \"valor positivo\"\n",
    "    elif numero < 0:\n",
    "        return \"valor negativo\"\n",
    "    else:\n",
    "        return \"valor neutro\"\n",
    "\n",
    "valor = float(input(\"Digite um valor: \"))\n",
    "print(f\"O valor digitado foi: {valor} sendo {valores_p_n(valor)}\")\n",
    "print('-='*50)"
   ]
  },
  {
   "attachments": {},
   "cell_type": "markdown",
   "id": "5e594649-d2eb-4d20-af33-2bacd6912406",
   "metadata": {},
   "source": [
    "- ### 3 - Faça um programa que se uma letra digitada é “F” ou “M”. Conforme a letra escrever: F – Feminino, M – Masculino, Sexo inválido.\r\n",
    "\r\n",
    "<br>\n"
   ]
  },
  {
   "cell_type": "markdown",
   "id": "6b170cd6-e825-4a3a-9720-550b378ba9f2",
   "metadata": {},
   "source": [
    "- Elaborei um programa usando while True, criando a variável sexo no input e o bloco if apresentando a resposta com print f string, break para sair do loop e else caso condição inválida sendo apresentado no print"
   ]
  },
  {
   "cell_type": "code",
   "execution_count": 7,
   "id": "f79c934c-9a3a-49cc-ac8c-b1ec0c8acba4",
   "metadata": {},
   "outputs": [
    {
     "name": "stdin",
     "output_type": "stream",
     "text": [
      "Conforme seu sexo, digite M ou F:  r\n"
     ]
    },
    {
     "name": "stdout",
     "output_type": "stream",
     "text": [
      "Sexo inválido\n"
     ]
    },
    {
     "name": "stdin",
     "output_type": "stream",
     "text": [
      "Conforme seu sexo, digite M ou F:  m\n"
     ]
    },
    {
     "name": "stdout",
     "output_type": "stream",
     "text": [
      "Seu sexo é: Masculino\n",
      "-=-=-=-=-=-=-=-=-=-=-=-=-=-=-=-=-=-=-=-=-=-=-=-=-=-=-=-=-=-=-=-=-=-=-=-=-=-=-=-=-=-=-=-=-=-=-=-=-=-=\n"
     ]
    }
   ],
   "source": [
    "while True:\n",
    "    \n",
    "    sexo = input(\"Conforme seu sexo, digite M ou F: \").upper()\n",
    "    \n",
    "    if sexo == 'M' or sexo == 'F':\n",
    "        print(f\"Seu sexo é: {'Masculino' if sexo == 'M' else 'Feminino'}\")\n",
    "        break\n",
    "    else:\n",
    "        print(\"Sexo inválido\")\n",
    "print('-='*50)"
   ]
  },
  {
   "cell_type": "markdown",
   "id": "8c3b97bf-5759-4765-9b5f-7f1bc685e33c",
   "metadata": {},
   "source": [
    "- ### 4 - Faça um programa para verificar se uma letra digitada é vogal ou consoante.\n",
    "\n",
    "<br>"
   ]
  },
  {
   "cell_type": "markdown",
   "id": "234d881d-2e45-4239-8db2-5c229f57bf09",
   "metadata": {},
   "source": [
    "- Criei uma função atribui a variável vogais usando isalpha para verificar se todos caracteres da string são letras usando lower em vogais para garantir a entrada no input de letras tanto maiúsculas como minúsculas. \n",
    "- Estou usando raise dentro da função  para informar que um erro específico ocorreu, quando o caractere inserido não é uma letra.\n",
    "- Enquanto em try, except ValueError é utilizado para tratar e lidar com esse erro de forma personalizada para o usuário, no meu código raise e Except trabalham em conjunto"
   ]
  },
  {
   "cell_type": "code",
   "execution_count": 9,
   "id": "89732c8e-2ac7-469b-9544-c3b65b83d104",
   "metadata": {},
   "outputs": [
    {
     "name": "stdin",
     "output_type": "stream",
     "text": [
      "Digite uma letra:  lara\n",
      "Erro: Inserir somente letra! Por favor, insira uma letra:  rr\n",
      "Erro: Inserir somente letra! Por favor, insira uma letra:  1\n",
      "Erro: Inserir somente letra! Por favor, insira uma letra:  a\n"
     ]
    },
    {
     "name": "stdout",
     "output_type": "stream",
     "text": [
      "a é uma vogal.\n",
      "-=-=-=-=-=-=-=-=-=-=-=-=-=-=-=-=-=-=-=-=-=-=-=-=-=-=-=-=-=-=-=-=-=-=-=-=-=-=-=-=-=-=-=-=-=-=-=-=-=-=\n"
     ]
    }
   ],
   "source": [
    "def vogal_consoante(letra):\n",
    "    vogais = 'aeiou'\n",
    "    if letra.lower() in vogais:\n",
    "        return f'{letra} é uma vogal.'\n",
    "    else:\n",
    "        return f'{letra} é uma consoante.'\n",
    "\n",
    "letra = input(\"Digite uma letra: \")\n",
    "\n",
    "while len(letra) != 1 or not letra.isalpha():\n",
    "    letra = input(\"Erro: Inserir somente letra! Por favor, insira uma letra: \")\n",
    "\n",
    "letra_digitada = vogal_consoante(letra.lower())\n",
    "print(letra_digitada)\n",
    "print('-='*50)"
   ]
  },
  {
   "cell_type": "markdown",
   "id": "5c0984b1-26f6-42d8-8e6e-4ec09f0b896f",
   "metadata": {},
   "source": [
    " - ### 5 - Faça um programa para leitura de duas notas parciais de um aluno. O programa deve calcular a média alcançada por aluno e apresentar:\n",
    "```  \n",
    "- A mensagem \"Aprovado\", se a média alcançada for maior ou igual a sete;                                     \n",
    "- A mensagem \"Reprovado\", se a média for menor do que sete;\n",
    "- A mensagem \"Aprovado com Distinção\", se a média for igual a dez.\n",
    "```\n",
    "\n",
    "<br>\n",
    " "
   ]
  },
  {
   "cell_type": "markdown",
   "id": "a2d33bc7-b5f8-4f12-9f14-aca7120b961c",
   "metadata": {},
   "source": [
    "- Criei uma lista vazia e um laço for estabelecendo que após as inclusões atribuídas, teríamos os cáculos da média.\n",
    "- No bloco if as condições após lancamento das notas coms eus respsctivos print"
   ]
  },
  {
   "cell_type": "code",
   "execution_count": 12,
   "id": "bcd1a4c0-15db-4dcb-991b-d287df8f7570",
   "metadata": {},
   "outputs": [
    {
     "name": "stdin",
     "output_type": "stream",
     "text": [
      "Digite a nota 1 Aluno:  6.5\n",
      "Digite a nota 2 Aluno:  8\n"
     ]
    },
    {
     "name": "stdout",
     "output_type": "stream",
     "text": [
      "A Média do Aluno é: 7.25\n",
      "Aprovado\n",
      "-=-=-=-=-=-=-=-=-=-=-=-=-=-=-=-=-=-=-=-=-=-=-=-=-=-=-=-=-=-=-=-=-=-=-=-=-=-=-=-=-=-=-=-=-=-=-=-=-=-=\n"
     ]
    }
   ],
   "source": [
    "notas = []\n",
    "\n",
    "for i in range(1, 3):\n",
    "    nota = float(input(f\"Digite a nota {i} Aluno: \"))\n",
    "    notas.append(nota)\n",
    "    \n",
    "media = sum(notas)/2\n",
    "\n",
    "print(f\"A Média do Aluno é: {media}\")\n",
    "\n",
    "if media == 10:\n",
    "    print(\"Aprovado com Distinção\")\n",
    "elif media >= 7:\n",
    "    print(\"Aprovado\")\n",
    "else:\n",
    "    print(\"Reprovado\")\n",
    "print('-='*50)"
   ]
  },
  {
   "attachments": {},
   "cell_type": "markdown",
   "id": "cb1da319-54f5-4e29-9bd7-6225bc5975ee",
   "metadata": {},
   "source": [
    "\n",
    "- ### 6 - Faça um programa que leia três números e mostre o maior deles.\r\n",
    "\n",
    "<br>\n"
   ]
  },
  {
   "cell_type": "markdown",
   "id": "a3acf51b-ca34-445c-a4d0-047328aa5636",
   "metadata": {},
   "source": [
    "- Criei uma função solitei o retorno do maior número, fiz uma lista vazia para receber os três números via input dentro do bloco chamei o input e inserindo append para que o laço retorne o maior número e encerre conforme proposto, sendo evidenciado no print"
   ]
  },
  {
   "cell_type": "code",
   "execution_count": 118,
   "id": "6f032c50-1add-42b9-a95c-5a46aa52b2d4",
   "metadata": {},
   "outputs": [
    {
     "name": "stdin",
     "output_type": "stream",
     "text": [
      "Digite um número:  15\n",
      "Digite um número:  -4\n",
      "Digite um número:  10\n"
     ]
    },
    {
     "name": "stdout",
     "output_type": "stream",
     "text": [
      "O maior número é 15.0\n",
      "-=-=-=-=-=-=-=-=-=-=-=-=-=-=-=-=-=-=-=-=-=-=-=-=-=-=-=-=-=-=-=-=-=-=-=-=-=-=-=-=-=-=-=-=-=-=-=-=-=-=\n"
     ]
    }
   ],
   "source": [
    "def maior_numero(num1, num2, num3):\n",
    "    return max(*numeros)\n",
    "\n",
    "numeros = []\n",
    "for i in range(3):\n",
    "    while True:\n",
    "        try:\n",
    "            num = float(input(\"Digite um número: \"))\n",
    "            numeros.append(num)\n",
    "            break\n",
    "        except ValueError:\n",
    "            print('Por favor, digite um número válido.')\n",
    "\n",
    "num_maior = maior_numero(*numeros)\n",
    "print(f\"O maior número é {num_maior}\")\n",
    "print('-='*50)"
   ]
  },
  {
   "attachments": {},
   "cell_type": "markdown",
   "id": "cdb75e7c-7c93-4c20-8249-99289d482166",
   "metadata": {},
   "source": [
    "\n",
    "- ### 7 - Faça um programa que leia  três números e mostra o maior e o menor deles.\r\n",
    "\r",
    "<br>\n"
   ]
  },
  {
   "cell_type": "markdown",
   "id": "c191af2b-6581-45e9-aa31-d84bb2b91fa3",
   "metadata": {},
   "source": [
    "- Criei uma função pedindo retorno do min e max dos números inseridos no input dentro do bloco atribuído, evidenciado no print"
   ]
  },
  {
   "cell_type": "code",
   "execution_count": 122,
   "id": "9e59e10a-211e-4a99-9157-d8e16b35bf69",
   "metadata": {},
   "outputs": [
    {
     "name": "stdin",
     "output_type": "stream",
     "text": [
      "Digite um número:  1\n",
      "Digite um número:  20\n",
      "Digite um número:  30\n"
     ]
    },
    {
     "name": "stdout",
     "output_type": "stream",
     "text": [
      "O menor número inserido foi: 1.0\n",
      "O maior número inserido foi: 30.0\n",
      "-=-=-=-=-=-=-=-=-=-=-=-=-=-=-=-=-=-=-=-=-=-=-=-=-=-=-=-=-=-=-=-=-=-=-=-=-=-=-=-=-=-=-=-=-=-=-=-=-=-=\n"
     ]
    }
   ],
   "source": [
    "def menor_maior_numero(numeros):\n",
    "    return min(numeros), max(numeros)\n",
    "\n",
    "numeros = []\n",
    "for i in range(3):\n",
    "    while True:\n",
    "        try:\n",
    "            num = float(input(\"Digite um número: \"))\n",
    "            numeros.append(num)\n",
    "            break\n",
    "        except ValueError:\n",
    "            print('Por favor, digite um número válido.')\n",
    "\n",
    "num_menor, num_maior = menor_maior_numero(numeros)\n",
    "\n",
    "print(f\"O menor número inserido foi: {num_menor}\")\n",
    "print(f\"O maior número inserido foi: {num_maior}\")\n",
    "print('-='*50)"
   ]
  },
  {
   "attachments": {},
   "cell_type": "markdown",
   "id": "c6216e10-25d9-4e6a-9915-72b8eafc4943",
   "metadata": {},
   "source": [
    "- ### 8 - Faça um programa que pergunte o preço de três produtos e informe qual produto você deve comprar, sabendo que a decisão é sempre pelo mais barato.\r\n",
    "\r",
    "<br>\n"
   ]
  },
  {
   "cell_type": "markdown",
   "id": "0a83ecd8-28ec-4b15-8b3c-7f4819267eaa",
   "metadata": {},
   "source": [
    "- Criei a função com dicionário, calculando os itens relacionados chaves e valor dos produtos que serão informados via input\n",
    "- Na iteração for estou atribuindo os valores do input em uma lista vazia com condicões criadas pelo for, while True e um bloco try except\n",
    "- Para finalizar chamei a função calculada e valores do nosso dicionário chaves(produtos_123) e valores(menor_preco) exibidos no print final."
   ]
  },
  {
   "cell_type": "code",
   "execution_count": 24,
   "id": "b65b0be1-6c16-46b4-8f97-73d0d16acb2b",
   "metadata": {},
   "outputs": [
    {
     "name": "stdin",
     "output_type": "stream",
     "text": [
      "Digite o preço do 1º produto:  500\n",
      "Digite o preço do 2º produto:  550\n",
      "Digite o preço do 3º produto:  680\n"
     ]
    },
    {
     "name": "stdout",
     "output_type": "stream",
     "text": [
      "A indicação de compra é pelo produto_1 de menor preço R$ 500.0\n",
      "-=-=-=-=-=-=-=-=-=-=-=-=-=-=-=-=-=-=-=-=-=-=-=-=-=-=-=-=-=-=-=-=-=-=-=-=-=-=-=-=-=-=-=-=-=-=-=-=-=-=\n"
     ]
    }
   ],
   "source": [
    "def melhor_compra(produto_1, produto_2, produto_3):\n",
    "    produtos = {\n",
    "        'produto_1': produto_1, \n",
    "        'produto_2': produto_2, \n",
    "        'produto_3': produto_3 \n",
    "    }\n",
    "    \n",
    "    produtos_123, menor_preco = min(produtos.items(), key=lambda x: x[1])\n",
    "    return produtos_123, menor_preco\n",
    "\n",
    "produtos = []\n",
    "for i in range(3):\n",
    "    while True:\n",
    "        try:\n",
    "            produto = float(input(f\"Digite o preço do {i + 1}º produto: \"))\n",
    "            produtos.append(produto)\n",
    "            break\n",
    "        except ValueError:\n",
    "            print('Por favor, digite um preço válido.')\n",
    "\n",
    "produtos_123, menor_preco = melhor_compra(*produtos)\n",
    "print(f\"A indicação de compra é pelo {produtos_123} de menor preço R$ {menor_preco}\")\n",
    "print('-='*50)"
   ]
  },
  {
   "attachments": {},
   "cell_type": "markdown",
   "id": "c6640c76-06a0-49c1-a062-2ff8da651998",
   "metadata": {},
   "source": [
    "- ### 9 - Faça um Programa que leia três números e mostre-os em ordem decrescente.\r\n",
    "\r",
    "<br>\n"
   ]
  },
  {
   "cell_type": "markdown",
   "id": "ca4bfa85-f276-4830-a11c-4a3aa9cae745",
   "metadata": {},
   "source": [
    "- Criei uma lista chamada numeros e então utilizei a função sorted para ordenar esses números em ordem decrescente.\n",
    "- Utilizando função, atribuindo condições para inserir os números e parar o loop e posterior tratando erros\n",
    "- Para finalizar chamei a função calculada e solicitei o print"
   ]
  },
  {
   "cell_type": "code",
   "execution_count": 119,
   "id": "60e9ffd6-5350-46ac-b4d5-6f0d9d0912bd",
   "metadata": {},
   "outputs": [
    {
     "name": "stdin",
     "output_type": "stream",
     "text": [
      "Digite um número:  80\n",
      "Digite um número:  70\n",
      "Digite um número:  85\n"
     ]
    },
    {
     "name": "stdout",
     "output_type": "stream",
     "text": [
      "Os números em ordem decrescente são [85.0, 80.0, 70.0]\n",
      "-=-=-=-=-=-=-=-=-=-=-=-=-=-=-=-=-=-=-=-=-=-=-=-=-=-=-=-=-=-=-=-=-=-=-=-=-=-=-=-=-=-=-=-=-=-=-=-=-=-=\n"
     ]
    }
   ],
   "source": [
    "def ordene_numeros(numero_1, numero_2, numero_3):\n",
    "    numeros = [numero_1, numero_2, numero_3]\n",
    "    return sorted(numeros, reverse=True)\n",
    "\n",
    "numeros = [] \n",
    "for i in range(3): \n",
    "    while True: \n",
    "        try: \n",
    "            num = float(input(\"Digite um número: \")) \n",
    "            numeros.append(num) \n",
    "            break \n",
    "        except ValueError: \n",
    "            print('Por favor, digite um número válido.')\n",
    "\n",
    "num_ordenados = ordene_numeros(*numeros) \n",
    "print(f\"Os números em ordem decrescente são {num_ordenados }\")\n",
    "print('-='*50)"
   ]
  },
  {
   "attachments": {},
   "cell_type": "markdown",
   "id": "893fcf1d-a816-4b2f-9ab3-1c98aa195073",
   "metadata": {},
   "source": [
    "- ### 10 - As Organizações Tabajara resolveram dar um aumento de salário aos seus colaboradores e você foi contratado para desenvolver o programa que calculará os reajustes.\n",
    "- ### Faça um programa que recebe o salário de um colaborador e o reajuste segundo o seguinte critério, baseado no salário atual:\n",
    "```\n",
    "- salários até R$ 250,00 (incluindo) : aumento de 13%\n",
    "- salários entre R$ 250,00 e R$ 600,00 : aumento de 17%\n",
    "- salários entre R$ 600,00 e R$ 1400,00 : aumento de 9%\n",
    "- salários de R$ 1400,00 em diante : aumento de 7% Após o aumento ser realizado, informe na tela:\n",
    "- o salário antes do reajuste;\n",
    "- o percentual de aumento aplicado;\n",
    "- o valor do aumento;\n",
    "- o novo salário, após o aumento.\n",
    "```\n",
    "\n",
    "\n",
    "<br>\n",
    "\n"
   ]
  },
  {
   "cell_type": "markdown",
   "id": "370052a6-1794-4776-b5c3-87f5a955e7a8",
   "metadata": {},
   "source": [
    "- Criei a função tratando na entrada manualmente com raise evitando valores negativos é feita uma verificação para garantir que o valor do salário informado não seja negativo. Caso seja menor ou igual a zero, a função lança uma exceção do tipo ValueError\n",
    "- Na sequencia o bloco if, elif, else define as faixas de salários e os respectivos percentuais de aumento de acordo com cada faixa estabelecida\n",
    "- Realizei os cálculos conforme definições no bloco acima if e após o retorno dentro de um bloco try, except foi definido o input e chamando percentual, aumento, novo_salario = reajuste_salarial, a função é executada e os valores de percentual, aumento e novo_salario são extraídos da tupla retornada pela função, atribuindo-os na sequência em que estão ordenados na tupla.\n",
    "- Finalizando temos o print das resoluções e print dos tratamentos "
   ]
  },
  {
   "cell_type": "code",
   "execution_count": 38,
   "id": "ff5ba557-2413-470d-83b3-314b7ac96740",
   "metadata": {
    "scrolled": true
   },
   "outputs": [
    {
     "name": "stdin",
     "output_type": "stream",
     "text": [
      "Informe o salário do colaborador: R$ 250\n"
     ]
    },
    {
     "name": "stdout",
     "output_type": "stream",
     "text": [
      "Salário antes do reajuste: R$250.00\n",
      "Percentual de aumento aplicado: 13%\n",
      "Valor do aumento: R$32.50\n",
      "Novo salário após o reajuste: R$282.50\n",
      "-=-=-=-=-=-=-=-=-=-=-=-=-=-=-=-=-=-=-=-=-=-=-=-=-=-=-=-=-=-=-=-=-=-=-=-=-=-=-=-=-=-=-=-=-=-=-=-=-=-=\n"
     ]
    }
   ],
   "source": [
    "def reajuste_salarial(salario):\n",
    "    if salario <= 0:\n",
    "        raise ValueError(\"O salário não pode ser negativo.\")\n",
    "    \n",
    "    percentual_aumento = 0\n",
    "    valor_aumento = 0\n",
    "    novo_salario = salario\n",
    "    \n",
    "    if salario <= 250:\n",
    "        percentual_aumento = 13\n",
    "    elif salario <= 600:\n",
    "        percentual_aumento = 17\n",
    "    elif salario <= 1400:\n",
    "        percentual_aumento = 9\n",
    "    else:\n",
    "        percentual_aumento = 7\n",
    "\n",
    "    valor_aumento = (percentual_aumento / 100) * salario\n",
    "    novo_salario = salario + valor_aumento\n",
    "\n",
    "    return percentual_aumento, valor_aumento, novo_salario\n",
    "\n",
    "try:\n",
    "    salario = float(input(\"Informe o salário do colaborador: R$\"))\n",
    "    \n",
    "    percentual, aumento, novo_salario = reajuste_salarial(salario)\n",
    "    \n",
    "    print(f'Salário antes do reajuste: R${salario:.2f}')\n",
    "    print(f'Percentual de aumento aplicado: {percentual}%')\n",
    "    print(f'Valor do aumento: R${aumento:.2f}') \n",
    "    print(f'Novo salário após o reajuste: R${novo_salario:.2f}')\n",
    "except ValueError:\n",
    "    print(\"Erro: Não inserir zero, valor negativo ou caracteres inválidos para o salário.\")\n",
    "print('-='*50)"
   ]
  },
  {
   "attachments": {},
   "cell_type": "markdown",
   "id": "a7b3ed1b-e80d-48c4-ae40-aab7a1e8c6ee",
   "metadata": {},
   "source": [
    "- ### 11 - Faça um Programa que leia um número e exiba o dia correspondente da semana. (1-Domingo, 2- Segunda, etc.), se digitar outro valor deve aparecer valor inválido.\r\n",
    "\r",
    "<br> "
   ]
  },
  {
   "cell_type": "markdown",
   "id": "0c22568d-540a-4a67-8f5c-d20166a344dd",
   "metadata": {},
   "source": [
    "- Criei a variável dias_semana através de um dicionário com chave e valor, mensagem de saudação e instruções.\n",
    "- Criei uma condição com while True e no bloco try oos inputs, calculos dos items(dicionário) e tratativas "
   ]
  },
  {
   "cell_type": "code",
   "execution_count": 124,
   "id": "0666782c-0b81-42de-907a-c14f2e2d84d3",
   "metadata": {},
   "outputs": [
    {
     "name": "stdout",
     "output_type": "stream",
     "text": [
      "Bem-vindo!\n",
      "Para sair, digite 0.\n",
      "\n"
     ]
    },
    {
     "name": "stdin",
     "output_type": "stream",
     "text": [
      " Insira de 1 a 7, o numero correspondente ao dia da semana desejado:  1\n"
     ]
    },
    {
     "name": "stdout",
     "output_type": "stream",
     "text": [
      "Domingo\n"
     ]
    },
    {
     "name": "stdin",
     "output_type": "stream",
     "text": [
      " Insira de 1 a 7, o numero correspondente ao dia da semana desejado:  2\n"
     ]
    },
    {
     "name": "stdout",
     "output_type": "stream",
     "text": [
      "Segunda-feira\n"
     ]
    },
    {
     "name": "stdin",
     "output_type": "stream",
     "text": [
      " Insira de 1 a 7, o numero correspondente ao dia da semana desejado:  3\n"
     ]
    },
    {
     "name": "stdout",
     "output_type": "stream",
     "text": [
      "Terça-feira\n"
     ]
    },
    {
     "name": "stdin",
     "output_type": "stream",
     "text": [
      " Insira de 1 a 7, o numero correspondente ao dia da semana desejado:  4\n"
     ]
    },
    {
     "name": "stdout",
     "output_type": "stream",
     "text": [
      "Quarta-feira\n"
     ]
    },
    {
     "name": "stdin",
     "output_type": "stream",
     "text": [
      " Insira de 1 a 7, o numero correspondente ao dia da semana desejado:  5\n"
     ]
    },
    {
     "name": "stdout",
     "output_type": "stream",
     "text": [
      "Quinta-feira\n"
     ]
    },
    {
     "name": "stdin",
     "output_type": "stream",
     "text": [
      " Insira de 1 a 7, o numero correspondente ao dia da semana desejado:  6\n"
     ]
    },
    {
     "name": "stdout",
     "output_type": "stream",
     "text": [
      "Sexta-feira\n"
     ]
    },
    {
     "name": "stdin",
     "output_type": "stream",
     "text": [
      " Insira de 1 a 7, o numero correspondente ao dia da semana desejado:  7\n"
     ]
    },
    {
     "name": "stdout",
     "output_type": "stream",
     "text": [
      "Sábado\n"
     ]
    },
    {
     "name": "stdin",
     "output_type": "stream",
     "text": [
      " Insira de 1 a 7, o numero correspondente ao dia da semana desejado:  0\n"
     ]
    },
    {
     "name": "stdout",
     "output_type": "stream",
     "text": [
      "Saindo do programa...\n",
      "-=-=-=-=-=-=-=-=-=-=-=-=-=-=-=-=-=-=-=-=-=-=-=-=-=-=-=-=-=-=-=-=-=-=-=-=-=-=-=-=-=-=-=-=-=-=-=-=-=-=\n"
     ]
    }
   ],
   "source": [
    "dias_semana = {\n",
    "    \"Domingo\": 1,\n",
    "    \"Segunda-feira\": 2,\n",
    "    \"Terça-feira\": 3,\n",
    "    \"Quarta-feira\": 4,\n",
    "    \"Quinta-feira\": 5,\n",
    "    \"Sexta-feira\": 6,\n",
    "    \"Sábado\": 7\n",
    "}\n",
    "\n",
    "print(\"Bem-vindo!\")\n",
    "print(\"Para sair, digite 0.\")\n",
    "print(\"\")\n",
    "\n",
    "while True:\n",
    "    try:\n",
    "        numero_dia = input(\" Insira de 1 a 7, o numero correspondente ao dia da semana desejado: \")\n",
    "\n",
    "        if numero_dia == '0':\n",
    "            print(\"Saindo do programa...\")\n",
    "            break\n",
    "\n",
    "        numero = int(numero_dia)\n",
    "\n",
    "        if 1 <= numero <= 7:\n",
    "            for dia, num in dias_semana.items():\n",
    "                if num == numero:\n",
    "                    print(dia)\n",
    "        else:\n",
    "            print(\"Valor inválido\")\n",
    "    except ValueError:\n",
    "        print(\"Por favor, digite um valor numérico válido.\")\n",
    "        \n",
    "print('-='*50)\n"
   ]
  },
  {
   "cell_type": "markdown",
   "id": "39379eec-42f9-4110-a58a-cfaefa7550b3",
   "metadata": {},
   "source": [
    "- ### 12 -  Faça um programa que lê as duas notas parciais obtidas por um aluno numa disciplina ao longo de um semestre, e calcule a sua média. A atribuição de conceitos obedece à tabela abaixo:\n",
    "```\n",
    " - Média de Aproveitamento  Conceito\n",
    "     Entre 9.0 e 10.0         A\n",
    "     Entre 7.5 e 9.0          B\n",
    "     Entre 6.0 e 7.5          C\n",
    "     Entre 4.0 e 6.0          D\n",
    "     Entre 4.0 e zero         E\n",
    "\n",
    "- O algoritmo deve mostrar na tela as notas, a média, o conceito correspondente e a mensagem “APROVADO, parabéns!” se o conceito for A, B ou C ou “REPROVADO, estude mais.” se o conceito for D ou E.\n",
    "\n",
    "```\n",
    "\n",
    "<br>\n"
   ]
  },
  {
   "cell_type": "markdown",
   "id": "10b0a202-abd3-4e8a-bd85-182705072261",
   "metadata": {},
   "source": [
    "- Criei a função calculo_media() para calcular a média de duas notas inseridas pelo usuário, a partir dessa média, retornar um conceito (A, B, C, D) de acordo com os critérios estabelecidos no dicionário media_conceitos. O conceito atribuído a cada média.\n",
    "-  No print inseri as notas 1° e 2°, media e o conceito"
   ]
  },
  {
   "cell_type": "code",
   "execution_count": 52,
   "id": "713e5868-d16a-4b8f-9123-794374c709f4",
   "metadata": {},
   "outputs": [
    {
     "name": "stdin",
     "output_type": "stream",
     "text": [
      "Digite a 1ª nota:  10\n",
      "Digite a 2ª nota:  8\n"
     ]
    },
    {
     "name": "stdout",
     "output_type": "stream",
     "text": [
      "Notas: 10.0 e 8.0\n",
      "Média: 9.0\n",
      "Conceito: B\n",
      "APROVADO, parabéns!\n",
      "-=-=-=-=-=-=-=-=-=-=-=-=-=-=-=-=-=-=-=-=-=-=-=-=-=-=-=-=-=-=-=-=-=-=-=-=-=-=-=-=-=-=-=-=-=-=-=-=-=-=\n"
     ]
    }
   ],
   "source": [
    "def calculo_media():\n",
    "    notas = []\n",
    "    for i in range(2):\n",
    "        while True:\n",
    "            nota = float(input(f\"Digite a {i+1}ª nota: \"))\n",
    "            if 0 <= nota <= 10: \n",
    "                notas.append(nota)\n",
    "                break\n",
    "            else:\n",
    "                print(\"Por favor, digite uma nota válida (entre 0 e 10).\")\n",
    "\n",
    "    media = sum(notas) / 2\n",
    "\n",
    "    media_conceitos = {10: \"A\", 9: \"B\", 7.5: \"B\", 7: \"C\", 6: \"C\", 4: \"D\"}\n",
    "    media_conceito = max([key for key in media_conceitos if media >= key])\n",
    "    mensagem = \"APROVADO, parabéns!\" if media_conceitos[media_conceito] in [\"A\", \"B\", \"C\"] \\\n",
    "    else \"REPROVADO, estude mais.\"\n",
    "\n",
    "   \n",
    "    print(f\"Notas: {notas[0]} e {notas[1]}\")\n",
    "    print(f\"Média: {media}\")\n",
    "    print(f\"Conceito: {media_conceitos[media_conceito]}\")\n",
    "    print(mensagem)\n",
    "\n",
    "calculo_media()\n",
    "print('-='*50)"
   ]
  },
  {
   "cell_type": "markdown",
   "id": "ecf96a9f-337a-443a-a20e-abe5be7e73ff",
   "metadata": {},
   "source": [
    "- ### 13 - Faça um Programa que peça os 3 lados de um triângulo. O programa deverá informar se os valores podem ser um triângulo. Indique, caso os lados formem um triângulo, se o mesmo é: equilátero, isósceles ou escaleno.\n",
    "```\n",
    "- Dicas:\n",
    "\n",
    " - Três lados formam um triângulo quando a soma de quaisquer dois lados for maior que o terceiro;\n",
    " - Triângulo Equilátero: três lados iguais;\n",
    " - Triângulo Isósceles: quaisquer dois lados iguais;\n",
    " - Triângulo Escaleno: três lados diferentes;\n",
    "\n",
    "```\n",
    "\n",
    "<br>"
   ]
  },
  {
   "cell_type": "markdown",
   "id": "dc6a28b4-3cac-40cb-a5b6-f4be6ffd5004",
   "metadata": {},
   "source": [
    "- Criei a função triangulo recebe os três lados do triângulo como parâmetros e, somando os dois lados de um triângulo deve ser maior que o terceiro lado, verificando se os valores fornecidos podem formar um triângulo. Caso contrário, a função retorna \"Não é um triângulo\".\n",
    "- Através do bloco try, inseri o input e os tratamentos para possíveis erros na entrada e de forma mais refinada no uso de except após break."
   ]
  },
  {
   "cell_type": "code",
   "execution_count": 54,
   "id": "05e5fbdd-4668-475f-ab06-4bd238c9c6cb",
   "metadata": {},
   "outputs": [
    {
     "name": "stdin",
     "output_type": "stream",
     "text": [
      "Digite o valor do primeiro lado do triângulo:  10\n",
      "Digite o valor do segundo lado do triângulo:  10\n",
      "Digite o valor do terceiro lado do triângulo:  5\n"
     ]
    },
    {
     "name": "stdout",
     "output_type": "stream",
     "text": [
      "Triângulo Isósceles\n",
      "-=-=-=-=-=-=-=-=-=-=-=-=-=-=-=-=-=-=-=-=-=-=-=-=-=-=-=-=-=-=-=-=-=-=-=-=-=-=-=-=-=-=-=-=-=-=-=-=-=-=\n"
     ]
    }
   ],
   "source": [
    "def triangulo(lado1, lado2, lado3):\n",
    "   \n",
    "\n",
    "    if lado1 + lado2 > lado3 and lado1 + lado3 > lado2 and lado2 + lado3 > lado1:\n",
    "        if lado1 == lado2 == lado3:\n",
    "            return \"Triângulo Equilátero\"\n",
    "        elif lado1 == lado2 or lado1 == lado3 or lado2 == lado3:\n",
    "            return \"Triângulo Isósceles\"\n",
    "        else:\n",
    "            return \"Triângulo Escaleno\"\n",
    "    else:\n",
    "        return \"Não é um triângulo\"\n",
    "\n",
    "while True:\n",
    "    try:\n",
    "        lado1 = float(input(\"Digite o valor do primeiro lado do triângulo: \"))\n",
    "        lado2 = float(input(\"Digite o valor do segundo lado do triângulo: \"))\n",
    "        lado3 = float(input(\"Digite o valor do terceiro lado do triângulo: \"))\n",
    "\n",
    "        if lado1 <= 0 or lado2 <= 0 or lado3 <= 0:\n",
    "            raise ValueError(\"Os lados do triângulo devem ser maiores que zero.\")\n",
    "\n",
    "        resultado = triangulo(lado1, lado2, lado3)\n",
    "        print(resultado)\n",
    "        break  \n",
    "\n",
    "    except ValueError as error:\n",
    "        print(f\"Erro: {error}\")\n",
    "print('-='*50)"
   ]
  },
  {
   "cell_type": "markdown",
   "id": "400ce6e0-d07d-4586-bef7-e2a05cf6cc03",
   "metadata": {},
   "source": [
    "- ### 14 - Faça um programa que calcule as raízes de uma equação do segundo grau, na forma ax2 + bx + c. O programa deverá pedir os valores de a, b e c e fazer as consistências, informando ao usuário nas seguintes situações:\n",
    "\n",
    "```\n",
    "- Se o usuário informar o valor de A igual a zero, a equação não é do segundo grau e o programa não deve fazer pedir os demais valores, sendo encerrado;\n",
    "- Se o delta calculado for negativo, a equação não possui raizes reais. Informe ao usuário e encerre o programa;\n",
    "- Se o delta calculado for igual a zero a equação possui apenas uma raiz real; informe-a ao usuário;\n",
    "- Se o delta for positivo, a equação possui duas raiz reais; informe-as ao usuário;\n",
    "\n",
    "```\n",
    "\n",
    "<br>"
   ]
  },
  {
   "cell_type": "markdown",
   "id": "53e6388c-85b4-40f6-a652-a4929aefff8a",
   "metadata": {},
   "source": [
    "- Criei a função estabelendo coma formula de Bhaskara o calculo de delta e a condição se a for igual a 0 no input já será encerrado pois a equação não é de 2° grau.\n",
    "- Dentro do bloco if, elif e else as condições foram estabelecidas após o input chamamos a função com else sob print no final garantindo a condição de a\n",
    "  "
   ]
  },
  {
   "cell_type": "code",
   "execution_count": 56,
   "id": "6a115862-a1c4-4e55-97dd-c8ab72cbd6e6",
   "metadata": {},
   "outputs": [
    {
     "name": "stdin",
     "output_type": "stream",
     "text": [
      "Digite o valor de a:  0\n"
     ]
    },
    {
     "name": "stdout",
     "output_type": "stream",
     "text": [
      "a igual a 0, a equação não é do segundo grau.\n",
      "Encerrando o programa.\n",
      "-=-=-=-=-=-=-=-=-=-=-=-=-=-=-=-=-=-=-=-=-=-=-=-=-=-=-=-=-=-=-=-=-=-=-=-=-=-=-=-=-=-=-=-=-=-=-=-=-=-=\n"
     ]
    }
   ],
   "source": [
    "import math\n",
    "\n",
    "def calculo_raizes(a, b, c):\n",
    "    \n",
    "    delta = b**2 - 4*a*c\n",
    "\n",
    "    if a != 0:  # Se a é diferente de zero\n",
    "        if delta < 0:  # Delta negativo: sem raízes reais\n",
    "            print(\"Não existem raízes reais para esta equação.\")\n",
    "        elif delta == 0:  # Delta igual a zero: uma raiz real\n",
    "            x = -b / (2 * a)\n",
    "            print(\"A única raiz real é:\", x)\n",
    "        else:  # Delta positivo: duas raízes reais\n",
    "            x1 = (-b + math.sqrt(delta)) / (2*a)\n",
    "            x2 = (-b - math.sqrt(delta)) / (2*a)\n",
    "            print(\"As raízes reais são:\", x1, \"e\", x2)\n",
    "    \n",
    "a = float(input(\"Digite o valor de a: \"))  # Recebe o valor de a do usuário\n",
    "if a != 0:\n",
    "    b = float(input(\"Digite o valor de b: \"))\n",
    "    c = float(input(\"Digite o valor de c: \"))\n",
    "\n",
    "    calculo_raizes(a, b, c)  # Chama a função para calcular as raízes\n",
    "else:\n",
    "    print(\"a igual a 0, a equação não é do segundo grau.\")\n",
    "    print(\"Encerrando o programa.\")\n",
    "print('-='*50)"
   ]
  },
  {
   "attachments": {},
   "cell_type": "markdown",
   "id": "0664282d-3c9d-4b59-8fbb-11febd2a7705",
   "metadata": {},
   "source": [
    "- ### 15- Faça um Programa que peça um número correspondente a um determinado ano e em seguida informe se este ano é ou não bissexto.\r\n",
    "\n",
    "<br>\r\n"
   ]
  },
  {
   "cell_type": "markdown",
   "id": "1d9a6b14-7cbe-4822-a57b-1727de983f7c",
   "metadata": {},
   "source": [
    "- Função para que nos traga se o ano é bissexto ou não, no bloco if e else foram passadas as condições com o calculo para o correto retorno \n",
    "- Foi criado um bloco try, except para o input e tratamento de possíveis erros "
   ]
  },
  {
   "cell_type": "code",
   "execution_count": 131,
   "id": "896c8ee9-3ef4-48a1-8fb1-361b32dc3bbb",
   "metadata": {},
   "outputs": [
    {
     "name": "stdin",
     "output_type": "stream",
     "text": [
      "Digite um ano para saber se é bissexto:  2024\n"
     ]
    },
    {
     "name": "stdout",
     "output_type": "stream",
     "text": [
      "2024 é um ano bissexto.\n",
      "-=-=-=-=-=-=-=-=-=-=-=-=-=-=-=-=-=-=-=-=-=-=-=-=-=-=-=-=-=-=-=-=-=-=-=-=-=-=-=-=-=-=-=-=-=-=-=-=-=-=\n"
     ]
    }
   ],
   "source": [
    "def bissexto(ano):\n",
    "    if ano <= 0:\n",
    "        return 'Por favor, digite um ano positivo.'\n",
    "    \n",
    "    if (ano % 400 == 0) or ((ano % 4 == 0) and (ano % 100 != 0)):\n",
    "        return f'{ano} é um ano bissexto.'\n",
    "    else:\n",
    "        return f'{ano} não é um ano bissexto.'\n",
    "\n",
    "try:\n",
    "    ano = int(input(\"Digite um ano para saber se é bissexto: \"))\n",
    "    print(bissexto(ano))\n",
    "except ValueError:\n",
    "    print('Por favor, digite um ano válido.')\n",
    "print('-='*50)\n"
   ]
  },
  {
   "attachments": {},
   "cell_type": "markdown",
   "id": "1dfeef37-b957-4eef-adfa-b7465e5c70cd",
   "metadata": {},
   "source": [
    "- ### 16 -Faça um Programa que peça uma data no formato dd-mm-aaaa e determine se a mesma é uma data válida.\r\n",
    "<br>\n"
   ]
  },
  {
   "cell_type": "markdown",
   "id": "896702e5-e364-4ea3-9db1-b36ce569259b",
   "metadata": {},
   "source": [
    "- Criei uma função pedindo dia-mes-ano separados no formato solicitado informando chave e valores em dicionário\n",
    "- Estabeleci através de If algumas condições específicas para ano Bissexto para que todas as datas sejam tratadas sem problemas"
   ]
  },
  {
   "cell_type": "code",
   "execution_count": 60,
   "id": "60f31186-7ee1-4075-aea4-ca4ef68d3de5",
   "metadata": {},
   "outputs": [
    {
     "name": "stdin",
     "output_type": "stream",
     "text": [
      "Digite a data no formato dd-mm-aaaa.:  31-12-2024\n"
     ]
    },
    {
     "name": "stdout",
     "output_type": "stream",
     "text": [
      "Data válida.\n",
      "-=-=-=-=-=-=-=-=-=-=-=-=-=-=-=-=-=-=-=-=-=-=-=-=-=-=-=-=-=-=-=-=-=-=-=-=-=-=-=-=-=-=-=-=-=-=-=-=-=-=\n"
     ]
    }
   ],
   "source": [
    "def formato_data(data):\n",
    "    try:\n",
    "        dia, mes, ano = map(int, data.split('-'))\n",
    "        meses_days = {\n",
    "            1: 31, 2: 28, 3: 31, 4: 30, 5: 31, 6: 30,\n",
    "            7: 31, 8: 31, 9: 30, 10: 31, 11: 30, 12: 31\n",
    "        }\n",
    "\n",
    "        if mes > 12 or mes < 1:\n",
    "            return 'Data inválida.'\n",
    "\n",
    "        if ano > 0:\n",
    "            if (ano % 4 == 0 and ano % 100 != 0) or (ano % 400 == 0):\n",
    "                meses_days[2] = 29\n",
    "\n",
    "        if mes == 2 and (ano % 4 == 0 and ano % 100 != 0) or (ano % 400 == 0):\n",
    "            if dia > 29:\n",
    "                return 'Data inválida.'\n",
    "        else:\n",
    "            if dia > meses_days[mes] or dia < 1:\n",
    "                return 'Data inválida.'\n",
    "\n",
    "        return 'Data válida.'\n",
    "    except (ValueError, KeyError):\n",
    "        return 'Digite a data no formato dd-mm-aaaa.'\n",
    "\n",
    "try:\n",
    "    data = input(\"Digite a data no formato dd-mm-aaaa.: \")\n",
    "    print(formato_data(data))\n",
    "except:\n",
    "    print('Por favor, digite uma data válida.')\n",
    "print('-=' * 50)"
   ]
  },
  {
   "cell_type": "markdown",
   "id": "b54c8174-ef59-4f0f-baa0-a1fbceae0dc7",
   "metadata": {},
   "source": [
    "- ### 17 - Faça um Programa que leia um número inteiro menor que 1000 e imprima a quantidade de centenas, dezenas e unidades do mesmo.\n",
    "\n",
    "```\n",
    "- Observando os termos no plural a colocação do \"e\", da vírgula entre outros. Exemplo:\n",
    "- 326 = 3 centenas, 2 dezenas e 6 unidades\n",
    "- 12 = 1 dezena e 2 unidades Testar com: 326, 300, 100, 320, 310,305, 301, 101, 311, 111, 25, 20, 10, 21, 11, 1, 7 e 16\n",
    "```\n",
    "\n",
    "<br>"
   ]
  },
  {
   "cell_type": "markdown",
   "id": "37cb593c-4788-47e9-9b4f-62c1a1876784",
   "metadata": {},
   "source": [
    "- Criando uma função que me permita através das variáveis elaboradas conforme enunciado centenas, dezenas e unidades calcular uma função para\n",
    "um número inteiro menor que 1000, dentro do bloco if foi estabelecido as condições para o resultado com retonro da função\n",
    "- Através da variável numero pedi o input 'número inteiro menor que 1000' calculando resultado retorna com print uma string formatada com essas quantidades"
   ]
  },
  {
   "cell_type": "code",
   "execution_count": 86,
   "id": "1903a08e-002f-4328-8428-27c3a3cb1f10",
   "metadata": {},
   "outputs": [
    {
     "name": "stdin",
     "output_type": "stream",
     "text": [
      "Digite um número inteiro menor que 1000:  326\n"
     ]
    },
    {
     "name": "stdout",
     "output_type": "stream",
     "text": [
      "O número 326 possui 3 centenas e 2 dezenas e 6 unidades.\n",
      "-=-=-=-=-=-=-=-=-=-=-=-=-=-=-=-=-=-=-=-=-=-=-=-=-=-=-=-=-=-=-=-=-=-=-=-=-=-=-=-=-=-=-=-=-=-=-=-=-=-=\n"
     ]
    }
   ],
   "source": [
    "def calculo_quantidade(numero):\n",
    "    \n",
    "    centenas = numero // 100\n",
    "    dezenas = (numero % 100) // 10\n",
    "    unidades = numero % 10\n",
    "\n",
    "    funcao = \"\"\n",
    "\n",
    " \n",
    "    if centenas > 0:\n",
    "        funcao += f\"{centenas} centenas\"\n",
    "\n",
    "    if dezenas > 0:\n",
    "        if funcao:\n",
    "            funcao += \" e \"\n",
    "        funcao += f\"{dezenas} dezenas\"\n",
    "\n",
    " \n",
    "    if unidades > 0:\n",
    "        if funcao:\n",
    "            funcao += \" e \"\n",
    "        funcao += f\"{unidades} unidades\"\n",
    "\n",
    "    return funcao\n",
    "\n",
    "\n",
    "numero = int(input(\"Digite um número inteiro menor que 1000: \"))\n",
    "\n",
    "\n",
    "funcao_result = calculo_quantidade(numero)\n",
    "print(f\"O número {numero} possui {funcao_result}.\")\n",
    "print('-=' * 50)"
   ]
  },
  {
   "cell_type": "markdown",
   "id": "076ff4ff-f5a9-4231-992f-cf52d9e7fa77",
   "metadata": {},
   "source": [
    "- ### 18 - O Hipermercado Ferreirinha está com uma promoção de carnes que é imperdível. Confira:\n",
    "```\n",
    "-----------------------------------------------------------\n",
    "|Carnes             Até 8 Kg               Acima de 8 Kg  |\n",
    "|---------------------------------------------------------|\n",
    "|File Mignon      R$ 7,20 por Kg          R$ 6,60 por Kg  |\n",
    "|---------------------------------------------------------|\n",
    "|Linguiça         R$ 8,90 por Kg          R$ 8,80 por Kg  |\n",
    "|---------------------------------------------------------| \n",
    "|Frango           R$ 3,90 por Kg          R$ 3,70 por Kg  |\n",
    "-----------------------------------------------------------\n",
    "\n",
    "Para atender a todos os clientes, cada cliente poderá levar apenas um dos tipos de carne da promoção, porém não há limites para a quantidade de carne por cliente. Se compra for feita no cartão Ferreirinha o cliente receberá ainda um desconto de 3% sobre o total da compra. Escreva um programa que peça o tipo e a quantidade de carne comprada pelo usuário e gere um cupom fiscal, contendo as informações da compra: tipo e quantidade de carne, preço total, tipo de pagamento, valor do desconto e valor a pagar.\r\n",
    "\n",
    "\r\n",
    "\n",
    "```\n",
    "\n",
    "<br>"
   ]
  },
  {
   "cell_type": "markdown",
   "id": "61c01199-5c37-4a31-84a5-7f1ca4ee825e",
   "metadata": {},
   "source": [
    "- Função principal criada para emissão de Cumpom Fiscal, com criação Dicionário com preços das carnes por Kg (até 8 Kg e acima de 8 Kg)\n",
    "- Opções de carne disponíveis chamando a chave\n",
    "- Apresentando as promoções\n",
    "- Criando uma condição para seleção do produto e seu peso, calculando o preço total\n",
    "- Selecionando o tipo de pagamento e aplicando desconto caso seja o cartão fidelidade \"Ferreirinha\"\n",
    "- print evidenciando os calculos e informações dos produtos"
   ]
  },
  {
   "cell_type": "code",
   "execution_count": 105,
   "id": "6f6e9d1e-d69f-41fe-abf6-a6aaf47272f2",
   "metadata": {},
   "outputs": [
    {
     "name": "stdout",
     "output_type": "stream",
     "text": [
      "\n",
      "--------------------------------------------------\n",
      "|Carnes------------- Até 8 Kg-------Acima de 8 Kg |\n",
      "|-------------------------------------------------|\n",
      "| 1  - File Mignon  R$ 7.20 por Kg R$ 6.60 por Kg |\n",
      "| 2  - Linguiça     R$ 8.90 por Kg R$ 8.80 por Kg |\n",
      "| 3  - Frango       R$ 3.90 por Kg R$ 3.70 por Kg |\n",
      "---------------------------------------------------\n",
      "\n"
     ]
    },
    {
     "name": "stdin",
     "output_type": "stream",
     "text": [
      "Digite o número da carne que deseja:  1\n",
      "Digite a quantidade de carne em Kg:  1\n",
      "Digite o tipo de pagamento (1 - Dinheiro, 2 - Cartão Ferreirinha):  2\n"
     ]
    },
    {
     "name": "stdout",
     "output_type": "stream",
     "text": [
      "\n",
      "-------------- Cupom Fiscal --------------------\n",
      "Hipermercado Ferreirinha\n",
      "\n",
      "Tipo de Carne: File Mignon\n",
      "Quantidade: 1.00 Kg\n",
      "Preço por Kg: R$ 7.20\n",
      "Preço Total: R$ 7.20\n",
      "Desconto 3% (Cartão Ferreirinha): R$ 0.22\n",
      "Valor a Pagar: R$ 6.98\n",
      "Tipo de Pagamento: CARTÃO FERREIRINHA\n",
      "------------------------------------------------\n",
      "\n",
      "-=-=-=-=-=-=-=-=-=-=-=-=-=-=-=-=-=-=-=-=-=-=-=-=-=-=-=-=-=-=-=-=-=-=-=-=-=-=-=-=-=-=-=-=-=-=-=-=-=-=\n"
     ]
    }
   ],
   "source": [
    "def hirpermercado():\n",
    "    \n",
    "    precos_carne = {\n",
    "        \"File Mignon\": {\"ate_8kg\": 7.20, \"acima_8kg\": 6.60},\n",
    "        \"Linguiça\": {\"ate_8kg\": 8.90, \"acima_8kg\": 8.80},\n",
    "        \"Frango\": {\"ate_8kg\": 3.90, \"acima_8kg\": 3.70},\n",
    "    }\n",
    "\n",
    "    opcoes_carne = list(precos_carne.keys())\n",
    "\n",
    "    print(\"\\n--------------------------------------------------\")\n",
    "    print(\"|Carnes------------- Até 8 Kg-------Acima de 8 Kg |\")\n",
    "    print(\"|-------------------------------------------------|\")\n",
    "    for i, carne in enumerate(opcoes_carne):\n",
    "        print(f\"| {i+1:<2} - {carne:<12} R$ {precos_carne[carne]['ate_8kg']:.2f} por Kg R$ {precos_carne[carne]['acima_8kg']:.2f} por Kg |\")\n",
    "    print(\"---------------------------------------------------\\n\")\n",
    "\n",
    "    while True:\n",
    "        try:\n",
    "            numero_carne = int(input(\"Digite o número da carne que deseja: \"))\n",
    "            if 1 <= numero_carne <= len(opcoes_carne):\n",
    "                tipo_carne = opcoes_carne[numero_carne - 1]\n",
    "                break\n",
    "            else:\n",
    "                print(\"Número inválido. Tente novamente.\")\n",
    "        except ValueError:\n",
    "            print(\"Valor digitado não é um número. Tente novamente.\")\n",
    "\n",
    "    quantidade_kg = float(input(\"Digite a quantidade de carne em Kg: \"))\n",
    "    while quantidade_kg <= 0:\n",
    "        quantidade_kg = float(input(\"Quantidade inválida. Digite um valor positivo: \"))\n",
    "\n",
    "   \n",
    "    preco_kg = precos_carne[tipo_carne][\"ate_8kg\"] if quantidade_kg <= 8 else precos_carne[tipo_carne][\"acima_8kg\"]\n",
    "    preco_total = quantidade_kg * preco_kg\n",
    "\n",
    "    while True:\n",
    "        try:\n",
    "            tipo_pagamento_numero = int(input(\"Digite o tipo de pagamento (1 - Dinheiro, 2 - Cartão Ferreirinha): \"))\n",
    "            if tipo_pagamento_numero in (1, 2):\n",
    "                if tipo_pagamento_numero == 1:\n",
    "                    tipo_pagamento = \"DINHEIRO\"\n",
    "                else:\n",
    "                    tipo_pagamento = \"CARTÃO FERREIRINHA\"\n",
    "                break\n",
    "            else:\n",
    "                print(\"Opção inválida. Tente novamente.\")\n",
    "        except ValueError:\n",
    "            print(\"Valor digitado não é um número. Tente novamente.\")\n",
    "\n",
    "  \n",
    "    desconto = 0.03 * preco_total if tipo_pagamento == \"CARTÃO FERREIRINHA\" else 0\n",
    "\n",
    "    valor_a_pagar = preco_total - desconto\n",
    "\n",
    "  \n",
    "    print(\"\\n-------------- Cupom Fiscal --------------------\")\n",
    "    print(f\"Hipermercado Ferreirinha\\n\")\n",
    "    print(f\"Tipo de Carne: {tipo_carne}\")\n",
    "    print(f\"Quantidade: {quantidade_kg:.2f} Kg\")\n",
    "    print(f\"Preço por Kg: R$ {preco_kg:.2f}\")\n",
    "    print(f\"Preço Total: R$ {preco_total:.2f}\")\n",
    "    if desconto > 0:\n",
    "        print(f\"Desconto 3% (Cartão Ferreirinha): R$ {desconto:.2f}\")\n",
    "    print(f\"Valor a Pagar: R$ {valor_a_pagar:.2f}\")\n",
    "    print(f\"Tipo de Pagamento: {tipo_pagamento}\")\n",
    "    print(\"------------------------------------------------\\n\")\n",
    "    \n",
    "hirpermercado()\n",
    "\n",
    "print('-=' * 50)"
   ]
  },
  {
   "attachments": {},
   "cell_type": "markdown",
   "id": "738cbb31-d502-42cf-aa1c-2e65ef729598",
   "metadata": {},
   "source": [
    "- ### 19 - O Arthur está vendendo frutas com a seguinte tabela de preços:\n",
    "```\n",
    "-----------------------------------------------------------\n",
    "|Frutas            Até 5 Kg                Acima de 5 Kg  |\n",
    "|---------------------------------------------------------|\n",
    "|Manga            R$ 3,50 por Kg          R$ 3,20 por Kg  |\n",
    "|---------------------------------------------------------|\n",
    "|Banana           R$ 2,80 por Kg          R$ 2,50 por Kg  |\n",
    "----------------------------------------------------------- \n",
    "\n",
    "\n",
    "Se o cliente comprar mais de 7 Kg em frutas ou o valor total da compra ultrapassar R$ 27,00, receberá ainda um desconto de 7% sobre este total. Escreva um algoritmo para ler a quantidade (em Kg) de Mangas  e a quantidade (em Kg) de Banana adquiridas e escreva o valor a ser pago pelo cliente.\r\n",
    "\n",
    "\n",
    "```\n",
    "\n",
    "<br>"
   ]
  },
  {
   "cell_type": "markdown",
   "id": "956ce888-50ed-42a4-b024-f9a0de62cb51",
   "metadata": {},
   "source": [
    "- Função principal criada, emissão de Cumpom Fiscal mesmo não sendo pedido para melhor visualização e organização no resultado final\n",
    "- Criei um Dicionário com preços das frutas por Kg \n",
    "- Opções de frutas disponíveis chamando a chave\n",
    "- Apresentando condições e descontos \n",
    "- Criando uma condição para seleção do produto e seu peso, calculando o preço total\n",
    "- print evidenciando os calculos e informações dos produtos"
   ]
  },
  {
   "cell_type": "code",
   "execution_count": 129,
   "id": "8d6954be-911d-4be2-83f0-5befb14018fa",
   "metadata": {},
   "outputs": [
    {
     "name": "stdout",
     "output_type": "stream",
     "text": [
      "\n",
      "--------------------------------------------\n",
      "|Frutas----------Até 5 Kg------Acima de 5 Kg |\n",
      "|--------------------------------------------|\n",
      "| Manga        R$ 3.50 por Kg R$ 3.20 por Kg |\n",
      "| Banana       R$ 2.80 por Kg R$ 2.50 por Kg |\n",
      "--------------------------------------------\n",
      "\n"
     ]
    },
    {
     "name": "stdin",
     "output_type": "stream",
     "text": [
      "Digite a quantidade de mangas em Kg:  5\n",
      "Digite a quantidade de bananas em Kg:  7\n"
     ]
    },
    {
     "name": "stdout",
     "output_type": "stream",
     "text": [
      "\n",
      "---------------- Cupom Fiscal ----------------\n",
      "Frutas Arthur\n",
      "\n",
      "Itens:\n",
      " - Manga: 5.00 Kg = R$ 17.50\n",
      " - Banana: 7.00 Kg = R$ 17.50\n",
      "\n",
      "Subtotal: R$ 35.00\n",
      "Desconto (7%): R$ 2.45\n",
      "Valor a Pagar: R$ 32.55\n",
      "---------------------------------------------\n",
      "\n",
      "-=-=-=-=-=-=-=-=-=-=-=-=-=-=-=-=-=-=-=-=-=-=-=-=-=-=-=-=-=-=-=-=-=-=-=-=-=-=-=-=-=-=-=-=-=-=-=-=-=-=\n"
     ]
    }
   ],
   "source": [
    "def frutas_arthur():\n",
    "    \n",
    "    precos_frutas = {\n",
    "        \"Manga\": {\"ate_5kg\": 3.50, \"acima_5kg\": 3.20},\n",
    "        \"Banana\": {\"ate_5kg\": 2.80, \"acima_5kg\": 2.50},\n",
    "    }\n",
    "\n",
    "\n",
    "    opcoes_frutas = list(precos_frutas.keys())\n",
    "\n",
    "\n",
    "    print(\"\\n--------------------------------------------\")\n",
    "    print(\"|Frutas----------Até 5 Kg------Acima de 5 Kg |\")\n",
    "    print(\"|--------------------------------------------|\")\n",
    "    for fruta in opcoes_frutas:\n",
    "        preco_ate_5kg = precos_frutas[fruta][\"ate_5kg\"]\n",
    "        preco_acima_5kg = precos_frutas[fruta][\"acima_5kg\"]\n",
    "        print(f\"| {fruta:<12} R$ {preco_ate_5kg:.2f} por Kg R$ {preco_acima_5kg:.2f} por Kg |\")\n",
    "    print(\"--------------------------------------------\\n\")\n",
    "\n",
    " \n",
    "    while True:\n",
    "        try:\n",
    "            quantidade_manga = float(input(\"Digite a quantidade de mangas em Kg: \"))\n",
    "            if quantidade_manga >= 0:\n",
    "                break\n",
    "            else:\n",
    "                print(\"Quantidade inválida. Digite um valor positivo ou zero.\")\n",
    "        except ValueError:\n",
    "            print(\"Valor digitado não é um número. Tente novamente.\")\n",
    "\n",
    "   \n",
    "    while True:\n",
    "        try:\n",
    "            quantidade_banana = float(input(\"Digite a quantidade de bananas em Kg: \"))\n",
    "            if quantidade_banana >= 0:\n",
    "                break\n",
    "            else:\n",
    "                print(\"Quantidade inválida. Digite um valor positivo ou zero.\")\n",
    "        except ValueError:\n",
    "            print(\"Valor digitado não é um número. Tente novamente.\")\n",
    "\n",
    "\n",
    "    preco_total_manga = quantidade_manga * precos_frutas[\"Manga\"][\"ate_5kg\"]\\\n",
    "    if quantidade_manga <= 5 else quantidade_manga * precos_frutas[\"Manga\"][\"acima_5kg\"]\n",
    "\n",
    "\n",
    "    preco_total_banana = quantidade_banana * precos_frutas[\"Banana\"][\"ate_5kg\"]\\\n",
    "    if quantidade_banana <= 5 else quantidade_banana * precos_frutas[\"Banana\"][\"acima_5kg\"]\n",
    "\n",
    "\n",
    "    preco_total = preco_total_manga + preco_total_banana\n",
    "\n",
    "   \n",
    "    desconto = 0\n",
    "    if quantidade_manga + quantidade_banana > 7 or preco_total > 27:\n",
    "        desconto = preco_total * 0.07\n",
    "\n",
    "\n",
    "    valor_a_pagar = preco_total - desconto\n",
    "\n",
    "\n",
    "    print(\"\\n---------------- Cupom Fiscal ----------------\")\n",
    "    print(f\"Frutas Arthur\\n\")\n",
    "    print(f\"Itens:\")\n",
    "    print(f\" - Manga: {quantidade_manga:.2f} Kg = R$ {preco_total_manga:.2f}\")\n",
    "    print(f\" - Banana: {quantidade_banana:.2f} Kg = R$ {preco_total_banana:.2f}\")\n",
    "    print(f\"\\nSubtotal: R$ {preco_total:.2f}\")\n",
    "    if desconto > 0:\n",
    "        print(f\"Desconto (7%): R$ {desconto:.2f}\")\n",
    "    print(f\"Valor a Pagar: R$ {valor_a_pagar:.2f}\")\n",
    "    print(\"---------------------------------------------\\n\")\n",
    "frutas_arthur()\n",
    "print('-=' * 50)"
   ]
  },
  {
   "cell_type": "markdown",
   "id": "fdc44995-491d-45dc-a03b-4bbcd3a096de",
   "metadata": {},
   "source": [
    "- ### 20 - Faça um programa que faça 5 perguntas para uma pessoa sobre um crime. As perguntas são:\n",
    "\n",
    "``` \n",
    "- \"Telefonou para a vítima?\"\n",
    "- \"Esteve no local do crime?\"\n",
    "- \"Mora perto da vítima?\"\n",
    "- \"Devia para a vítima?\"\n",
    "- \"Já trabalhou com a vítima?\"\n",
    "\n",
    "O programa deve no final emitir uma classificação sobre a participação da pessoa no crime. Se a pessoa responder positivamente a 2 questões ela deve ser classificada como \"Suspeita\", entre 3 e 4 como \"Cúmplice\" e 5 como \"Assassino\". Caso contrário, ele será classificado como \"Inocente\".\n",
    "```\n",
    "\n",
    "<br>\n"
   ]
  },
  {
   "cell_type": "markdown",
   "id": "bd1f0e90-6566-42ef-bf34-c179aeab66a8",
   "metadata": {},
   "source": [
    "- Criei uma função com uma lista de perguntas e uma lista vazia que receberá as resposta informadas no input\n",
    "- no laço for foi estabelecidas condições no bloco try, except as respostas possíveis e as tratativas para erros de inserção\n",
    "- Atribuindo as classificações do suposto crime e print final chamando a função principal evidênciando a solução"
   ]
  },
  {
   "cell_type": "code",
   "execution_count": 132,
   "id": "51335993-e1a3-47bd-acdc-dd4e5a9c1fdb",
   "metadata": {},
   "outputs": [
    {
     "name": "stdin",
     "output_type": "stream",
     "text": [
      "Telefonou para a vítima? (Sim/Não):  sim]\n",
      "Resposta inválida. Digite Sim ou Não:  não\n",
      "Esteve no local do crime? (Sim/Não):  sim\n",
      "Mora perto da vítima? (Sim/Não):  não\n",
      "Devia para a vítima? (Sim/Não):  sim\n",
      "Já trabalhou com a vítima? (Sim/Não):  sim\n"
     ]
    },
    {
     "name": "stdout",
     "output_type": "stream",
     "text": [
      "\n",
      "**Resultado da Investigação:**\n",
      "**Classificação: Cúmplice**\n",
      "-=-=-=-=-=-=-=-=-=-=-=-=-=-=-=-=-=-=-=-=-=-=-=-=-=-=-=-=-=-=-=-=-=-=-=-=-=-=-=-=-=-=-=-=-=-=-=-=-=-=\n"
     ]
    }
   ],
   "source": [
    "def classificar_crime():\n",
    "    \n",
    "\n",
    "    perguntas = [\"Telefonou para a vítima?\", \"Esteve no local do crime?\", \"Mora perto da vítima?\",\n",
    "                 \"Devia para a vítima?\", \"Já trabalhou com a vítima?\"]\n",
    "\n",
    "    respostas = []\n",
    "\n",
    "    for i in range(len(perguntas)):\n",
    "        pergunta = perguntas[i]\n",
    "        try:\n",
    "            resposta = input(f\"{pergunta} (Sim/Não): \").upper()\n",
    "            while resposta not in (\"SIM\", \"NÃO\"):\n",
    "                resposta = input(\"Resposta inválida. Digite Sim ou Não: \").upper()\n",
    "            respostas.append(resposta)\n",
    "        except ValueError:\n",
    "            print(\"Resposta inválida! Digite apenas 'Sim' ou 'Não'.\")\n",
    "            continue\n",
    "\n",
    "    classificacao = \"Inocente\"\n",
    "    respostas_positivas = sum(resposta == \"SIM\" for resposta in respostas)\n",
    "    if respostas_positivas == 1:\n",
    "        classificacao = \"Suspeita\"\n",
    "    elif respostas_positivas == 2:\n",
    "        classificacao = \"Cúmplice\"\n",
    "    elif respostas_positivas in [3, 4]:\n",
    "        classificacao = \"Cúmplice\"\n",
    "    elif respostas_positivas >= 5:\n",
    "        classificacao = \"Assassino\"\n",
    "\n",
    "    print(\"\\n**Resultado da Investigação:**\")\n",
    "    print(f\"**Classificação: {classificacao}**\")\n",
    "\n",
    "\n",
    "classificar_crime()\n",
    "print('-=' * 50)"
   ]
  }
 ],
 "metadata": {
  "kernelspec": {
   "display_name": "Python 3 (ipykernel)",
   "language": "python",
   "name": "python3"
  },
  "language_info": {
   "codemirror_mode": {
    "name": "ipython",
    "version": 3
   },
   "file_extension": ".py",
   "mimetype": "text/x-python",
   "name": "python",
   "nbconvert_exporter": "python",
   "pygments_lexer": "ipython3",
   "version": "3.11.7"
  }
 },
 "nbformat": 4,
 "nbformat_minor": 5
}
