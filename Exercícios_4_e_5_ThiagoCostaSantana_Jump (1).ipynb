{
 "cells": [
  {
   "cell_type": "markdown",
   "id": "944ba66f-ab53-444b-917b-9313dd0d3822",
   "metadata": {},
   "source": [
    "\n",
    "<div style=\"display: flex; align-items: center;\">\n",
    "  <img src=\"https://jump.tec.br/wp-content/themes/jump/images/jump.svg\" alt=\"Logomarca da Jump\" style=\"width: 150px; margin-right: 30px;\">\n",
    "  <h1 style=\"font-size: 17px;\">Sexta-Feira 05/07/2024</h1>\n",
    "</div>\n",
    "\n",
    "  <p style=\"color: orange; font-size: 18px; text-align: left; width: 130px; margin-right: 30px;\">Jump Start 4</p>\n",
    "<h2 style=\"text-align: center;\">Thiago Costa Santana</h2>\n",
    "<br>\n",
    "\n",
    "<h1 align=\"center\"> Exercícios 4 e 5 </h1>\n",
    "\n",
    "\n",
    "<br>"
   ]
  },
  {
   "cell_type": "markdown",
   "id": "ed0fdb33-8c82-4f24-b8ce-70b16eb799eb",
   "metadata": {},
   "source": [
    "\n",
    "<h1 align=\"center\"> Exercícios 4 - Funções</h1>\n",
    "\n",
    "<br>"
   ]
  },
  {
   "attachments": {},
   "cell_type": "markdown",
   "id": "149ffafa-c49b-4c40-996e-0833cfa5ecf0",
   "metadata": {},
   "source": [
    "- ### 1 - Faça um programa com uma função que necessite de três argumentos, e que forneça a soma desses três argumentos. \r\n",
    "\n",
    " <br>\n",
    "  "
   ]
  },
  {
   "cell_type": "markdown",
   "id": "fd926dc5-ab0b-4081-8c34-d568a8b710b3",
   "metadata": {},
   "source": [
    "-  Pedindo os três números ao usuário, chamando a função e imprimindo o resultado"
   ]
  },
  {
   "cell_type": "code",
   "execution_count": 65,
   "id": "b03b12c6-4628-49c1-90a2-cb4dc1fa6bf9",
   "metadata": {},
   "outputs": [
    {
     "name": "stdin",
     "output_type": "stream",
     "text": [
      "Digite o 1º número:  15\n",
      "Digite o 2º número:  1.5\n",
      "Digite o 3º número:  10.50\n"
     ]
    },
    {
     "name": "stdout",
     "output_type": "stream",
     "text": [
      "A soma dos três números é: 27.0\n",
      "-=-=-=-=-=-=-=-=-=-=-=-=-=-=-=-=-=-=-=-=-=-=-=-=-=-=-=-=-=-=-=-=-=-=-=-=-=-=-=-=-=-=-=-=-=-=-=-=-=-=\n"
     ]
    }
   ],
   "source": [
    "def soma(*args):\n",
    "    \n",
    "    return sum(args)\n",
    "\n",
    "\n",
    "numeros = [float(input(f\"Digite o {i+1}º número: \")) for i in range(3)]\n",
    "\n",
    "resultado = soma(*numeros)\n",
    "\n",
    "print(f\"A soma dos três números é: {resultado}\")\n",
    "\n",
    "print('-='*50)"
   ]
  },
  {
   "attachments": {},
   "cell_type": "markdown",
   "id": "a3213ac8-56cc-43ad-b708-e39a6a5ccbc5",
   "metadata": {},
   "source": [
    "- ### 2 -Faça um programa, com uma função que necessite de um argumento. A função retorna o valor de caractere ‘P’, se seu argumento for positivo, e ‘N’, se seu argumento for zero ou negativo. \r\n",
    "\n",
    " <br>\n"
   ]
  },
  {
   "cell_type": "markdown",
   "id": "09226d63-e6e8-4857-a448-e96d84ed2d1c",
   "metadata": {},
   "source": [
    "- Criei uma função que recebe um número maior que zero retornando positivo, caso contrario retorna negativo\n",
    "- Criei a váriavel número que recebe o input e outra váriavel resultado, sendo o resultado da função"
   ]
  },
  {
   "cell_type": "code",
   "execution_count": 64,
   "id": "5b229bbb-3ad8-417e-946a-8dcd0052f08e",
   "metadata": {},
   "outputs": [
    {
     "name": "stdin",
     "output_type": "stream",
     "text": [
      "Digite um número:  20\n"
     ]
    },
    {
     "name": "stdout",
     "output_type": "stream",
     "text": [
      "Resultado: P (POSITIVO)\n",
      "-=-=-=-=-=-=-=-=-=-=-=-=-=-=-=-=-=-=-=-=-=-=-=-=-=-=-=-=-=-=-=-=-=-=-=-=-=-=-=-=-=-=-=-=-=-=-=-=-=-=\n"
     ]
    }
   ],
   "source": [
    "def positivo_ou_negativo(numero):\n",
    "    \n",
    "    if numero > 0:\n",
    "        return 'P (POSITIVO)'\n",
    "    else:\n",
    "        return 'N (NEGATIVO)'\n",
    "\n",
    "numero = float(input(\"Digite um número: \")) \n",
    "\n",
    "resultado = positivo_ou_negativo(numero)\n",
    "\n",
    "print(f\"Resultado: {resultado}\")\n",
    "\n",
    "print('-='*50)"
   ]
  },
  {
   "cell_type": "markdown",
   "id": "b8bde045-bac8-4627-85ac-3b8f795e0a67",
   "metadata": {},
   "source": [
    "- ### 3 - Faça um programa com uma função chamada somaImposto. A função possui dois parâmetros formais: taxaImposto, que é a quantia de imposto sobre vendas expressa em porcentagem e custo, que é o custo de um item antes do imposto. A função “altera” o valor de custo para incluir o imposto sobre vendas.\n",
    "\n",
    "\n",
    "<br>"
   ]
  },
  {
   "cell_type": "markdown",
   "id": "2b14b32d-3189-4a4b-84b0-67e677874c87",
   "metadata": {},
   "source": [
    "- Criei uma função impostoe atribui que o valor não pode sr menor que zero com a tratativa raise\n",
    "- Criei a função soma_imposto que faz o calculo do custo mais imposto \n",
    "- No bloco try-except solicita que o usuário insira a taxa de imposto e o custo do item antes do imposto. Em seguida, calcula o custo com imposto chamando a função soma_imposto(taxa_imposto, valor_custo) e exibe o resultado.\n"
   ]
  },
  {
   "cell_type": "code",
   "execution_count": 70,
   "id": "4fcac3bb-497c-4442-a1f2-b86fdb36f7be",
   "metadata": {},
   "outputs": [
    {
     "name": "stdin",
     "output_type": "stream",
     "text": [
      "Digite a taxa de imposto (%):  15\n",
      "Digite o custo do item antes do imposto:  10000\n"
     ]
    },
    {
     "name": "stdout",
     "output_type": "stream",
     "text": [
      "O custo do item com imposto é: R$11500.00\n",
      "-=-=-=-=-=-=-=-=-=-=-=-=-=-=-=-=-=-=-=-=-=-=-=-=-=-=-=-=-=-=-=-=-=-=-=-=-=-=-=-=-=-=-=-=-=-=-=-=-=-=\n"
     ]
    }
   ],
   "source": [
    "def imposto(taxa_imposto):\n",
    "    if taxa_imposto <= 0:\n",
    "        raise ValueError(\"Erro: A taxa de imposto deve ser um valor positivo.\")\n",
    "\n",
    "def soma_imposto(taxa_imposto, custo):\n",
    "    imposto(taxa_imposto)\n",
    "    return custo * (1 + taxa_imposto / 100)\n",
    "\n",
    "try:\n",
    "    taxa_imposto = float(input(\"Digite a taxa de imposto (%): \"))\n",
    "    imposto(taxa_imposto)\n",
    "\n",
    "    valor_custo = float(input(\"Digite o custo do item antes do imposto: \"))\n",
    "\n",
    "    custo_com_imposto = soma_imposto(taxa_imposto, valor_custo)\n",
    "\n",
    "    print(f\"O custo do item com imposto é: R${custo_com_imposto:.2f}\")\n",
    "\n",
    "except ValueError as erro:\n",
    "   print(f\"{erro} Insira um valor numérico válido.\")\n",
    "\n",
    "print('-='*50)"
   ]
  },
  {
   "attachments": {},
   "cell_type": "markdown",
   "id": "8c3b97bf-5759-4765-9b5f-7f1bc685e33c",
   "metadata": {},
   "source": [
    "- ### 4 - Faça um programa que converta da notação de 24 horas para a notação de 12 horas. Por exemplo, o programa deve converter 14:25 em 2:25 P.M. A entrada é dada em dois inteiros. Deve haver pelo menos duas funções: uma para fazer a conversão e uma para a saída. Registre a informação A.M./P.M. como um valor ‘A’ para A.M. e ‘P’ para P.M. Assim, a função para efetuar as conversões terá um parâmetro formal para registrar se é A.M. ou P.M. Inclua um loop que permita que o usuário repita esse cálculo para novos valores de entrada todas as vezes que desejar.\r\n",
    "\n",
    "<br>"
   ]
  },
  {
   "cell_type": "markdown",
   "id": "940930d3-d6da-4e48-8b56-ad9485a31b74",
   "metadata": {},
   "source": [
    "- Criei a função para calcular as horas estabelecendo as condições com if e criando outro if especial para horário 0hs e 12hs\n",
    "- Criei a função hora convertida para ajustar o período A.M e P.M e horas, minutos e periodo \n",
    "- Na função principal main tenho um bloco while True e try-except passando as variáveis de input e executando a função\n"
   ]
  },
  {
   "cell_type": "code",
   "execution_count": 9,
   "id": "89732c8e-2ac7-469b-9544-c3b65b83d104",
   "metadata": {},
   "outputs": [
    {
     "name": "stdin",
     "output_type": "stream",
     "text": [
      "Digite as horas (formato 24 horas, 0-23):  23\n",
      "Digite os minutos (0-59):  10\n"
     ]
    },
    {
     "name": "stdout",
     "output_type": "stream",
     "text": [
      "A hora convertida é: 11:10 P.M.\n"
     ]
    },
    {
     "name": "stdin",
     "output_type": "stream",
     "text": [
      "Deseja converter outro horário? (s/n):  s\n",
      "Digite as horas (formato 24 horas, 0-23):  11\n",
      "Digite os minutos (0-59):  10\n"
     ]
    },
    {
     "name": "stdout",
     "output_type": "stream",
     "text": [
      "A hora convertida é: 11:10 A.M.\n"
     ]
    },
    {
     "name": "stdin",
     "output_type": "stream",
     "text": [
      "Deseja converter outro horário? (s/n):  n\n"
     ]
    },
    {
     "name": "stdout",
     "output_type": "stream",
     "text": [
      "-=-=-=-=-=-=-=-=-=-=-=-=-=-=-=-=-=-=-=-=-=-=-=-=-=-=-=-=-=-=-=-=-=-=-=-=-=-=-=-=-=-=-=-=-=-=-=-=-=-=\n"
     ]
    }
   ],
   "source": [
    "def converter_horas(horas, minutos):\n",
    "    \n",
    "    if horas < 0 or horas > 23 or minutos < 0 or minutos > 59:\n",
    "        return None, None, None\n",
    "    \n",
    "    periodo = 'A' if horas < 12 else 'P'\n",
    "    horas_12h = horas if horas == 12 or horas == 0 else horas % 12\n",
    "    \n",
    "    # Caso especial para meia-noite\n",
    "    if horas_12h == 0:\n",
    "        horas_12h = 12\n",
    "    \n",
    "    return horas_12h, minutos, periodo\n",
    "\n",
    "def hora_convertida(horas, minutos, periodo):\n",
    "    periodo = 'A.M.' if periodo == 'A' else ('P.M.' if periodo == 'P' else periodo)\n",
    "    print(f\"A hora convertida é: {horas}:{minutos:02} {periodo}\")\n",
    "\n",
    "   \n",
    "def main():\n",
    "    \n",
    "    while True:\n",
    "        try:\n",
    "            horas = int(input(\"Digite as horas (formato 24 horas, 0-23): \"))\n",
    "            minutos = int(input(\"Digite os minutos (0-59): \"))\n",
    "            \n",
    "            horas_12h, minutos, periodo = converter_horas(horas, minutos)\n",
    "            \n",
    "            if horas_12h is None:\n",
    "                print(\"Entrada inválida. Por favor, digite valores válidos.\")\n",
    "            else:\n",
    "                hora_convertida(horas_12h, minutos, periodo)\n",
    "            \n",
    "            continuar = input(\"Deseja converter outro horário? (s/n): \").strip().lower()\n",
    "            if continuar != 's':\n",
    "                break\n",
    "        except ValueError:\n",
    "            print(\"Erro: Por favor, digite valores numéricos para horas e minutos.\")\n",
    "\n",
    "if __name__ == \"__main__\":\n",
    "    main()\n",
    "\n",
    "print('-='*50)"
   ]
  },
  {
   "attachments": {},
   "cell_type": "markdown",
   "id": "5c0984b1-26f6-42d8-8e6e-4ec09f0b896f",
   "metadata": {},
   "source": [
    " - ### 5 - Faça uma função que informe a quantidade de dígitos de um determinado número inteiro informado.\r\n",
    "\n",
    "\n",
    "<br>\n",
    " "
   ]
  },
  {
   "cell_type": "markdown",
   "id": "28adbb8d-5a0d-47ba-95ca-ee4b09a682e1",
   "metadata": {},
   "source": [
    "- Criei uma função que converte o número para string e utiliza a função len() para contar os dígitos, evitando erros ao usar len em números inteiros\n",
    "  "
   ]
  },
  {
   "cell_type": "code",
   "execution_count": 10,
   "id": "bcd1a4c0-15db-4dcb-991b-d287df8f7570",
   "metadata": {},
   "outputs": [
    {
     "name": "stdin",
     "output_type": "stream",
     "text": [
      "Digite um número inteiro:  10\n"
     ]
    },
    {
     "name": "stdout",
     "output_type": "stream",
     "text": [
      "O número 10 possui 2 dígitos.\n",
      "-=-=-=-=-=-=-=-=-=-=-=-=-=-=-=-=-=-=-=-=-=-=-=-=-=-=-=-=-=-=-=-=-=-=-=-=-=-=-=-=-=-=-=-=-=-=-=-=-=-=\n"
     ]
    }
   ],
   "source": [
    "def Quantidade_digitos(numero):\n",
    "\n",
    "    qtd_digitos = len(str(numero))\n",
    "    return qtd_digitos\n",
    "\n",
    "numero = int(input(\"Digite um número inteiro: \"))\n",
    "\n",
    "quantidade_de_digitos = Quantidade_digitos(numero)\n",
    "\n",
    "print(f\"O número {numero} possui {quantidade_de_digitos} dígitos.\")\n",
    "print('-='*50)         \n"
   ]
  },
  {
   "attachments": {},
   "cell_type": "markdown",
   "id": "cb1da319-54f5-4e29-9bd7-6225bc5975ee",
   "metadata": {},
   "source": [
    "\n",
    "- ### 6 - Faça uma função que retorne o reverso de um número inteiro informado. Por exemplo: 127 -> 721.\r\n",
    "\n",
    "\n",
    "\n",
    "<br>\n"
   ]
  },
  {
   "cell_type": "markdown",
   "id": "a3acf51b-ca34-445c-a4d0-047328aa5636",
   "metadata": {},
   "source": [
    "- Criei uma função com contador igual a 0 e enquanto número maior que 0 extrai o último digito do número e adiciona o dígito ao reverso, remove o último dígito do número e retorna o reverso. \n",
    "- Na variável numero temos o input e em reverso o resultado da função chamado a executar no print f string"
   ]
  },
  {
   "cell_type": "code",
   "execution_count": 2,
   "id": "6f032c50-1add-42b9-a95c-5a46aa52b2d4",
   "metadata": {},
   "outputs": [
    {
     "name": "stdin",
     "output_type": "stream",
     "text": [
      "Digite um número inteiro:  174\n"
     ]
    },
    {
     "name": "stdout",
     "output_type": "stream",
     "text": [
      "O reverso de 174 é: 471\n",
      "-=-=-=-=-=-=-=-=-=-=-=-=-=-=-=-=-=-=-=-=-=-=-=-=-=-=-=-=-=-=-=-=-=-=-=-=-=-=-=-=-=-=-=-=-=-=-=-=-=-=\n"
     ]
    }
   ],
   "source": [
    "def reverso_num(numero):\n",
    "    reverso = 0\n",
    "    \n",
    "\n",
    "    while numero > 0:\n",
    "\n",
    "        digito = numero % 10\n",
    "     \n",
    "        reverso = (reverso * 10) + digito\n",
    "     \n",
    "        numero = numero // 10\n",
    "    \n",
    "    return reverso\n",
    "\n",
    "numero = int(input(\"Digite um número inteiro: \"))\n",
    "\n",
    "reverso = reverso_num(numero)\n",
    "\n",
    "print(f\"O reverso de {numero} é: {reverso}\")\n",
    "\n",
    "\n",
    "print('-='*50)"
   ]
  },
  {
   "attachments": {},
   "cell_type": "markdown",
   "id": "cdb75e7c-7c93-4c20-8249-99289d482166",
   "metadata": {},
   "source": [
    "\n",
    "- ### 7 - Construa uma função que receba uma data no formato DD/MM/AAAA e devolva uma string no formato D de mes por Extenso de AAAA. Opcionalmente, valide a data e retorne NULL caso a data seja inválida.\r\n",
    "\r\n",
    "\r",
    "<br>\n"
   ]
  },
  {
   "cell_type": "markdown",
   "id": "03f6c3d6-dec8-4d1d-b6cd-3440558253a9",
   "metadata": {},
   "source": [
    "- Importei o módulo datetime da biblioteca datetime para lidar com datas e horas.\n",
    "- Importei locale setlocale e a constante LC_ALL da biblioteca locale para lidar com localidades, define o local para 'pt_BR.UTF-8'.\n",
    "- Criei a função data_extenso em um bloco try-except que recebe uma data no formato dia/mês/ano e retorna a data por extenso no formato \"dia de mês de ano\", com as variáveis data chamando o input e resultado que recebe a função chamei o print resultado.\n",
    "  "
   ]
  },
  {
   "cell_type": "code",
   "execution_count": 17,
   "id": "9e59e10a-211e-4a99-9157-d8e16b35bf69",
   "metadata": {},
   "outputs": [
    {
     "name": "stdin",
     "output_type": "stream",
     "text": [
      "Entre com a data no formato dd/mm/aaaa:  03/07/2024\n"
     ]
    },
    {
     "name": "stdout",
     "output_type": "stream",
     "text": [
      "3 de julho de 2024\n",
      "-=-=-=-=-=-=-=-=-=-=-=-=-=-=-=-=-=-=-=-=-=-=-=-=-=-=-=-=-=-=-=-=-=-=-=-=-=-=-=-=-=-=-=-=-=-=-=-=-=-=\n"
     ]
    }
   ],
   "source": [
    "from datetime import datetime\n",
    "from locale import setlocale, LC_ALL\n",
    "\n",
    "setlocale(LC_ALL, 'pt_BR.UTF-8')\n",
    "\n",
    "def data_extenso(data):\n",
    "    try:\n",
    "        data_formatada = datetime.strptime(data, '%d/%m/%Y')\n",
    "        dia, mes, ano = data_formatada.day, data_formatada.strftime('%B'), data_formatada.year\n",
    "        return f'{dia} de {mes} de {ano}'\n",
    "    except ValueError:\n",
    "        return 'Data inválida'\n",
    "\n",
    "data = input('Entre com a data no formato dd/mm/aaaa: ')\n",
    "resultado = data_extenso(data)\n",
    "print(resultado)\n",
    "\n",
    "print('-='*50)\n",
    "\n"
   ]
  },
  {
   "attachments": {},
   "cell_type": "markdown",
   "id": "a95f1f64-36f1-4c75-8f78-88562012b336",
   "metadata": {},
   "source": [
    "\n",
    "<div style=\"display: flex; align-items: center;\">\n",
    "  <img src=\"https://jump.tec.br/wp-content/themes/jump/images/jump.svg\" alt=\"Logomarca da Jump\" style=\"width: 150px; margin-right: 30px;\">\n",
    "  <h1 style=\"font-size: 17px;\">Sexta-Feira 05/07/2024</h1>\n",
    "</div>\n",
    "\n",
    "  <p style=\"color: orange; font-size: 18px; text-align: left; width: 130px; margin-right: 30px;\">Jump Start 4</p>\n",
    "\n",
    "<br>\n",
    "\n",
    "<h1 align=\"center\"> Exercícios 5 - Strings</h1>\n",
    "\n",
    "\n",
    "<br>"
   ]
  },
  {
   "cell_type": "markdown",
   "id": "dd03857c-9ad2-4c32-8847-bb92b13d9f98",
   "metadata": {},
   "source": [
    "- ### 1 - Tamanho de strings. Faça um programa que leia 2 strings e informe o conteúdo delas seguido do seu comprimento. Informe também se as duas strings possuem o mesmo comprimento e são iguais ou diferentes no conteúdo\n"
   ]
  },
  {
   "cell_type": "markdown",
   "id": "0a83ecd8-28ec-4b15-8b3c-7f4819267eaa",
   "metadata": {},
   "source": [
    "- Criei a função comparar_strings deixando as duas strings tratadas com upper para melhor visualização\n",
    "- Concatenei os prints para que nos traga a string tratada e seu comprimento.\n",
    "- No bloco if estamos passando as condições com dois ifs e dois else pedindo o retorno.\n",
    "- Para finalizar temos os inputs da string e a criação da variável conclusão que é o resultado da função"
   ]
  },
  {
   "cell_type": "code",
   "execution_count": 18,
   "id": "b65b0be1-6c16-46b4-8f97-73d0d16acb2b",
   "metadata": {},
   "outputs": [
    {
     "name": "stdin",
     "output_type": "stream",
     "text": [
      "Digite a primeira string:  html\n",
      "Digite a segunda string:  java\n"
     ]
    },
    {
     "name": "stdout",
     "output_type": "stream",
     "text": [
      "Conteúdo da primeira string: HTML - Comprimento: 4\n",
      "Conteúdo da segunda string: JAVA - Comprimento: 4\n",
      "As duas strings possuem o mesmo comprimento, mas são diferentes no conteúdo.\n",
      "-=-=-=-=-=-=-=-=-=-=-=-=-=-=-=-=-=-=-=-=-=-=-=-=-=-=-=-=-=-=-=-=-=-=-=-=-=-=-=-=-=-=-=-=-=-=-=-=-=-=\n"
     ]
    }
   ],
   "source": [
    "def comparar_strings(string1, string2):\n",
    "    # Função para comparar duas strings e imprimir o resultado\n",
    "    string1 = string1.upper()\n",
    "    string2 = string2.upper()\n",
    "\n",
    "    print(f\"Conteúdo da primeira string: {string1} - Comprimento: {len(string1)}\")\n",
    "    print(f\"Conteúdo da segunda string: {string2} - Comprimento: {len(string2)}\")\n",
    "\n",
    "    if len(string1) == len(string2):\n",
    "        if string1 == string2:\n",
    "            return \"As duas strings possuem o mesmo comprimento e são iguais no conteúdo.\"\n",
    "        else:\n",
    "            return \"As duas strings possuem o mesmo comprimento, mas são diferentes no conteúdo.\"\n",
    "    else:\n",
    "        return \"As duas strings possuem tamanhos diferentes.\"\n",
    "\n",
    "# Exemplo de uso da função\n",
    "string1 = input(\"Digite a primeira string: \")\n",
    "string2 = input(\"Digite a segunda string: \")\n",
    "\n",
    "conclusao = comparar_strings(string1, string2)\n",
    "print(conclusao)\n",
    "\n",
    "print('-='*50)"
   ]
  },
  {
   "attachments": {},
   "cell_type": "markdown",
   "id": "c6640c76-06a0-49c1-a062-2ff8da651998",
   "metadata": {},
   "source": [
    "- ### 2 -Faça um programa que permita ao usuário digitar o seu nome e em seguida mostre o nome do usuário de trás para frente utilizando somente letras maiúsculas. Dica: lembre−se que ao informar o nome o usuário pode digitar letras maiúsculas ou minúsculas.\r\n",
    "\r\n",
    "\r",
    "<br>\n"
   ]
  },
  {
   "cell_type": "markdown",
   "id": "ca4bfa85-f276-4830-a11c-4a3aa9cae745",
   "metadata": {},
   "source": [
    "- Criei a função com input do nome, após transformei o nome com letras maiúsculas e na variável nome_invertido usei a função reversed() e o método join() com uma string vazia '' para juntar os caracteres do iterador em uma única string, resultando no nome invertido .\n",
    "- Chamei o print para mostrar o nome invertido e a função executando o programa definido."
   ]
  },
  {
   "cell_type": "code",
   "execution_count": 21,
   "id": "60e9ffd6-5350-46ac-b4d5-6f0d9d0912bd",
   "metadata": {},
   "outputs": [
    {
     "name": "stdin",
     "output_type": "stream",
     "text": [
      "Digite o seu nome:  thiago costa santana\n"
     ]
    },
    {
     "name": "stdout",
     "output_type": "stream",
     "text": [
      "Nome invertido:  ANATNAS ATSOC OGAIHT\n",
      "-=-=-=-=-=-=-=-=-=-=-=-=-=-=-=-=-=-=-=-=-=-=-=-=-=-=-=-=-=-=-=-=-=-=-=-=-=-=-=-=-=-=-=-=-=-=-=-=-=-=\n"
     ]
    }
   ],
   "source": [
    "def inverter_nome():\n",
    "    nome = input(\"Digite o seu nome: \")\n",
    "    \n",
    "    nome_maiusculo = nome.upper()\n",
    "    \n",
    "    nome_invertido = ''.join(reversed(nome_maiusculo))\n",
    "    \n",
    "    print(\"Nome invertido: \", nome_invertido)\n",
    "\n",
    "inverter_nome()\n",
    "\n",
    "\n",
    "print('-='*50)\n"
   ]
  },
  {
   "attachments": {},
   "cell_type": "markdown",
   "id": "893fcf1d-a816-4b2f-9ab3-1c98aa195073",
   "metadata": {},
   "source": [
    "- ### 3 - Faça um programa que solicite o nome do usuário e imprima-o na vertical!\n",
    "\n",
    "\n",
    "<br>\n",
    "\n"
   ]
  },
  {
   "cell_type": "markdown",
   "id": "370052a6-1794-4776-b5c3-87f5a955e7a8",
   "metadata": {},
   "source": [
    "- Criei a função nome_vertical, realizei o input na variável nome em um bloco if defini que o nome não pode conter números e usando o contador while parando o loop de forma segura com else informando que não pode ser um número, digite nome válido.\n",
    "- Finalizando chamando a função"
   ]
  },
  {
   "cell_type": "code",
   "execution_count": 25,
   "id": "ff5ba557-2413-470d-83b3-314b7ac96740",
   "metadata": {
    "scrolled": true
   },
   "outputs": [
    {
     "name": "stdin",
     "output_type": "stream",
     "text": [
      "Digite seu nome:  thiago\n"
     ]
    },
    {
     "name": "stdout",
     "output_type": "stream",
     "text": [
      "T\n",
      "H\n",
      "I\n",
      "A\n",
      "G\n",
      "O\n",
      "-=-=-=-=-=-=-=-=-=-=-=-=-=-=-=-=-=-=-=-=-=-=-=-=-=-=-=-=-=-=-=-=-=-=-=-=-=-=-=-=-=-=-=-=-=-=-=-=-=-=\n"
     ]
    }
   ],
   "source": [
    "def nome_vertical():\n",
    "    nome = input(\"Digite seu nome: \")\n",
    "\n",
    "    if not nome.isnumeric():\n",
    "        i = 0\n",
    "        while i < len(nome):\n",
    "            print(nome[i].upper())\n",
    "            i += 1\n",
    "    else:\n",
    "        print(\"Não inserir número. Digite um nome válido.\")\n",
    "\n",
    "nome_vertical()\n",
    "        \n",
    "print('-='*50)"
   ]
  },
  {
   "attachments": {},
   "cell_type": "markdown",
   "id": "a7b3ed1b-e80d-48c4-ae40-aab7a1e8c6ee",
   "metadata": {},
   "source": [
    "- ### 4 -Modifique o programa anterior de forma a mostrar o nome em formato de escada.\r",
    "\r\n",
    "\r",
    "<br> "
   ]
  },
  {
   "cell_type": "code",
   "execution_count": 26,
   "id": "0666782c-0b81-42de-907a-c14f2e2d84d3",
   "metadata": {},
   "outputs": [
    {
     "name": "stdin",
     "output_type": "stream",
     "text": [
      "Digite seu nome:  thiago\n"
     ]
    },
    {
     "name": "stdout",
     "output_type": "stream",
     "text": [
      "T\n",
      "TH\n",
      "THI\n",
      "THIA\n",
      "THIAG\n",
      "THIAGO\n",
      "-=-=-=-=-=-=-=-=-=-=-=-=-=-=-=-=-=-=-=-=-=-=-=-=-=-=-=-=-=-=-=-=-=-=-=-=-=-=-=-=-=-=-=-=-=-=-=-=-=-=\n"
     ]
    }
   ],
   "source": [
    "def nome_escada():\n",
    "    nome = input(\"Digite seu nome: \")\n",
    "\n",
    "    if not nome.isnumeric():\n",
    "        i = 0\n",
    "        while i < len(nome):\n",
    "            print(nome[:i+1].upper())\n",
    "            i += 1\n",
    "    else:\n",
    "        print(\"Não inserir número. Digite um nome válido.\")\n",
    "\n",
    "nome_escada()\n",
    "        \n",
    "print('-='*50)"
   ]
  },
  {
   "cell_type": "markdown",
   "id": "5c8f4c16-ce44-4235-9f6a-a42a3eda700c",
   "metadata": {},
   "source": [
    "- ### 5 -  Altera o programa anterior de modo que a escada seja invertida.\n",
    "\n",
    "\n",
    "<br>\n"
   ]
  },
  {
   "cell_type": "code",
   "execution_count": 27,
   "id": "713e5868-d16a-4b8f-9123-794374c709f4",
   "metadata": {},
   "outputs": [
    {
     "name": "stdin",
     "output_type": "stream",
     "text": [
      "Digite seu nome:  thiago\n"
     ]
    },
    {
     "name": "stdout",
     "output_type": "stream",
     "text": [
      "THIAGO\n",
      "THIAG\n",
      "THIA\n",
      "THI\n",
      "TH\n",
      "T\n",
      "-=-=-=-=-=-=-=-=-=-=-=-=-=-=-=-=-=-=-=-=-=-=-=-=-=-=-=-=-=-=-=-=-=-=-=-=-=-=-=-=-=-=-=-=-=-=-=-=-=-=\n"
     ]
    }
   ],
   "source": [
    "def escada_invertida():\n",
    "    nome = input(\"Digite seu nome: \")\n",
    "\n",
    "    if not nome.isnumeric():\n",
    "        i = len(nome)\n",
    "        while i > 0:\n",
    "            print(nome[:i].upper())\n",
    "            i -= 1\n",
    "    else:\n",
    "        print(\"Não inserir número. Digite um nome válido.\")\n",
    "\n",
    "escada_invertida()\n",
    "\n",
    "print('-='*50)"
   ]
  },
  {
   "attachments": {},
   "cell_type": "markdown",
   "id": "ecf96a9f-337a-443a-a20e-abe5be7e73ff",
   "metadata": {},
   "source": [
    "- ### 6 - Faça um programa que solicite a data de nascimento (dd/mm/aaaa) do usuário e imprima a data com o nome do mês por extenso.\r\n",
    "\n",
    "\n",
    "<br>"
   ]
  },
  {
   "cell_type": "markdown",
   "id": "dc6a28b4-3cac-40cb-a5b6-f4be6ffd5004",
   "metadata": {},
   "source": [
    "- Importa o módulo datetime da biblioteca datetime para lidar com datas e horas.\n",
    "- Importa a função setlocale e a constante LC_ALL da biblioteca locale para lidar com localidades, define o local para 'pt_BR.UTF-8'.\n",
    "- Define a função data_extenso que recebe uma data no formato dia/mês/ano e retorna a data de nascimento por extenso no formato \"dia de mês de ano\"..."
   ]
  },
  {
   "cell_type": "code",
   "execution_count": 33,
   "id": "05e5fbdd-4668-475f-ab06-4bd238c9c6cb",
   "metadata": {},
   "outputs": [
    {
     "name": "stdin",
     "output_type": "stream",
     "text": [
      "Informe a data de nascimento no formato dd/mm/aaaa:  16/05/2000\n"
     ]
    },
    {
     "name": "stdout",
     "output_type": "stream",
     "text": [
      "16 de maio de 2000\n",
      "-=-=-=-=-=-=-=-=-=-=-=-=-=-=-=-=-=-=-=-=-=-=-=-=-=-=-=-=-=-=-=-=-=-=-=-=-=-=-=-=-=-=-=-=-=-=-=-=-=-=\n"
     ]
    }
   ],
   "source": [
    "from datetime import datetime\n",
    "from locale import setlocale, LC_ALL\n",
    "\n",
    "setlocale(LC_ALL, 'pt_BR.UTF-8')\n",
    "\n",
    "def data_extenso(data_nascimento):\n",
    "    try:\n",
    "        data_formatada = datetime.strptime(data_nascimento, '%d/%m/%Y')\n",
    "        dia, mes, ano = data_formatada.day, data_formatada.strftime('%B'), data_formatada.year\n",
    "        return f'{dia} de {mes} de {ano}'\n",
    "    except ValueError:\n",
    "        return 'Data inválida'\n",
    "\n",
    "data_nascimento = input('Informe a data de nascimento no formato dd/mm/aaaa: ')\n",
    "resultado = data_extenso(data_nascimento)\n",
    "print(resultado)\n",
    "\n",
    "print('-='*50)"
   ]
  },
  {
   "cell_type": "markdown",
   "id": "645c084b-1e91-443a-a132-9a5319c2ddd6",
   "metadata": {},
   "source": [
    "- ### 7 - Dado uma string com uma frase informada pelo usuário (incluindo espaços em branco), conte:\n",
    "\n",
    "```\n",
    "a) quantos espaços em branco existem na frase.\n",
    "b) quantas vezes aparecem as vogais a, e, i, o, u.\n",
    "\n",
    "```\n",
    "\n",
    "<br>"
   ]
  },
  {
   "cell_type": "markdown",
   "id": "6f2ea2f2-c812-49b7-9441-a8b23856445c",
   "metadata": {},
   "source": [
    "- criei a função analisar_frase que recebe uma frase como entrada, inicializa um contador de espaços em branco e um dicionário de contadores de vogais. em seguida, uso for, if, elif e retunr para percorrer cada letra na frase fornecida e verificar se é um espaço em branco e incrementar o contador de espaços, ou se é uma vogal (ignorando maiúsculas e minúsculas) e incrementa o contador correspondente no dicionário.\n",
    "- Na variável frase inseri o input e defini que espacos e vogais são iguais a função criada e calculada.\n",
    "- Os resultados retorna via print, mostrando a quantidade de espaços em branco e a quantidade de cada vogal presente na frase."
   ]
  },
  {
   "cell_type": "code",
   "execution_count": 72,
   "id": "57760ad6-5313-4f87-9d8b-7f42c63595e8",
   "metadata": {},
   "outputs": [
    {
     "name": "stdin",
     "output_type": "stream",
     "text": [
      "Digite uma frase:  Eu trablaho com python e sql\n"
     ]
    },
    {
     "name": "stdout",
     "output_type": "stream",
     "text": [
      "Quantidade de espaços em branco: 5\n",
      "Quantidade de vogais:\n",
      "a: 2\n",
      "e: 2\n",
      "i: 0\n",
      "o: 3\n",
      "u: 1\n",
      "-=-=-=-=-=-=-=-=-=-=-=-=-=-=-=-=-=-=-=-=-=-=-=-=-=-=-=-=-=-=-=-=-=-=-=-=-=-=-=-=-=-=-=-=-=-=-=-=-=-=\n"
     ]
    }
   ],
   "source": [
    "def analisar_frase(frase):\n",
    "    espacos = 0\n",
    "    \n",
    "    vogais = {'a': 0, 'e': 0, 'i': 0, 'o': 0, 'u': 0}\n",
    "    \n",
    "    for letra in frase:\n",
    "        if letra == ' ':\n",
    "            espacos += 1\n",
    "        elif letra.lower() in vogais:\n",
    "            vogais[letra.lower()] += 1\n",
    "\n",
    "    return espacos, vogais\n",
    "\n",
    "frase = input(\"Digite uma frase: \")\n",
    "espacos, vogais = analisar_frase(frase)\n",
    "\n",
    "print(f\"Quantidade de espaços em branco: {espacos}\")\n",
    "print(\"Quantidade de vogais:\")\n",
    "\n",
    "for vogal, contagem in vogais.items():\n",
    "    print(f\"{vogal}: {contagem}\")\n",
    "    \n",
    "print('-='*50)"
   ]
  },
  {
   "attachments": {},
   "cell_type": "markdown",
   "id": "23515bd8-504a-461e-8627-9db78280382b",
   "metadata": {},
   "source": [
    "- ### 8 - Desenvolva um programa que solicite a digitação de um número de CPF no formato xxx.xxx.xxx-xx e indique se é um número válido ou inválido através da validação dos dígitos verificadores e dos caracteres de formatação.\r\n",
    "\n",
    "\n",
    "<br>"
   ]
  },
  {
   "cell_type": "markdown",
   "id": "6ee9ecfb-3d03-494a-9a23-429dfce98eee",
   "metadata": {},
   "source": [
    "- Criei a função para cpf_valido o cpf deve conter todos os caracteres e deve ser um cpf com o correto digito verificador para que retorne válido.\n",
    "- Verifica se o CPF tem 14 caracteres e se os caracteres de formatação estão nos locais corretos\n",
    "- verifica se o CPF é composto apenas por dígitos numéricos, Verifica os dígitos verificadores"
   ]
  },
  {
   "cell_type": "code",
   "execution_count": 37,
   "id": "896c8ee9-3ef4-48a1-8fb1-361b32dc3bbb",
   "metadata": {},
   "outputs": [
    {
     "name": "stdin",
     "output_type": "stream",
     "text": [
      "Digite um número de CPF no formato xxx.xxx.xxx-xx:  299.541.358-63\n"
     ]
    },
    {
     "name": "stdout",
     "output_type": "stream",
     "text": [
      "O CPF é válido.\n",
      "-=-=-=-=-=-=-=-=-=-=-=-=-=-=-=-=-=-=-=-=-=-=-=-=-=-=-=-=-=-=-=-=-=-=-=-=-=-=-=-=-=-=-=-=-=-=-=-=-=-=\n"
     ]
    }
   ],
   "source": [
    "def cpf_valido(cpf):\n",
    "   \n",
    "    if len(cpf) != 14 or cpf[3] != '.' or cpf[7] != '.' or cpf[11] != '-':\n",
    "        return False\n",
    "    \n",
    "   \n",
    "    cpf = cpf.replace('.', '').replace('-', '')\n",
    "    \n",
    "   \n",
    "    if not cpf.isdigit():\n",
    "        return False\n",
    "    \n",
    "    \n",
    "    total = 0\n",
    "    for i in range(9):\n",
    "        total += int(cpf[i]) * (10 - i)\n",
    "    \n",
    "    digito1 = 11 - (total % 11)\n",
    "    if digito1 > 9:\n",
    "        digito1 = 0\n",
    "    \n",
    "    total = 0\n",
    "    for i in range(10):\n",
    "        total += int(cpf[i]) * (11 - i)\n",
    "    \n",
    "    digito2 = 11 - (total % 11)\n",
    "    if digito2 > 9:\n",
    "        digito2 = 0\n",
    "    \n",
    "    if int(cpf[9]) == digito1 and int(cpf[10]) == digito2:\n",
    "        return True\n",
    "    else:\n",
    "        return False\n",
    "\n",
    "cpf = input(\"Digite um número de CPF no formato xxx.xxx.xxx-xx: \")\n",
    "\n",
    "\n",
    "if cpf_valido(cpf):\n",
    "    print(\"O CPF é válido.\")\n",
    "else:\n",
    "    print(\"O CPF é inválido.\")\n",
    "\n",
    "print('-='*50)\n"
   ]
  },
  {
   "attachments": {},
   "cell_type": "markdown",
   "id": "f89f8369-1824-4cae-92b4-b80882749e70",
   "metadata": {},
   "source": [
    "- ### 9 -Escreva um programa que solicite ao usuário a digitação de um número até 99 e imprima-o na tela por extenso.\r\n",
    "\n",
    "<br>\n"
   ]
  },
  {
   "cell_type": "markdown",
   "id": "3b49eaae-4fd5-48ba-ac90-475c0ada2878",
   "metadata": {},
   "source": [
    "- Crie uma função num_extenso que tem como objetivo receber um número de 0 a 99, na primeira parte da função temos duas listas unidades e dezenas \n",
    "- Chamei o input em num e no bloco if e else defini as condições e após executei a função."
   ]
  },
  {
   "cell_type": "code",
   "execution_count": 44,
   "id": "d1fe997b-a095-45d3-b707-bde40d1b8054",
   "metadata": {},
   "outputs": [
    {
     "name": "stdin",
     "output_type": "stream",
     "text": [
      "Digite um número de 0 a 99:  78\n"
     ]
    },
    {
     "name": "stdout",
     "output_type": "stream",
     "text": [
      "setenta e oito\n",
      "-=-=-=-=-=-=-=-=-=-=-=-=-=-=-=-=-=-=-=-=-=-=-=-=-=-=-=-=-=-=-=-=-=-=-=-=-=-=-=-=-=-=-=-=-=-=-=-=-=-=\n"
     ]
    }
   ],
   "source": [
    "def num_extenso():\n",
    "    \n",
    "    unidades = [\n",
    "        '', 'um', 'dois', 'três', 'quatro', \n",
    "        'cinco', 'seis', 'sete', 'oito', 'nove', \n",
    "        'dez', 'onze', 'doze', 'treze', 'catorze', \n",
    "        'quinze', 'dezesseis', 'dezessete', 'dezoito', 'dezenove']\n",
    "    \n",
    "    dezenas = ['', '', 'vinte', 'trinta', 'quarenta', \n",
    "               'cinquenta', 'sessenta', 'setenta', 'oitenta', 'noventa']\n",
    "\n",
    "    \n",
    "    num = int(input('Digite um número de 0 a 99: '))\n",
    "    \n",
    "    if num < 20:\n",
    "        print(unidades[num])\n",
    "    else:\n",
    "        dezena = num // 10\n",
    "        unidade = num % 10\n",
    "        if unidade == 0:\n",
    "            print(dezenas[dezena])\n",
    "        else:\n",
    "            print(dezenas[dezena] + ' e ' + unidades[unidade])\n",
    "\n",
    "num_extenso()\n",
    "\n",
    "print('-='*50)"
   ]
  },
  {
   "attachments": {
    "687acfb0-dea5-439b-bec2-4bba865be28c.png": {
     "image/png": "[encoded data removed]"
    }
   },
   "cell_type": "markdown",
   "id": "63196365-9d58-4525-8be6-4a9a7db87ae1",
   "metadata": {},
   "source": [
    "- ### 10 - Desenvolva um jogo da forca. O programa terá uma lista de palavras lidas de um arquivo texto e escolherá uma aleatoriamente. O jogador poderá errar 6 vezes antes de ser enforcado.\n",
    "\n",
    "              \n",
    "![image.png](attachment:687acfb0-dea5-439b-bec2-4bba865be28c.png)\n",
    "\n",
    "\n",
    "\n",
    "<br>"
   ]
  },
  {
   "cell_type": "markdown",
   "id": "37cb593c-4788-47e9-9b4f-62c1a1876784",
   "metadata": {},
   "source": [
    "- Crie uma função buscar_palavra que recebe uma lista de palavras como parâmetro e escolhe aleatoriamente uma dessas palavras para ser a palavra-chave do jogo. A função retorna a palavra escolhida.\n",
    "- Criei a função exibir_palavra que recebe uma lista de letras corretas que já foram descobertas. A função retorna a palavra com as letras já descobertas preenchidas e as não descobertas como \"_\".\n",
    "- A função principal jogo_da_forca é responsável por executar o jogo lê um arquivo de palavras, escolhe uma palavra aleatória, inicializa uma lista de letras corretas vazia, um contador de tentativas e uma variável booleana para indicar se o jogador foi enforcado. Em seguida, um loop é executado, permitindo que o jogador insira letras e verifique se elas estão na palavra escolhida. O jogo continua até que o jogador acerte a palavra ou erre 6 vezes. Ao final, o resultado do jogo é exibido.\n",
    "  "
   ]
  },
  {
   "cell_type": "code",
   "execution_count": 45,
   "id": "1903a08e-002f-4328-8428-27c3a3cb1f10",
   "metadata": {},
   "outputs": [
    {
     "name": "stdin",
     "output_type": "stream",
     "text": [
      "Digite uma letra:  e\n"
     ]
    },
    {
     "name": "stdout",
     "output_type": "stream",
     "text": [
      "A palavra é: E_ _ _ _\n"
     ]
    },
    {
     "name": "stdin",
     "output_type": "stream",
     "text": [
      "Digite uma letra:  x\n"
     ]
    },
    {
     "name": "stdout",
     "output_type": "stream",
     "text": [
      "A palavra é: EX_ _ _\n"
     ]
    },
    {
     "name": "stdin",
     "output_type": "stream",
     "text": [
      "Digite uma letra:  a\n"
     ]
    },
    {
     "name": "stdout",
     "output_type": "stream",
     "text": [
      "Você errou pela 1° vez. Tente de novo!\n"
     ]
    },
    {
     "name": "stdin",
     "output_type": "stream",
     "text": [
      "Digite uma letra:  i\n"
     ]
    },
    {
     "name": "stdout",
     "output_type": "stream",
     "text": [
      "Você errou pela 2° vez. Tente de novo!\n"
     ]
    },
    {
     "name": "stdin",
     "output_type": "stream",
     "text": [
      "Digite uma letra:  a\n"
     ]
    },
    {
     "name": "stdout",
     "output_type": "stream",
     "text": [
      "Você errou pela 3° vez. Tente de novo!\n"
     ]
    },
    {
     "name": "stdin",
     "output_type": "stream",
     "text": [
      "Digite uma letra:  t\n"
     ]
    },
    {
     "name": "stdout",
     "output_type": "stream",
     "text": [
      "Você errou pela 4° vez. Tente de novo!\n"
     ]
    },
    {
     "name": "stdin",
     "output_type": "stream",
     "text": [
      "Digite uma letra:  o\n"
     ]
    },
    {
     "name": "stdout",
     "output_type": "stream",
     "text": [
      "A palavra é: EX_ O_\n"
     ]
    },
    {
     "name": "stdin",
     "output_type": "stream",
     "text": [
      "Digite uma letra:  l\n"
     ]
    },
    {
     "name": "stdout",
     "output_type": "stream",
     "text": [
      "Você errou pela 5° vez. Tente de novo!\n"
     ]
    },
    {
     "name": "stdin",
     "output_type": "stream",
     "text": [
      "Digite uma letra:  c\n"
     ]
    },
    {
     "name": "stdout",
     "output_type": "stream",
     "text": [
      "Você errou pela 6° vez. Tente de novo!\n",
      "Você foi enforcado! A palavra era EXPOR.\n",
      "-=-=-=-=-=-=-=-=-=-=-=-=-=-=-=-=-=-=-=-=-=-=-=-=-=-=-=-=-=-=-=-=-=-=-=-=-=-=-=-=-=-=-=-=-=-=-=-=-=-=\n"
     ]
    }
   ],
   "source": [
    "import random\n",
    "\n",
    "def buscar_palavra(palavras):\n",
    "    return random.choice(palavras).strip()\n",
    "\n",
    "def exibir_palavra(palavra, letras_corretas):\n",
    "    palavra_exibida = [letra if letra in letras_corretas else \"_ \" for letra in palavra]\n",
    "    return \"\".join(palavra_exibida).strip()\n",
    "\n",
    "def jogo_da_forca():\n",
    "    try:\n",
    "        with open(r\"C:\\Users\\Thiago10\\OneDrive\\Área de Trabalho\\palavras.txt\") as file:\n",
    "            palavras = file.readlines()\n",
    "    except FileNotFoundError:\n",
    "        print(\"Erro: Arquivo de palavras não encontrado.\")\n",
    "        return\n",
    "\n",
    "    palavra = buscar_palavra(palavras)\n",
    "    letras_corretas = []\n",
    "    tentativas = 0\n",
    "    enforcado = False\n",
    "\n",
    "    while tentativas < 6:\n",
    "        letra = input(\"Digite uma letra: \").upper()\n",
    "\n",
    "        if letra.isalpha():\n",
    "            if letra in palavra:\n",
    "                letras_corretas.append(letra)\n",
    "                print(\"A palavra é:\", exibir_palavra(palavra, letras_corretas))\n",
    "            else:\n",
    "                tentativas += 1\n",
    "                print(f\"Você errou pela {tentativas}° vez. Tente de novo!\")\n",
    "        else:\n",
    "            print(\"Por favor, digite apenas letras.\")\n",
    "\n",
    "        if all(letra in letras_corretas for letra in palavra):\n",
    "            print(\"Parabéns, você acertou a palavra!\")\n",
    "            break\n",
    "\n",
    "    if tentativas == 6:\n",
    "        print(f\"Você foi enforcado! A palavra era {palavra}.\")\n",
    "\n",
    "jogo_da_forca()\n",
    "\n",
    "print('-=' * 50)"
   ]
  },
  {
   "attachments": {
    "206df3de-c2af-439b-9a57-2976335ad92e.png": {
     "image/png": "[encoded data removed]"
    }
   },
   "cell_type": "markdown",
   "id": "23fce6e4-7d59-4ccf-8d5c-801e89de6af5",
   "metadata": {},
   "source": [
    "- ### 11- Faça um programa que leia um número de telefone, e corrija o número no caso deste conter somente 7 dígitos, acrescentando o '3' na frente. O usuário pode informar o número com ou sem o traço separador.\n",
    "\n",
    "\n",
    "![image.png](attachment:206df3de-c2af-439b-9a57-2976335ad92e.png)\n",
    "\n",
    "<br>\n"
   ]
  },
  {
   "cell_type": "markdown",
   "id": "61c01199-5c37-4a31-84a5-7f1ca4ee825e",
   "metadata": {},
   "source": [
    "- Criei função corrigir_telefone deixando contador a partir de 0 com lite de 3 tentativas evitando loop infinito\n",
    "- No bloco if possui condições para tratamento na entrada no caso input com raise e tratamento final com except caso persista em erro\n",
    "- Para finalizar executei a função corrigir_telefone"
   ]
  },
  {
   "cell_type": "code",
   "execution_count": 53,
   "id": "6f6e9d1e-d69f-41fe-abf6-a6aaf47272f2",
   "metadata": {},
   "outputs": [
    {
     "name": "stdin",
     "output_type": "stream",
     "text": [
      "Digite o número de telefone com 7 números:  -123\n"
     ]
    },
    {
     "name": "stdout",
     "output_type": "stream",
     "text": [
      "Erro: Número de telefone deve conter apenas dígitos.\n"
     ]
    },
    {
     "name": "stdin",
     "output_type": "stream",
     "text": [
      "Digite o número de telefone com 7 números:  thiago\n"
     ]
    },
    {
     "name": "stdout",
     "output_type": "stream",
     "text": [
      "Erro: Número de telefone deve conter apenas dígitos.\n"
     ]
    },
    {
     "name": "stdin",
     "output_type": "stream",
     "text": [
      "Digite o número de telefone com 7 números:  4610133\n"
     ]
    },
    {
     "name": "stdout",
     "output_type": "stream",
     "text": [
      "Telefone corrigido sem formatação: 34610133\n",
      "Telefone corrigido com formatação: 3461-0133\n",
      "-=-=-=-=-=-=-=-=-=-=-=-=-=-=-=-=-=-=-=-=-=-=-=-=-=-=-=-=-=-=-=-=-=-=-=-=-=-=-=-=-=-=-=-=-=-=-=-=-=-=\n"
     ]
    }
   ],
   "source": [
    "def corrigir_telefone(numero_telefone, contador=0):\n",
    "    try:\n",
    "        contador += 1\n",
    "\n",
    "        if contador > 3:\n",
    "            print(\"Limite de tentativas excedido. Programa encerrado.\")\n",
    "            return\n",
    "\n",
    "        if not numero_telefone.isdigit():\n",
    "            raise ValueError(\"Número de telefone deve conter apenas dígitos.\")\n",
    "\n",
    "        if len(numero_telefone) != 7:\n",
    "            raise ValueError(\"Número de telefone deve ter 7 dígitos.\")\n",
    "\n",
    "        numero_corrigido = \"3\" + numero_telefone\n",
    "        numero_formatado = numero_corrigido[:4] + \"-\" + numero_corrigido[4:]\n",
    "\n",
    "        print(f\"Telefone corrigido sem formatação: {numero_corrigido}\")\n",
    "        print(f\"Telefone corrigido com formatação: {numero_formatado}\")\n",
    "\n",
    "    except ValueError as erro:\n",
    "        print(f\"Erro: {erro}\")\n",
    "        numero_telefone = input(\"Digite o número de telefone com 7 números: \")\n",
    "        corrigir_telefone(numero_telefone, contador)\n",
    "\n",
    "\n",
    "corrigir_telefone(input(\"Digite o número de telefone com 7 números: \"))\n",
    "\n",
    "print('-=' * 50)"
   ]
  },
  {
   "cell_type": "markdown",
   "id": "ae66db6e-6c2a-4614-831a-94aeb3d64f44",
   "metadata": {},
   "source": [
    "- ### 12 - Desenvolva um jogo em que o usuário tenha que adivinhar uma palavra que será mostrada com as letras embaralhadas. O programa terá uma lista de palavras lidas de um arquivo texto e escolherá uma aleatoriamente. O jogador terá seis tentativas para adivinhar a palavra. Ao final a palavra deve ser mostrada na tela, informando se o usuário ganhou ou perdeu o jogo.\n",
    "\n",
    "\n",
    "<br>"
   ]
  },
  {
   "cell_type": "markdown",
   "id": "a8f9ae57-40bc-4749-a0a6-4c2fe1ccfd6f",
   "metadata": {},
   "source": [
    "- Criei a função escolher_palavra\" lê um arquivo contendo palavras, armazena essas palavras em uma lista, escolhe aleatoriamente uma palavra desta lista e a retorna. As funções utilizadas são \"open\" para abrir o arquivo, \"readlines\" para ler as linhas do arquivo, \"random.choice\" para escolher uma palavra aleatória e \"strip\" para remover espaços em branco.\n",
    "- Criei a função embaralhar_palavra a lista de letras embaralhadas é convertida em uma string única a lista utiliza o método random.sample para embaralhar as letras da palavra. O random.sample seleciona aleatoriamente uma amostra de tamanho len(palavra) sem substituição, sem repetir os elementos. O método ''.join() é usado para concatenar os elementos da lista em uma string.\n",
    "- Criei a função verificar_palavra compara a palavra original e a palavra adivinhada, retornando verdadeiro se forem iguais com uso da função upper() usuário pode digitar em minúsculo sistema irá trazer maiúsculo\n",
    "- Criei a função jogar_adivinhacao() executa o jogo principal. Ele chama as funções escolher_palavra() e embaralhar_palavra() para obter a palavra a ser adivinhada e a palavra embaralhada. Em seguida, exibe uma mensagem de boas-vindas e instruções, e inicia um loop para permitir seis tentativas de adivinhar a palavra correta. Quando o limite de tentativas é atingido, o jogo revela a palavra correta."
   ]
  },
  {
   "cell_type": "code",
   "execution_count": 60,
   "id": "54ff0b9b-ff1a-419c-80bd-b5db99b20834",
   "metadata": {},
   "outputs": [
    {
     "name": "stdout",
     "output_type": "stream",
     "text": [
      "Bem-vindo ao Jogo de Adivinhação de Palavras!\n",
      "Tente adivinhar a palavra embaralhada. Você tem 6 tentativas.\n",
      "A palavra é: ONERG\n"
     ]
    },
    {
     "name": "stdin",
     "output_type": "stream",
     "text": [
      "Digite a palavra adivinhada:  reno\n"
     ]
    },
    {
     "name": "stdout",
     "output_type": "stream",
     "text": [
      "Palavra incorreta. Tente novamente.\n"
     ]
    },
    {
     "name": "stdin",
     "output_type": "stream",
     "text": [
      "Digite a palavra adivinhada:  onrg\n"
     ]
    },
    {
     "name": "stdout",
     "output_type": "stream",
     "text": [
      "Palavra incorreta. Tente novamente.\n"
     ]
    },
    {
     "name": "stdin",
     "output_type": "stream",
     "text": [
      "Digite a palavra adivinhada:  onrgi\n"
     ]
    },
    {
     "name": "stdout",
     "output_type": "stream",
     "text": [
      "Palavra incorreta. Tente novamente.\n"
     ]
    },
    {
     "name": "stdin",
     "output_type": "stream",
     "text": [
      "Digite a palavra adivinhada:  orgh\n"
     ]
    },
    {
     "name": "stdout",
     "output_type": "stream",
     "text": [
      "Palavra incorreta. Tente novamente.\n"
     ]
    },
    {
     "name": "stdin",
     "output_type": "stream",
     "text": [
      "Digite a palavra adivinhada:  neogr\n"
     ]
    },
    {
     "name": "stdout",
     "output_type": "stream",
     "text": [
      "Palavra incorreta. Tente novamente.\n"
     ]
    },
    {
     "name": "stdin",
     "output_type": "stream",
     "text": [
      "Digite a palavra adivinhada:  gomer\n"
     ]
    },
    {
     "name": "stdout",
     "output_type": "stream",
     "text": [
      "Palavra incorreta. Tente novamente.\n",
      "Suas tentativas acabaram. A palavra correta era: GENRO\n",
      "-=-=-=-=-=-=-=-=-=-=-=-=-=-=-=-=-=-=-=-=-=-=-=-=-=-=-=-=-=-=-=-=-=-=-=-=-=-=-=-=-=-=-=-=-=-=-=-=-=-=\n"
     ]
    }
   ],
   "source": [
    "import random\n",
    "\n",
    "# Função para escolher uma palavra aleatória do arquivo de palavras\n",
    "def escolher_palavra():\n",
    "    with open(r\"C:\\Users\\Thiago10\\OneDrive\\Área de Trabalho\\palavras.txt\") as arquivo:\n",
    "        palavras = arquivo.readlines()\n",
    "    palavra = random.choice(palavras).strip()\n",
    "    return palavra\n",
    "\n",
    "# Função para embaralhar as letras da palavra\n",
    "def embaralhar_palavra(palavra):\n",
    "    letras_embaralhadas = random.sample(palavra, len(palavra))\n",
    "    palavra_embaralhada = ''.join(letras_embaralhadas)\n",
    "    return palavra_embaralhada\n",
    "\n",
    "def verificar_palavra(palavra, palavra_adivinhada):\n",
    "    return palavra.upper() == palavra_adivinhada\n",
    "\n",
    "def jogar_adivinhacao():\n",
    "    palavra = escolher_palavra()\n",
    "    palavra_embaralhada = embaralhar_palavra(palavra)\n",
    "    \n",
    "    mostrar_mensagem(\"Bem-vindo ao Jogo de Adivinhação de Palavras!\")\n",
    "    mostrar_mensagem(\"Tente adivinhar a palavra embaralhada. Você tem 6 tentativas.\")\n",
    "    mostrar_mensagem(\"A palavra é: {}\".format(palavra_embaralhada))\n",
    "    \n",
    "    for tentativa in range(6):\n",
    "        palavra_adivinhada = input(\"Digite a palavra adivinhada: \").upper()\n",
    "        \n",
    "        if verificar_palavra(palavra, palavra_adivinhada):\n",
    "            mostrar_mensagem(\"Parabéns! Você acertou a palavra.\")\n",
    "            mostrar_mensagem(\"A palavra correta é: {}\".format(palavra.upper()))\n",
    "            return\n",
    "        else:\n",
    "            mostrar_mensagem(\"Palavra incorreta. Tente novamente.\")\n",
    "    \n",
    "    mostrar_mensagem(\"Suas tentativas acabaram. A palavra correta era: {}\".format(palavra))\n",
    "\n",
    "\n",
    "jogar_adivinhacao()\n",
    "\n",
    "print('-=' * 50)                                     "
   ]
  }
 ],
 "metadata": {
  "kernelspec": {
   "display_name": "Python 3 (ipykernel)",
   "language": "python",
   "name": "python3"
  },
  "language_info": {
   "codemirror_mode": {
    "name": "ipython",
    "version": 3
   },
   "file_extension": ".py",
   "mimetype": "text/x-python",
   "name": "python",
   "nbconvert_exporter": "python",
   "pygments_lexer": "ipython3",
   "version": "3.11.7"
  }
 },
 "nbformat": 4,
 "nbformat_minor": 5
}
