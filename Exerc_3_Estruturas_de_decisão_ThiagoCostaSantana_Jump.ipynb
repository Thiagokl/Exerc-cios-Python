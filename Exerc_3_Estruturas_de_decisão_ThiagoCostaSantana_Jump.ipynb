{
 "cells": [
  {
   "cell_type": "markdown",
   "id": "944ba66f-ab53-444b-917b-9313dd0d3822",
   "metadata": {},
   "source": [
    "\n",
    "<div style=\"display: flex; align-items: center;\">\n",
    "  <img src=\"https://jump.tec.br/wp-content/themes/jump/images/jump.svg\" alt=\"Logomarca da Jump\" style=\"width: 150px; margin-right: 30px;\">\n",
    "  <h1 style=\"font-size: 17px;\">Sexta-Feira 28/06/2024</h1>\n",
    "</div>\n",
    "\n",
    "  <p style=\"color: orange; font-size: 18px; text-align: left; width: 130px; margin-right: 30px;\">Jump Start 4</p>\n",
    "<h2 style=\"text-align: center;\">Thiago Costa Santana</h2>\n",
    "<br>\n",
    "<h1 align=\"center\">Exercícios 3 - Estruturas de decisão</h1>\n",
    "<br>"
   ]
  },
  {
   "attachments": {},
   "cell_type": "markdown",
   "id": "149ffafa-c49b-4c40-996e-0833cfa5ecf0",
   "metadata": {},
   "source": [
    "- ### 1 - Faça um programa que peça uma nota, entre zero e dez. Mostre uma mensagem caso o valor seja inválido e continue pedindo até que o usuário informe um valor válido.\r\n",
    " <br>\n",
    "  "
   ]
  },
  {
   "cell_type": "markdown",
   "id": "a39397be-069f-43f8-bf40-179dcebe3026",
   "metadata": {},
   "source": [
    "- Criei uma função responsável por pedir uma nota ao usuário e validar se a nota está no intervalo entre 0 e 10.\n",
    "- Defini as condiçções dentro do bloco com While True com um loop garantindo que o usuário digite uma nota válida\n",
    "- try, except usei para capturar possíveis erros de valor inválido ou conversão de string para float, se o usuário digitar uma nota válida, a função retorna essa nota e o programa imprime a mensagem, com f string concatenei o print a string com a nota chamada via função\n",
    "  "
   ]
  },
  {
   "cell_type": "code",
   "execution_count": 10,
   "id": "7e695c48-a0c1-4e1d-b2dd-cedda73ebb60",
   "metadata": {},
   "outputs": [
    {
     "name": "stdin",
     "output_type": "stream",
     "text": [
      "Digite uma nota entre 0 e 10:  -1\n"
     ]
    },
    {
     "name": "stdout",
     "output_type": "stream",
     "text": [
      "Nota inválida. A nota deve estar entre 0 e 10. Tente novamente.\n"
     ]
    },
    {
     "name": "stdin",
     "output_type": "stream",
     "text": [
      "Digite uma nota entre 0 e 10:  dois\n"
     ]
    },
    {
     "name": "stdout",
     "output_type": "stream",
     "text": [
      "Valor inválido. Digite apenas números.\n"
     ]
    },
    {
     "name": "stdin",
     "output_type": "stream",
     "text": [
      "Digite uma nota entre 0 e 10:  8\n"
     ]
    },
    {
     "name": "stdout",
     "output_type": "stream",
     "text": [
      "A nota válida digitada foi: 8.0\n",
      "-=-=-=-=-=-=-=-=-=-=-=-=-=-=-=-=-=-=-=-=-=-=-=-=-=-=-=-=-=-=-=-=-=-=-=-=-=-=-=-=-=-=-=-=-=-=-=-=-=-=\n"
     ]
    }
   ],
   "source": [
    "def valor_valido():\n",
    "    \n",
    "    while True:\n",
    "        try:\n",
    "            nota = float(input(\"Digite uma nota entre 0 e 10: \"))\n",
    "            if nota < 0 or nota > 10:\n",
    "                print(\"Nota inválida. A nota deve estar entre 0 e 10. Tente novamente.\")\n",
    "            else:\n",
    "                return nota\n",
    "        except ValueError:\n",
    "            print(\"Valor inválido. Digite apenas números.\")\n",
    "\n",
    "nota_valida = valor_valido()\n",
    "\n",
    "print(f\"A nota válida digitada foi: {nota_valida}\")\n",
    "\n",
    "print('-='*50)\n"
   ]
  },
  {
   "cell_type": "markdown",
   "id": "a3213ac8-56cc-43ad-b708-e39a6a5ccbc5",
   "metadata": {},
   "source": [
    "- ### 2 - Faça um programa que leia um nome de usuário e a sua senha e não aceite a senha igual ao nome do usuário, mostrando uma mensagem de erro e voltando a pedir as informações.\n",
    "\n",
    " <br>\n"
   ]
  },
  {
   "cell_type": "markdown",
   "id": "ed607200-c039-44f4-99c3-eb5c6b1b119e",
   "metadata": {},
   "source": [
    "- Criei uma função que recebe um loop while True, o programa solicita ao usuário que digite o nome de usuário e a senha.\n",
    "- É verificado se a senha é igual ao nome de usuário (em letras minúsculas) e se o primeiro nome da senha é igual ao primeiro nome do usuário. Caso alguma dessas condições seja verdadeira, uma exceção do tipo ValueError é lançada com a mensagem de erro."
   ]
  },
  {
   "cell_type": "code",
   "execution_count": 20,
   "id": "5b229bbb-3ad8-417e-946a-8dcd0052f08e",
   "metadata": {},
   "outputs": [
    {
     "name": "stdin",
     "output_type": "stream",
     "text": [
      "Digite o nome de usuário:  Thiago Costa Santana\n",
      "Digite a senha:  thiago\n"
     ]
    },
    {
     "name": "stdout",
     "output_type": "stream",
     "text": [
      "Erro: Senha não pode ser igual usuário\n"
     ]
    },
    {
     "name": "stdin",
     "output_type": "stream",
     "text": [
      "Digite o nome de usuário:  Thiago Costa Santana\n",
      "Digite a senha:  1234\n"
     ]
    },
    {
     "name": "stdout",
     "output_type": "stream",
     "text": [
      "Usuário e senha registrados com sucesso.\n",
      "-=-=-=-=-=-=-=-=-=-=-=-=-=-=-=-=-=-=-=-=-=-=-=-=-=-=-=-=-=-=-=-=-=-=-=-=-=-=-=-=-=-=-=-=-=-=-=-=-=-=\n"
     ]
    }
   ],
   "source": [
    "def cadastro_usuario():\n",
    "    \n",
    "    while True:\n",
    "        \n",
    "        try:\n",
    "            usuario = input(\"Digite o nome de usuário: \")\n",
    "            senha = input(\"Digite a senha: \")\n",
    "            primeiro_nome_usuario = usuario.split()[0].lower()\n",
    "            primeiro_nome_senha = senha.split()[0].lower()\n",
    "\n",
    "            if usuario.lower() == senha.lower():\n",
    "                raise ValueError(\"Erro: A senha não pode ser igual ao nome de usuário, mesmo em letras minúsculas.\")\n",
    "\n",
    "            if primeiro_nome_usuario == primeiro_nome_senha:\n",
    "                raise ValueError(\"Erro: A senha não pode ser igual ao primeiro nome do usuário.\")\n",
    "\n",
    "            print(\"Usuário e senha registrados com sucesso.\")\n",
    "            break\n",
    "\n",
    "        except ValueError:\n",
    "            print(\"Erro: Senha não pode ser igual usuário\")\n",
    "            \n",
    "cadastro_usuario()\n",
    "\n",
    "print('-='*50)"
   ]
  },
  {
   "cell_type": "markdown",
   "id": "73aa57cb-518c-40fa-a657-bf36a44f3d48",
   "metadata": {},
   "source": [
    "- ### 3 - Faça um programa que leia e valide as seguintes informações:\n",
    "```  \n",
    "•\tNome: maior que 3 caracteres;\n",
    "•\tIdade: entre 0 e 150;\n",
    "•\tSalário: maior que zero;\n",
    "•\tSexo: 'f' ou 'm';\n",
    "•\tEstado Civil: 's', 'c', 'v', 'd’.\n",
    "\n",
    "\n",
    "```\n",
    "\n",
    "<br>"
   ]
  },
  {
   "cell_type": "markdown",
   "id": "2b14b32d-3189-4a4b-84b0-67e677874c87",
   "metadata": {},
   "source": [
    "- Criei uma função, usando while True para verificar as condições do dado de entrada através de um loop\n",
    "- Com as variáveis criadas e tratadas, inseri o print f string para cada chamada evidênciando o dado."
   ]
  },
  {
   "cell_type": "code",
   "execution_count": 105,
   "id": "4fcac3bb-497c-4442-a1f2-b86fdb36f7be",
   "metadata": {},
   "outputs": [
    {
     "name": "stdin",
     "output_type": "stream",
     "text": [
      "Digite o nome (maior que 3 caracteres):  Thiago\n",
      "Digite a idade (de 0 a 150):  18\n",
      "Digite o salário (maior que zero):  1000\n",
      "Digite o sexo (M ou F):  m\n",
      "Digite o estado civil (s, c, v ou d):  c\n"
     ]
    },
    {
     "name": "stdout",
     "output_type": "stream",
     "text": [
      "Nome: Thiago\n",
      "Idade: 18 anos\n",
      "Salário: R$ 1000.00\n",
      "Sexo: Masculino\n",
      "Estado Civil: Casado\n",
      "-=-=-=-=-=-=-=-=-=-=-=-=-=-=-=-=-=-=-=-=-=-=-=-=-=-=-=-=-=-=-=-=-=-=-=-=-=-=-=-=-=-=-=-=-=-=-=-=-=-=\n"
     ]
    }
   ],
   "source": [
    "def valida_dado(mensagem_entrada, validacao):\n",
    "    \n",
    "    while True:\n",
    "        \n",
    "        dado = input(mensagem_entrada)\n",
    "        if not validacao(dado):\n",
    "            print(f\"Entrada inválida: {dado}\")\n",
    "        else:\n",
    "            return dado\n",
    "\n",
    "nome = valida_dado(\"Digite o nome (maior que 3 caracteres): \", lambda x: len(x) > 3)\n",
    "idade = valida_dado(\"Digite a idade (de 0 a 150): \", lambda x: x.isdigit() and 0 <= int(x) <= 150)\n",
    "salario = float(valida_dado(\"Digite o salário (maior que zero): \", lambda x: x.replace(',', '').replace('.', '').isdigit() and float(x) > 0))\n",
    "sexo = valida_dado(\"Digite o sexo (M ou F): \", lambda x: x.upper() in ['M', 'F'])\n",
    "estado_civil = valida_dado(\"Digite o estado civil (s, c, v ou d): \", lambda x: x.lower() in ['s', 'c', 'v', 'd'])\n",
    "\n",
    "estado_civil_descricao = {'s': 'Solteiro', 'c': 'Casado', 'v': 'Viúvo', 'd': 'Divorciado'}\n",
    "\n",
    "print(f\"Nome: {nome.title()}\")\n",
    "print(f\"Idade: {idade} anos\")\n",
    "print(f\"Salário: R$ {salario:.2f}\")\n",
    "print(f\"Sexo: {'Masculino' if sexo.upper() == 'M' else 'Feminino'}\")\n",
    "print(f\"Estado Civil: {estado_civil_descricao.get(estado_civil)}\")\n",
    "\n",
    "print('-='*50)"
   ]
  },
  {
   "cell_type": "markdown",
   "id": "8c3b97bf-5759-4765-9b5f-7f1bc685e33c",
   "metadata": {},
   "source": [
    "- ### 4 - Supondo que a população de um país X seja da ordem de 100000 habitantes com uma taxa anual de crescimento de 2,7% e que a população de W seja 250000 habitantes com uma taxa de crescimento de 1.3%. Faça um programa que calcule e escreva o número de anos necessários para que a população do país X ultrapasse ou iguale a população do país W, mantidas as taxas de crescimento.\n",
    "\n",
    "<br>"
   ]
  },
  {
   "cell_type": "markdown",
   "id": "940930d3-d6da-4e48-8b56-ad9485a31b74",
   "metadata": {},
   "source": [
    "- Criei uma função após importar locale definindo a formatação para o idioma e região desejados atribui . \n",
    "- Em seguida, a linha anos_formatado = locale.format_string(\"%d\", anos, grouping=True) está formatando o número de anos (anos)\n",
    "- No print f string serão apresentados os calculos realizados através das variáveis criadas informando os dados e a condição while para cálculo"
   ]
  },
  {
   "cell_type": "code",
   "execution_count": 40,
   "id": "89732c8e-2ac7-469b-9544-c3b65b83d104",
   "metadata": {},
   "outputs": [
    {
     "name": "stdout",
     "output_type": "stream",
     "text": [
      "Serão necessários 67 anos para que a população X ultrapasse a população W.\n",
      "-=-=-=-=-=-=-=-=-=-=-=-=-=-=-=-=-=-=-=-=-=-=-=-=-=-=-=-=-=-=-=-=-=-=-=-=-=-=-=-=-=-=-=-=-=-=-=-=-=-=\n"
     ]
    }
   ],
   "source": [
    "import locale\n",
    "\n",
    "def populacao(anos):\n",
    "    locale.setlocale(locale.LC_ALL, 'pt_BR.UTF-8')\n",
    "    anos_formatado = locale.format_string(\"%d\", anos, grouping=True)\n",
    "    print(f\"Serão necessários {anos_formatado} anos para que a população X ultrapasse a população W.\")\n",
    "\n",
    "populacao_X = 1000.00\n",
    "taxa_crescimento_X = 0.027\n",
    "populacao_W = 2500.00\n",
    "taxa_crescimento_W = 0.013\n",
    "anos = 0\n",
    "\n",
    "while populacao_X <= populacao_W:\n",
    "    populacao_X = populacao_X + (populacao_X * taxa_crescimento_X)\n",
    "    populacao_W = populacao_W + (populacao_W * taxa_crescimento_W)\n",
    "    anos += 1\n",
    "\n",
    "populacao(anos)\n",
    "print('-='*50)"
   ]
  },
  {
   "cell_type": "markdown",
   "id": "5c0984b1-26f6-42d8-8e6e-4ec09f0b896f",
   "metadata": {},
   "source": [
    " - ### 5 - Altere o programa anterior permitindo ao usuário informar as populações e as taxas de crescimento iniciais. Valide a entrada e permita repetir a operação.\n",
    "\n",
    "<br>\n",
    " "
   ]
  },
  {
   "cell_type": "markdown",
   "id": "28adbb8d-5a0d-47ba-95ca-ee4b09a682e1",
   "metadata": {},
   "source": [
    "- Criei uma função após importar locale definindo a formatação para o idioma e região desejados atribui . \n",
    "- Formata a variável anos_formatado como uma string, print indicando o número de anos necessários para que a população X ultrapasse a população W.\n",
    "- Solicita ao usuário que informe a população inicial de X, solicita ao usuário que informe a taxa de crescimento de X em porcentagem.\n",
    "- Solicita ao usuário que informe a população inicial de W, solicita ao usuário que informe a taxa de crescimento de W em porcentagem.\n",
    "- Inicia a variável anos com o valor 0, verifica se os valores são válidos maiores que 0, calcula a taxa de crescimento de X e de W, dividindo as porcentagens por 100.\n",
    "- Inicia um loop que continua até a população X ultrapassar a população W, atualiza o valor da população X e W de acordo com as taxas de crescimento.\n",
    "- Incrementa a variável anos a cada iteração.\n",
    "- Se a população X ultrapassar a população W, o loop é interrompido.\n",
    "- Chama a função populacao para execução"
   ]
  },
  {
   "cell_type": "code",
   "execution_count": 45,
   "id": "bcd1a4c0-15db-4dcb-991b-d287df8f7570",
   "metadata": {},
   "outputs": [
    {
     "name": "stdin",
     "output_type": "stream",
     "text": [
      "Informe a população inicial de X:  100\n",
      "Informe a taxa de crescimento de X (%):  20\n",
      "Informe a população inicial de W:  300\n",
      "Informe a taxa de crescimento de W (%):  5\n"
     ]
    },
    {
     "name": "stdout",
     "output_type": "stream",
     "text": [
      "Serão necessários 9 anos para que a população X ultrapasse a população W.\n",
      "-=-=-=-=-=-=-=-=-=-=-=-=-=-=-=-=-=-=-=-=-=-=-=-=-=-=-=-=-=-=-=-=-=-=-=-=-=-=-=-=-=-=-=-=-=-=-=-=-=-=\n"
     ]
    }
   ],
   "source": [
    "import locale\n",
    "\n",
    "def populacao(anos):\n",
    "    locale.setlocale(locale.LC_ALL, 'pt_BR.UTF-8')\n",
    "    anos_formatado = locale.format_string(\"%d\", anos, grouping=True)\n",
    "    print(f\"Serão necessários {anos_formatado} anos para que a população X ultrapasse a população W.\")\n",
    "\n",
    "populacao_X = int(input(\"Informe a população inicial de X: \"))\n",
    "taxa_crescimento_X_porcentagem = float(input(\"Informe a taxa de crescimento de X (%): \"))\n",
    "populacao_W = int(input(\"Informe a população inicial de W: \"))\n",
    "taxa_crescimento_W_porcentagem = float(input(\"Informe a taxa de crescimento de W (%): \"))\n",
    "anos = 0\n",
    "\n",
    "if populacao_X <= 0 or taxa_crescimento_X_porcentagem <= 0 or populacao_W <= 0 or taxa_crescimento_W_porcentagem <= 0:\n",
    "    print(\"Informe valores maiores que 0. Por favor, tente novamente.\")\n",
    "else:\n",
    "    taxa_crescimento_X = taxa_crescimento_X_porcentagem / 100\n",
    "    taxa_crescimento_W = taxa_crescimento_W_porcentagem / 100\n",
    "    while populacao_X <= populacao_W:\n",
    "        populacao_X = populacao_X + (populacao_X * taxa_crescimento_X)\n",
    "        populacao_W = populacao_W + (populacao_W * taxa_crescimento_W)\n",
    "        anos += 1\n",
    "        if populacao_X > populacao_W:\n",
    "            break\n",
    "\n",
    "populacao(anos)\n",
    "print('-='*50)         \n"
   ]
  },
  {
   "attachments": {},
   "cell_type": "markdown",
   "id": "cb1da319-54f5-4e29-9bd7-6225bc5975ee",
   "metadata": {},
   "source": [
    "\n",
    "- ### 6 - Faça um programa que imprima na tela os números de 1 a 15, um abaixo do outro. Depois modifique o programa para que ele mostre os números um ao lado do outro.\r\n",
    "\n",
    "<br>\n"
   ]
  },
  {
   "cell_type": "markdown",
   "id": "a3acf51b-ca34-445c-a4d0-047328aa5636",
   "metadata": {},
   "source": [
    "- Criei as funções para chamar primeiro um abaixo do outro e após lado a lado com print do resultado"
   ]
  },
  {
   "cell_type": "code",
   "execution_count": 53,
   "id": "6f032c50-1add-42b9-a95c-5a46aa52b2d4",
   "metadata": {},
   "outputs": [
    {
     "name": "stdout",
     "output_type": "stream",
     "text": [
      "visualizando números um abaixo do outro:\n",
      "1\n",
      "2\n",
      "3\n",
      "4\n",
      "5\n",
      "6\n",
      "7\n",
      "8\n",
      "9\n",
      "10\n",
      "11\n",
      "12\n",
      "13\n",
      "14\n",
      "15\n",
      "\n",
      "visualizando números lado a lado:\n",
      "1 2 3 4 5 6 7 8 9 10 11 12 13 14 15 \n",
      "-=-=-=-=-=-=-=-=-=-=-=-=-=-=-=-=-=-=-=-=-=-=-=-=-=-=-=-=-=-=-=-=-=-=-=-=-=-=-=-=-=-=-=-=-=-=-=-=-=-=\n"
     ]
    }
   ],
   "source": [
    "def numeros_lista():\n",
    "   \n",
    "    for i in range(1, 16):\n",
    "        print(i)\n",
    "\n",
    "def numeros_lado_a_lado():\n",
    "   \n",
    "    for i in range(1, 16):\n",
    "        print(i, end=\" \")\n",
    "\n",
    "\n",
    "print(\"visualizando números um abaixo do outro:\")\n",
    "numeros_lista()\n",
    "\n",
    "\n",
    "print(\"\\nvisualizando números lado a lado:\")\n",
    "numeros_lado_a_lado()\n",
    "\n",
    "print('')\n",
    "\n",
    "print('-='*50)"
   ]
  },
  {
   "attachments": {},
   "cell_type": "markdown",
   "id": "cdb75e7c-7c93-4c20-8249-99289d482166",
   "metadata": {},
   "source": [
    "\n",
    "- ### 7 - Faça um programa que leia 4 números e informe o maior número.\r\n",
    "\r",
    "<br>\n"
   ]
  },
  {
   "cell_type": "markdown",
   "id": "c191af2b-6581-45e9-aa31-d84bb2b91fa3",
   "metadata": {},
   "source": [
    "- Criei uma função pedindo maior valor, usando max dos números inseridos no input dentro do bloco atribuído, evidenciado no print concatenado f string"
   ]
  },
  {
   "cell_type": "code",
   "execution_count": 103,
   "id": "9e59e10a-211e-4a99-9157-d8e16b35bf69",
   "metadata": {},
   "outputs": [
    {
     "name": "stdin",
     "output_type": "stream",
     "text": [
      "Digite um número:  15\n",
      "Digite um número:  45\n",
      "Digite um número:  58\n",
      "Digite um número:  43\n"
     ]
    },
    {
     "name": "stdout",
     "output_type": "stream",
     "text": [
      "O maior número é 58.0\n",
      "-=-=-=-=-=-=-=-=-=-=-=-=-=-=-=-=-=-=-=-=-=-=-=-=-=-=-=-=-=-=-=-=-=-=-=-=-=-=-=-=-=-=-=-=-=-=-=-=-=-=\n"
     ]
    }
   ],
   "source": [
    "def maior_numero(num1, num2, num3, num4):\n",
    "    \n",
    "    return max(num1, num2, num3, num4)\n",
    "\n",
    "numeros = []\n",
    "\n",
    "for i in range(4):\n",
    "    while True:\n",
    "        try:\n",
    "            num = float(input(\"Digite um número: \"))\n",
    "            numeros.append(num)\n",
    "            break\n",
    "        except ValueError:\n",
    "            print('Por favor, digite um número válido.')\n",
    "\n",
    "num_maior = max(numeros)\n",
    "\n",
    "print(f\"O maior número é {num_maior}\")\n",
    "\n",
    "print('-='*50)\n"
   ]
  },
  {
   "attachments": {},
   "cell_type": "markdown",
   "id": "c6216e10-25d9-4e6a-9915-72b8eafc4943",
   "metadata": {},
   "source": [
    "- ### 8 - Faça um programa que leia 8 números e informe a soma e a média dos números.\n",
    "\n",
    "  \n",
    "\r",
    "<br>\n"
   ]
  },
  {
   "cell_type": "markdown",
   "id": "0a83ecd8-28ec-4b15-8b3c-7f4819267eaa",
   "metadata": {},
   "source": [
    "- Criei a função com as variáveis soma e media pedi o retorno, deixei a lista numeros vazia e na iteração for estou atribuindo os valores do input em na lista vazia com condicões criadas pelo for, while True e um bloco try except\n",
    "- Para finalizar chamei a função calculada e valores exibidos nos 2 prints concatenados f string"
   ]
  },
  {
   "cell_type": "code",
   "execution_count": 56,
   "id": "b65b0be1-6c16-46b4-8f97-73d0d16acb2b",
   "metadata": {},
   "outputs": [
    {
     "name": "stdin",
     "output_type": "stream",
     "text": [
      "Digite um número:  25\n",
      "Digite um número:  10.50\n",
      "Digite um número:  18.80\n",
      "Digite um número:  9.90\n",
      "Digite um número:  14\n",
      "Digite um número:  1\n",
      "Digite um número:  19\n",
      "Digite um número:  43\n"
     ]
    },
    {
     "name": "stdout",
     "output_type": "stream",
     "text": [
      "A soma dos números inseridos foi: 141.2\n",
      "A média dos números inseridos foi: 17.65\n",
      "-=-=-=-=-=-=-=-=-=-=-=-=-=-=-=-=-=-=-=-=-=-=-=-=-=-=-=-=-=-=-=-=-=-=-=-=-=-=-=-=-=-=-=-=-=-=-=-=-=-=\n"
     ]
    }
   ],
   "source": [
    "def soma_media(numeros):\n",
    "    \n",
    "    soma = sum(numeros)\n",
    "    media = soma / len(numeros)\n",
    "    return soma, media\n",
    "\n",
    "numeros = []\n",
    "\n",
    "for i in range(8):\n",
    "    while True:\n",
    "        try:\n",
    "            num = float(input(\"Digite um número: \"))\n",
    "            numeros.append(num)\n",
    "            break\n",
    "        except ValueError:\n",
    "            print('Por favor, digite um número válido.')\n",
    "\n",
    "soma, media = soma_media(numeros)\n",
    "\n",
    "print(f\"A soma dos números inseridos foi: {soma}\")\n",
    "print(f\"A média dos números inseridos foi: {media}\")\n",
    "\n",
    "print('-='*50)"
   ]
  },
  {
   "attachments": {},
   "cell_type": "markdown",
   "id": "c6640c76-06a0-49c1-a062-2ff8da651998",
   "metadata": {},
   "source": [
    "- ### 9 - Faça um programa que imprima na tela apenas os números ímpares entre 1 e 25.\r\n",
    "\r",
    "<br>\n"
   ]
  },
  {
   "cell_type": "markdown",
   "id": "ca4bfa85-f276-4830-a11c-4a3aa9cae745",
   "metadata": {},
   "source": [
    "- Criei a função e dentro dela uma lista chamada impares utilizando a sintaxe de list comprehension para nos apresentar os numeros impares\n",
    "- Criei a variável numeros_impares que chama a função dentro de um range estabelecido retornando no print f string numeros impares entre 1 e 25."
   ]
  },
  {
   "cell_type": "code",
   "execution_count": 57,
   "id": "60e9ffd6-5350-46ac-b4d5-6f0d9d0912bd",
   "metadata": {},
   "outputs": [
    {
     "name": "stdout",
     "output_type": "stream",
     "text": [
      "Os números ímpares entre 1 e 25 são: [1, 3, 5, 7, 9, 11, 13, 15, 17, 19, 21, 23, 25]\n",
      "-=-=-=-=-=-=-=-=-=-=-=-=-=-=-=-=-=-=-=-=-=-=-=-=-=-=-=-=-=-=-=-=-=-=-=-=-=-=-=-=-=-=-=-=-=-=-=-=-=-=\n"
     ]
    }
   ],
   "source": [
    "def num_impares(numeros):\n",
    "    \n",
    "    impares = [i for i in numeros if i % 2 != 0]\n",
    "    return impares\n",
    "\n",
    "numeros_impares = num_impares(range(1, 26))\n",
    "\n",
    "print(f\"Os números ímpares entre 1 e 25 são: {numeros_impares}\")\n",
    "\n",
    "print('-='*50)\n"
   ]
  },
  {
   "attachments": {},
   "cell_type": "markdown",
   "id": "893fcf1d-a816-4b2f-9ab3-1c98aa195073",
   "metadata": {},
   "source": [
    "- ### 10 - Faça um programa que receba dois números inteiros e gere os números inteiros que estão no intervalo compreendido por eles.\n",
    "\n",
    "\n",
    "\n",
    "<br>\n",
    "\n"
   ]
  },
  {
   "cell_type": "markdown",
   "id": "370052a6-1794-4776-b5c3-87f5a955e7a8",
   "metadata": {},
   "source": [
    "- Criei a função gerando uma lista vazia para receber as condições informadas no bloco if, for, else na qual defini o tratamento para numeros negativos e positivo em sua ordem chamada.\n",
    "- Dentro da condição while True, temos o bloco try-except que nos trás o input com break no loop caso seja inserido exemplo string, temos também informações para números iguais via print, assim como números sem intervalo.   "
   ]
  },
  {
   "cell_type": "code",
   "execution_count": 68,
   "id": "ff5ba557-2413-470d-83b3-314b7ac96740",
   "metadata": {
    "scrolled": true
   },
   "outputs": [
    {
     "name": "stdin",
     "output_type": "stream",
     "text": [
      "Digite o primeiro número inteiro:  0\n",
      "Digite o segundo número inteiro:  -8\n"
     ]
    },
    {
     "name": "stdout",
     "output_type": "stream",
     "text": [
      "Números no intervalo entre 0 e -8: [-1, -2, -3, -4, -5, -6, -7]\n",
      "-=-=-=-=-=-=-=-=-=-=-=-=-=-=-=-=-=-=-=-=-=-=-=-=-=-=-=-=-=-=-=-=-=-=-=-=-=-=-=-=-=-=-=-=-=-=-=-=-=-=\n"
     ]
    }
   ],
   "source": [
    "def gerar_intervalo(num1, num2):\n",
    "    \n",
    "    intervalo = []\n",
    "    \n",
    "    if num1 > num2:\n",
    "        for i in range(num1 - 1, num2, -1):\n",
    "            intervalo.append(i)\n",
    "    else:\n",
    "        for i in range(num1 + 1, num2):\n",
    "            intervalo.append(i)\n",
    "    return intervalo\n",
    "\n",
    "while True:\n",
    "    try:\n",
    "       \n",
    "        num1 = int(input(\"Digite o primeiro número inteiro: \"))\n",
    "        num2 = int(input(\"Digite o segundo número inteiro: \"))\n",
    "        break\n",
    "    except ValueError:\n",
    "        print(\"Erro: Entre com um número inteiro válido.\")\n",
    "\n",
    "if num1 == num2:\n",
    "    print(\"Os números são iguais, nenhum número no intervalo.\")\n",
    "else:\n",
    "    \n",
    "    intervalo = gerar_intervalo(num1, num2)\n",
    "    \n",
    "    if intervalo:\n",
    "        print(f\"Números no intervalo entre {num1} e {num2}: {intervalo}\")\n",
    "    else:\n",
    "        print(\"Não possui intervalo.\")\n",
    "        \n",
    "print('-='*50)"
   ]
  },
  {
   "attachments": {},
   "cell_type": "markdown",
   "id": "a7b3ed1b-e80d-48c4-ae40-aab7a1e8c6ee",
   "metadata": {},
   "source": [
    "- ### 11 -Altere o programa anterior para mostrar no final a soma dos números.\r\n",
    "\r",
    "<br> "
   ]
  },
  {
   "cell_type": "markdown",
   "id": "0c22568d-540a-4a67-8f5c-d20166a344dd",
   "metadata": {},
   "source": [
    "- Alterando o programa do exercício 10, inseri no print f string a função sum() para somar os números do intervalo chamado no input.\n"
   ]
  },
  {
   "cell_type": "code",
   "execution_count": 67,
   "id": "0666782c-0b81-42de-907a-c14f2e2d84d3",
   "metadata": {},
   "outputs": [
    {
     "name": "stdin",
     "output_type": "stream",
     "text": [
      "Digite o primeiro número inteiro:  0\n",
      "Digite o segundo número inteiro:  15\n"
     ]
    },
    {
     "name": "stdout",
     "output_type": "stream",
     "text": [
      "Números no intervalo entre 0 e 15: [1, 2, 3, 4, 5, 6, 7, 8, 9, 10, 11, 12, 13, 14]\n",
      "Soma dos números no intervalo: 105\n",
      "-=-=-=-=-=-=-=-=-=-=-=-=-=-=-=-=-=-=-=-=-=-=-=-=-=-=-=-=-=-=-=-=-=-=-=-=-=-=-=-=-=-=-=-=-=-=-=-=-=-=\n"
     ]
    }
   ],
   "source": [
    "def gerar_intervalo(num1, num2):\n",
    "    \n",
    "    intervalo = []\n",
    "    \n",
    "    if num1 > num2:\n",
    "        for i in range(num1 - 1, num2, -1):\n",
    "            intervalo.append(i)\n",
    "    else:\n",
    "        for i in range(num1 + 1, num2):\n",
    "            intervalo.append(i)\n",
    "    return intervalo\n",
    "\n",
    "while True:\n",
    "    \n",
    "    try:\n",
    "        num1 = int(input(\"Digite o primeiro número inteiro: \"))\n",
    "        num2 = int(input(\"Digite o segundo número inteiro: \"))\n",
    "        break\n",
    "    except ValueError:\n",
    "        print(\"Erro: Entre com um número inteiro válido.\")\n",
    "\n",
    "if num1 == num2:\n",
    "    print(\"Os números são iguais, nenhum número no intervalo.\")\n",
    "else:\n",
    "    intervalo = gerar_intervalo(num1, num2)\n",
    "    \n",
    "    if intervalo:\n",
    "        print(f\"Números no intervalo entre {num1} e {num2}: {intervalo}\")\n",
    "        print(f\"Soma dos números no intervalo: {sum(intervalo)}\")\n",
    "    else:\n",
    "        print(\"Não possui intervalo.\")\n",
    "        \n",
    "print('-='*50)"
   ]
  },
  {
   "cell_type": "markdown",
   "id": "ebe312ac-b8fe-4799-85f8-c6614ea480dc",
   "metadata": {},
   "source": [
    "- ### 12 -  Desenvolva um gerador de tabuada, capaz de gerar a tabuada de qualquer número inteiro entre 1 a 10. O usuário deve informar de qual numero ele deseja ver a tabuada. A saída deve ser conforme o exemplo abaixo:\n",
    "```\n",
    " Tabuada de 5:\n",
    " 5 X 1 = 5\n",
    " 5 X 2 = 10\n",
    " ...\n",
    " 5 X 10 = 50\n",
    "\n",
    "\n",
    "```\n",
    "\n",
    "<br>\n"
   ]
  },
  {
   "cell_type": "markdown",
   "id": "10b0a202-abd3-4e8a-bd85-182705072261",
   "metadata": {},
   "source": [
    "- Criei a função tabuada() inseri um bloco try-except e defini com if os números que seriam calculados na tabuada, em um laço for defini o range e trazendo a variável número que é nosso input multiplicado pelo nosso range 1,11 ou seja '1 à 10' \n",
    "-  No print f string concatenei o que foi estabelecido nas variáveis numero, i, resultado."
   ]
  },
  {
   "cell_type": "code",
   "execution_count": 69,
   "id": "713e5868-d16a-4b8f-9123-794374c709f4",
   "metadata": {},
   "outputs": [
    {
     "name": "stdin",
     "output_type": "stream",
     "text": [
      "Insira de 1 a 10 para ver a tabuada:  9\n"
     ]
    },
    {
     "name": "stdout",
     "output_type": "stream",
     "text": [
      "Tabuada de 9:\n",
      " 9 X  1 =   9\n",
      " 9 X  2 =  18\n",
      " 9 X  3 =  27\n",
      " 9 X  4 =  36\n",
      " 9 X  5 =  45\n",
      " 9 X  6 =  54\n",
      " 9 X  7 =  63\n",
      " 9 X  8 =  72\n",
      " 9 X  9 =  81\n",
      " 9 X 10 =  90\n",
      "-=-=-=-=-=-=-=-=-=-=-=-=-=-=-=-=-=-=-=-=-=-=-=-=-=-=-=-=-=-=-=-=-=-=-=-=-=-=-=-=-=-=-=-=-=-=-=-=-=-=\n"
     ]
    }
   ],
   "source": [
    "def tabuada():\n",
    "   \n",
    "    try:\n",
    "        \n",
    "        numero = int(input(\"Insira de 1 a 10 para ver a tabuada: \"))\n",
    "\n",
    "       \n",
    "        if 1 <= numero <= 10:\n",
    "            print(f\"Tabuada de {numero}:\")\n",
    "\n",
    "          \n",
    "            for i in range(1, 11):\n",
    "                resultado = numero * i\n",
    "                print(f\"{numero:2} X {i:2} = {resultado:3}\")\n",
    "\n",
    "        else:\n",
    "            print(\"Por favor, digite um número entre 1 e 10.\")\n",
    "\n",
    "    except ValueError:\n",
    "        print(\"Erro: Digite apenas números inteiros.\")\n",
    "\n",
    "\n",
    "tabuada()\n",
    "\n",
    "print('-='*50)"
   ]
  },
  {
   "cell_type": "markdown",
   "id": "ecf96a9f-337a-443a-a20e-abe5be7e73ff",
   "metadata": {},
   "source": [
    "- ### 13 - Faça um programa que calcule o valor de H com N termos.\n",
    "```\n",
    "Sendo H= 1 + 1/2 + 1/3 + 1/4 + ... + 1/N.\n",
    "\n",
    "```\n",
    "\n",
    "<br>"
   ]
  },
  {
   "cell_type": "markdown",
   "id": "dc6a28b4-3cac-40cb-a5b6-f4be6ffd5004",
   "metadata": {},
   "source": [
    "- A função calcular_h(n) recebe como parâmetro n, que é o número de termos da série.\r",
    "- tratando com a função raise  (ValueErrrna entrada nos informa que o valor deve ser maior que 0o- le ineiiza uma variável soigual acom zero, que será usada para armazenar a soma dos termos da sé, e.\r\n",
    "De usa um loop for para iterar de 1 até n, inclusivamente. Para cada número de 1 a n, ele adiciona o valor 1/i à variável , com bloco try-except, elseode erro.\r\n",
    "Caso contrário, ele chama a função calcular_h(n) passando o valor de n fornecido e armazena o resultado em resultado.."
   ]
  },
  {
   "cell_type": "code",
   "execution_count": 72,
   "id": "05e5fbdd-4668-475f-ab06-4bd238c9c6cb",
   "metadata": {},
   "outputs": [
    {
     "name": "stdin",
     "output_type": "stream",
     "text": [
      "Digite o número de termos (N):  10\n"
     ]
    },
    {
     "name": "stdout",
     "output_type": "stream",
     "text": [
      "Valor de H(10): 2.93\n",
      "-=-=-=-=-=-=-=-=-=-=-=-=-=-=-=-=-=-=-=-=-=-=-=-=-=-=-=-=-=-=-=-=-=-=-=-=-=-=-=-=-=-=-=-=-=-=-=-=-=-=\n"
     ]
    }
   ],
   "source": [
    "def calcular_h(n):\n",
    "    \n",
    "    if n <= 0:\n",
    "        raise ValueError(\"O número de termos (n) deve ser maior que zero.\")\n",
    "\n",
    "    soma = 0\n",
    "    for i in range(1, n + 1):\n",
    "        soma += 1 / i\n",
    "\n",
    "    return soma\n",
    "\n",
    "try:\n",
    "    n = int(input(\"Digite o número de termos (N): \"))\n",
    "except ValueError:\n",
    "    print(\"Por favor, digite um número inteiro.\")\n",
    "else:\n",
    "    resultado = calcular_h(n)\n",
    "    \n",
    "    print(f\"Valor de H({n}): {resultado:.2f}\")\n",
    "    \n",
    "print('-='*50)"
   ]
  },
  {
   "cell_type": "markdown",
   "id": "400ce6e0-d07d-4586-bef7-e2a05cf6cc03",
   "metadata": {},
   "source": [
    "- ### 14 -Em uma competição de ginástica, cada atleta recebe votos de nove jurados. A melhor e a pior nota são eliminadas. A sua nota fica sendo a média dos votos restantes. Você deve fazer um programa que receba o nome do ginasta e as notas dos nove jurados alcançadas pelo atleta em sua apresentação e depois informe a sua média, conforme a descrição acima informada (retirar o melhor e o pior salto e depois calcular a média com as notas restantes). As notas não são informados ordenadas. Um exemplo de saída do programa deve ser conforme o exemplo abaixo:\n",
    "\n",
    "```\n",
    "Atleta: Aparecido Parente\r\n",
    "Nota: 9.9\r\n",
    ".\r\n",
    ".\r\n",
    ".\r\n",
    "Nota: 9.0\r\n",
    "Nota: 8.5 Nota: 9.7\r\n",
    "Resultado final:\r\n",
    "Atleta: Bianca\r\n",
    "Melhor nota: 9.8\r\n",
    "Pior nota: 7.3\r\n",
    "Média: 9,07\r\n",
    "\n",
    "\n",
    "```\n",
    "\n",
    "<br>"
   ]
  },
  {
   "cell_type": "markdown",
   "id": "53e6388c-85b4-40f6-a652-a4929aefff8a",
   "metadata": {},
   "source": [
    "- Crie uma função e inseri dentro de while True e bloco try-except o input o nome do ginasta.\n",
    "- Inserindo uma lista vazia e no while usando o contador para inserir as 9 notas informadas no input\n",
    "- Exclui as melhores e as piores notas com a função remove e argumentos max e min, calculei a média\n",
    "- Finalizando com os prints das iterações e break encerrando loop, com o tratamento do bloco try-except e chamando a função"
   ]
  },
  {
   "cell_type": "code",
   "execution_count": 101,
   "id": "57760ad6-5313-4f87-9d8b-7f42c63595e8",
   "metadata": {},
   "outputs": [
    {
     "name": "stdin",
     "output_type": "stream",
     "text": [
      "Digite o nome do ginasta:  Aparecido Parente\n",
      "Digite a nota do jurado 1:  9.9\n",
      "Digite a nota do jurado 2:  9\n",
      "Digite a nota do jurado 3:  8.5\n",
      "Digite a nota do jurado 4:  9.7\n",
      "Digite a nota do jurado 5:  9.8\n",
      "Digite a nota do jurado 6:  7.3\n",
      "Digite a nota do jurado 7:  9.5\n",
      "Digite a nota do jurado 8:  10\n",
      "Digite a nota do jurado 9:  9.6\n"
     ]
    },
    {
     "name": "stdout",
     "output_type": "stream",
     "text": [
      "\n",
      "Resultado Final:\n",
      "Atleta: Aparecido Parente\n",
      "Melhor nota: 9.9\n",
      "Pior nota: 8.5\n",
      "Média: 9.43\n",
      "-=-=-=-=-=-=-=-=-=-=-=-=-=-=-=-=-=-=-=-=-=-=-=-=-=-=-=-=-=-=-=-=-=-=-=-=-=-=-=-=-=-=-=-=-=-=-=-=-=-=\n"
     ]
    }
   ],
   "source": [
    "def notas_ginasta():\n",
    "    \n",
    "    while True:\n",
    "        \n",
    "        try:\n",
    "            contador = 0\n",
    "            nome_ginasta = input(\"Digite o nome do ginasta: \")\n",
    "            notas = []\n",
    "            \n",
    "            while contador != 9:\n",
    "                contador += 1\n",
    "                nota = float(input(f\"Digite a nota do jurado {contador}: \"))\n",
    "                notas.append(nota)\n",
    "               \n",
    "            notas.remove(max(notas))\n",
    "            notas.remove(min(notas))\n",
    "\n",
    "            media = sum(notas) / len(notas)\n",
    "\n",
    "            print(\"\\nResultado Final:\")\n",
    "            print(f\"Atleta: {nome_ginasta}\")\n",
    "            print(f\"Melhor nota: {max(notas)}\")\n",
    "            print(f\"Pior nota: {min(notas)}\")\n",
    "            print(f\"Média: {media:.2f}\")\n",
    "\n",
    "            break\n",
    "\n",
    "        except ValueError:\n",
    "            print(\"Por favor, digite um número válido para as notas.\")\n",
    "\n",
    "notas_ginasta()\n",
    "print('-='*50)"
   ]
  },
  {
   "cell_type": "markdown",
   "id": "23515bd8-504a-461e-8627-9db78280382b",
   "metadata": {},
   "source": [
    "- ### 15- Em uma competição de salto em distância cada atleta tem direito a cinco saltos. No final da série de saltos de cada atleta, o melhor e o pior resultados são eliminados. O seu resultado fica sendo a média dos três valores restantes. Você deve fazer um programa que receba o nome e as cinco distâncias alcançadas pelo atleta em seus saltos e depois informe a média dos saltos conforme a descrição acima informada (retirar o melhor e o pior salto e depois calcular a média). Faça uso de uma lista para armazenar os saltos. Os saltos são informados na ordem da execução, portanto não são ordenados. O programa deve ser encerrado quando não for informado o nome do atleta. A saída do programa deve ser conforme o exemplo abaixo:\n",
    "```\n",
    "Atleta: Lucas Lima\n",
    "\n",
    "Primeiro Salto: 6.5 m\n",
    "Segundo Salto: 6.1 m\n",
    "Terceiro Salto: 6.2 m\n",
    "Quarto Salto: 5.4 m\n",
    "Quinto Salto: 5.3 m\n",
    "\n",
    "Melhor salto: 6.5 m\n",
    "Pior salto: 5.3 m\n",
    "\n",
    "Média dos demais saltos: 5.9 m\n",
    "Resultado final:\n",
    "Lucas Lima: 5.9 m\n",
    "\n",
    "\n",
    "``` \n",
    "\n",
    "<br>"
   ]
  },
  {
   "cell_type": "markdown",
   "id": "77658331-99cc-4e18-8582-45295eee15ba",
   "metadata": {},
   "source": [
    "- Criei a função para competicao_salto é definida com um loop while True para permitir que o código seja executado continuamente até a instrução break seja acionada, dentro do loop, o código solicita ao usuário que digite o nome do atleta usando a função input e armazena na variável nome_atleta.\n",
    "\n",
    "- O programa verifica se nome_atleta é um dígito ou uma string vazia e exibe mensagens de erro. Se o nome do atleta for uma string vazia, o programa termina.\n",
    "\n",
    "- No bloco de instruções try-except, solicito ao usuário que digite a distância dos cinco saltos do atleta, armazenando cada salto em uma lista chamada saltos.\n",
    "\n",
    "- O programa remove o melhor e o pior salto (valores máximo e mínimo) da lista saltos, calcula a média dos saltos restantes, armazena na variável media.\n",
    "\n",
    "- Resultado é exibido conforme print f string incluindo o nome do atleta, o melhor e pior salto, a média e a pontuação final.\n",
    "\n",
    "- Caso usuário inserir um valor inválido (não numérico) para as distâncias dos saltos, uma mensagem de erro será exibida.\n",
    "\n",
    "- A função competicao_salto é chamada para iniciar a execução do programa."
   ]
  },
  {
   "cell_type": "code",
   "execution_count": 76,
   "id": "896c8ee9-3ef4-48a1-8fb1-361b32dc3bbb",
   "metadata": {},
   "outputs": [
    {
     "name": "stdin",
     "output_type": "stream",
     "text": [
      "Digite o nome do atleta:  Lucas Lima\n",
      "Digite a distância do salto 1:  6.5\n",
      "Digite a distância do salto 2:  6.1\n",
      "Digite a distância do salto 3:  5.4\n",
      "Digite a distância do salto 4:  5.3\n",
      "Digite a distância do salto 5:  6.2\n"
     ]
    },
    {
     "name": "stdout",
     "output_type": "stream",
     "text": [
      "\n",
      "Resultado Final:\n",
      "Atleta: Lucas Lima\n",
      "Melhor salto: 6.2\n",
      "Pior salto: 5.4\n",
      "Média: 5.90\n",
      "Resultado final: Lucas Lima: 5.9 m\n"
     ]
    },
    {
     "name": "stdin",
     "output_type": "stream",
     "text": [
      "Digite o nome do atleta:  \n"
     ]
    },
    {
     "name": "stdout",
     "output_type": "stream",
     "text": [
      "Programa encerrado.\n",
      "-=-=-=-=-=-=-=-=-=-=-=-=-=-=-=-=-=-=-=-=-=-=-=-=-=-=-=-=-=-=-=-=-=-=-=-=-=-=-=-=-=-=-=-=-=-=-=-=-=-=\n"
     ]
    }
   ],
   "source": [
    "def competicao_salto():\n",
    "  \n",
    "    while True:\n",
    "      \n",
    "        nome_atleta = input(\"Digite o nome do atleta: \")\n",
    "        \n",
    "        if nome_atleta.isdigit():\n",
    "            print(\"Por favor, digite um nome válido.\")\n",
    "            continue\n",
    "        \n",
    "        if nome_atleta == '':\n",
    "            print('Programa encerrado.')\n",
    "            break\n",
    "\n",
    "        try:\n",
    "            saltos = []\n",
    "            for i in range(5):\n",
    "                salto = float(input(f\"Digite a distância do salto {i+1}: \"))\n",
    "                saltos.append(salto)\n",
    "\n",
    "            saltos.remove(max(saltos))\n",
    "            saltos.remove(min(saltos))\n",
    "\n",
    "            media = sum(saltos) / len(saltos)\n",
    "\n",
    "            print(\"\\nResultado Final:\")\n",
    "            print(f\"Atleta: {nome_atleta}\")\n",
    "            print(f\"Melhor salto: {max(saltos)}\")\n",
    "            print(f\"Pior salto: {min(saltos)}\")\n",
    "            print(f\"Média: {media:.2f}\")\n",
    "            print(f\"Resultado final: {nome_atleta}: {media:.1f} m\")\n",
    "            \n",
    "        except ValueError:\n",
    "            print(\"Por favor, digite um número válido para as notas.\")\n",
    "  \n",
    "\n",
    "competicao_salto()\n",
    "print('-='*50)\n"
   ]
  },
  {
   "cell_type": "markdown",
   "id": "f89f8369-1824-4cae-92b4-b80882749e70",
   "metadata": {},
   "source": [
    "- ### 16 - Desenvolver um programa para verificar a nota do aluno em uma prova com 12 questões, o programa deve perguntar ao aluno a resposta de cada questão e ao final comparar com o gabarito da prova e assim calcular o total de acertos e a nota (atribuir 1 ponto por resposta certa). Após cada aluno utilizar o sistema deve ser feita uma pergunta se outro aluno vai utilizar o sistema. Após todos os alunos terem respondido informar:\n",
    "  \n",
    "```\n",
    "Total de Alunos que utilizaram o sistema; A Média das Notas da Turma. Gabarito da Prova:\n",
    "01 - A\n",
    "02 - B\n",
    "03 - C\n",
    "04 - D\n",
    "05 - E\n",
    "06 - E\n",
    "07 - D\n",
    "08 - C\n",
    "09 - B\n",
    "10 – A\n",
    "11 – C\n",
    "12 - D\n",
    "Após concluir isto você poderia incrementar o programa permitindo que o professor digite o gabarito da prova antes dos alunos usarem o programa.\n",
    "\n",
    "\n",
    "\n",
    "``` \n",
    "\n",
    "<br>\n"
   ]
  },
  {
   "cell_type": "markdown",
   "id": "3b49eaae-4fd5-48ba-ac90-475c0ada2878",
   "metadata": {},
   "source": [
    "- Crie uma função para obter o gabarito da prova, criando uma lista vazia que recebe as informações \n",
    "- Gabarito_prova definido na variável\n",
    "- Lista vazia de notas_alunos para armazenar as notas dos alunos\n",
    "- Total_alunos variável para contar o total de alunos que utilizaram o sistema\n",
    "- Criei uma função para calcular a nota do aluno\n",
    "- Criei uma  função para verificar se outro aluno vai utilizar o sistema\n",
    "- E Loop para os alunos utilizarem o sistema utilizando contador conforme revisado na aula 26/06/2024 evitando falhas para loop infinito\n",
    "- Realizei os cálculos para maior valor, menor valor e media, concatei os print com f string"
   ]
  },
  {
   "cell_type": "code",
   "execution_count": 79,
   "id": "d1fe997b-a095-45d3-b707-bde40d1b8054",
   "metadata": {},
   "outputs": [
    {
     "name": "stdout",
     "output_type": "stream",
     "text": [
      "Gabarito da prova(A, B, C, D ou E):\n"
     ]
    },
    {
     "name": "stdin",
     "output_type": "stream",
     "text": [
      "Professor inserindo gabarito questão 01:  a\n",
      "Professor inserindo gabarito questão 02:  a\n",
      "Professor inserindo gabarito questão 03:  a\n",
      "Professor inserindo gabarito questão 04:  b\n",
      "Professor inserindo gabarito questão 05:  b\n",
      "Professor inserindo gabarito questão 06:  b\n",
      "Professor inserindo gabarito questão 07:  c\n",
      "Professor inserindo gabarito questão 08:  c\n",
      "Professor inserindo gabarito questão 09:  c\n",
      "Professor inserindo gabarito questão 10:  d\n",
      "Professor inserindo gabarito questão 11:  d\n",
      "Professor inserindo gabarito questão 12:  e\n",
      "Aluno, digite a resposta da questão 01:  e\n",
      "Aluno, digite a resposta da questão 02:  a\n",
      "Aluno, digite a resposta da questão 03:  b\n",
      "Aluno, digite a resposta da questão 04:  b\n",
      "Aluno, digite a resposta da questão 05:  d\n",
      "Aluno, digite a resposta da questão 06:  d\n",
      "Aluno, digite a resposta da questão 07:  e\n",
      "Aluno, digite a resposta da questão 08:  a\n",
      "Aluno, digite a resposta da questão 09:  d\n",
      "Aluno, digite a resposta da questão 10:  a\n",
      "Aluno, digite a resposta da questão 11:  e\n",
      "Aluno, digite a resposta da questão 12:  a\n",
      "Outro aluno vai utilizar o sistema? (S/N):  s\n",
      "Aluno, digite a resposta da questão 01:  a\n",
      "Aluno, digite a resposta da questão 02:  a\n",
      "Aluno, digite a resposta da questão 03:  b\n",
      "Aluno, digite a resposta da questão 04:  b\n",
      "Aluno, digite a resposta da questão 05:  b\n",
      "Aluno, digite a resposta da questão 06:  c\n",
      "Aluno, digite a resposta da questão 07:  c\n",
      "Aluno, digite a resposta da questão 08:  d\n",
      "Aluno, digite a resposta da questão 09:  d\n",
      "Aluno, digite a resposta da questão 10:  e\n",
      "Aluno, digite a resposta da questão 11:  e\n",
      "Aluno, digite a resposta da questão 12:  d\n",
      "Outro aluno vai utilizar o sistema? (S/N):  n\n"
     ]
    },
    {
     "name": "stdout",
     "output_type": "stream",
     "text": [
      "Maior Acerto: 5\n",
      "Menor Acerto: 2\n",
      "Total de Alunos que utilizaram o sistema: 2\n",
      "A Média das Notas da Turma: 3.5\n",
      "-=-=-=-=-=-=-=-=-=-=-=-=-=-=-=-=-=-=-=-=-=-=-=-=-=-=-=-=-=-=-=-=-=-=-=-=-=-=-=-=-=-=-=-=-=-=-=-=-=-=\n"
     ]
    }
   ],
   "source": [
    "def obter_gabarito_prova():\n",
    "    \n",
    "    gabarito = []\n",
    "    \n",
    "    print(\"Gabarito da prova(A, B, C, D ou E):\")\n",
    "    \n",
    "    for i in range(1, 13):\n",
    "        resposta = input(f\"Professor inserindo gabarito questão {i:02d}: \").upper()\n",
    "        gabarito.append(resposta)\n",
    "    return gabarito\n",
    "    \n",
    "gabarito_prova = obter_gabarito_prova()\n",
    "\n",
    "\n",
    "notas_alunos = []\n",
    "\n",
    "\n",
    "total_alunos = 0\n",
    "\n",
    "\n",
    "def calcular_nota(respostas_aluno, gabarito_prova):\n",
    "    nota = 0\n",
    "    for i in range(len(respostas_aluno)):\n",
    "        if respostas_aluno[i] == gabarito_prova[i]:\n",
    "            nota += 1\n",
    "    return nota\n",
    "\n",
    "def outro_aluno():\n",
    "    outro = input(\"Outro aluno vai utilizar o sistema? (S/N): \")\n",
    "    if outro.upper() == 'S':\n",
    "        return True\n",
    "    else:\n",
    "        return False\n",
    "\n",
    "\n",
    "while True:\n",
    "    \n",
    "    respostas_aluno = []\n",
    "    i = 1\n",
    "    while i <= 12:\n",
    "        resposta = input(f\"Aluno, digite a resposta da questão {i:02d}: \").upper()\n",
    "        respostas_aluno.append(resposta)\n",
    "        i += 1\n",
    "    \n",
    "    nota_aluno = calcular_nota(respostas_aluno, gabarito_prova)\n",
    "    notas_alunos.append(nota_aluno)\n",
    "    total_alunos += 1\n",
    "    \n",
    "    outro = outro_aluno()\n",
    "    if not outro:\n",
    "        break\n",
    "\n",
    "\n",
    "media_notas = sum(notas_alunos) / total_alunos\n",
    "\n",
    "\n",
    "maior_acerto = max(notas_alunos)\n",
    "menor_acerto = min(notas_alunos)\n",
    "\n",
    "print(f\"Maior Acerto: {maior_acerto}\")\n",
    "print(f\"Menor Acerto: {menor_acerto}\")\n",
    "print(f\"Total de Alunos que utilizaram o sistema: {total_alunos}\")\n",
    "print(f\"A Média das Notas da Turma: {media_notas}\")\n",
    "\n",
    "print('-='*50)"
   ]
  },
  {
   "cell_type": "markdown",
   "id": "891889c4-67a3-493a-ac5c-c13cbd84b007",
   "metadata": {},
   "source": [
    "- ### 17 - O cardápio de uma lanchonete é o seguinte:\n",
    "\n",
    "```\n",
    "    - Especificação Código Preço\n",
    "\t- Cachorro Quente 200\tR$ 1,80\n",
    "\t- Misto Simples 201\tR$ 2,30\n",
    "    - Misto com ovo 202\tR$ 2,60\n",
    "    - X- Salada\t203\tR$ 1,90\n",
    "\t- X-Frango\t204\tR$ 1,80\n",
    "\t- Refrigerante\t205\tR$ 1,25\n",
    "Faça um programa que leia o código dos itens pedidos e as quantidades desejadas. Calcule e mostre o valor a ser pago por item (preço * quantidade) e o total geral do pedido. Considere que o cliente deve informar quando o pedido deve ser encerrado.\n",
    "\n",
    "```\n",
    "\n",
    "<br>"
   ]
  },
  {
   "cell_type": "markdown",
   "id": "37cb593c-4788-47e9-9b4f-62c1a1876784",
   "metadata": {},
   "source": [
    "- Crie uma função primcipal com dicionário e um cardápio passando o número inicial das opções do cardápio\n",
    "- Criei a condição while True e um bloco try-except com as instruções para o pedido e o input após os tratamentos para erros, seguido dos prints finais e chamada da função principal\n",
    "  "
   ]
  },
  {
   "cell_type": "code",
   "execution_count": 82,
   "id": "1903a08e-002f-4328-8428-27c3a3cb1f10",
   "metadata": {},
   "outputs": [
    {
     "name": "stdout",
     "output_type": "stream",
     "text": [
      "\n",
      "-------------------------------\n",
      "|     Cardápio da Lanchonete   |\n",
      "-------------------------------\n",
      "| 200 - Cachorro Quente   R$ 1.80 |\n",
      "| 201 - Misto Simples     R$ 2.30 |\n",
      "| 202 - Misto com ovo     R$ 2.60 |\n",
      "| 203 - X-Salada          R$ 1.90 |\n",
      "| 204 - X-Frango          R$ 1.80 |\n",
      "| 205 - Refrigerante      R$ 1.25 |\n",
      "-------------------------------\n",
      "\n"
     ]
    },
    {
     "name": "stdin",
     "output_type": "stream",
     "text": [
      "Olá! Peça seu produto, digite o código(ou 0 para encerrar o pedido):  200\n",
      "Digite a quantidade desejada:  2\n"
     ]
    },
    {
     "name": "stdout",
     "output_type": "stream",
     "text": [
      "\n",
      "2x Cachorro Quente: R$ 3.60\n",
      "\n"
     ]
    },
    {
     "name": "stdin",
     "output_type": "stream",
     "text": [
      "Olá! Peça seu produto, digite o código(ou 0 para encerrar o pedido):  203\n",
      "Digite a quantidade desejada:  2\n"
     ]
    },
    {
     "name": "stdout",
     "output_type": "stream",
     "text": [
      "\n",
      "2x X-Salada: R$ 3.80\n",
      "\n"
     ]
    },
    {
     "name": "stdin",
     "output_type": "stream",
     "text": [
      "Olá! Peça seu produto, digite o código(ou 0 para encerrar o pedido):  205\n",
      "Digite a quantidade desejada:  2\n"
     ]
    },
    {
     "name": "stdout",
     "output_type": "stream",
     "text": [
      "\n",
      "2x Refrigerante: R$ 2.50\n",
      "\n"
     ]
    },
    {
     "name": "stdin",
     "output_type": "stream",
     "text": [
      "Olá! Peça seu produto, digite o código(ou 0 para encerrar o pedido):  0\n"
     ]
    },
    {
     "name": "stdout",
     "output_type": "stream",
     "text": [
      "\n",
      "---------------------------\n",
      "Total a pagar: R$ 9.90\n",
      "Pedido encerrado. Obrigado!\n",
      "\n",
      "---------------------------\n",
      "-=-=-=-=-=-=-=-=-=-=-=-=-=-=-=-=-=-=-=-=-=-=-=-=-=-=-=-=-=-=-=-=-=-=-=-=-=-=-=-=-=-=-=-=-=-=-=-=-=-=\n"
     ]
    }
   ],
   "source": [
    "def lanchonete():\n",
    "\n",
    "    precos_cardapio = {\n",
    "        \"Cachorro Quente\": 1.80,\n",
    "        \"Misto Simples\": 2.30,\n",
    "        \"Misto com ovo\": 2.60,\n",
    "        \"X-Salada\": 1.90,\n",
    "        \"X-Frango\": 1.80,\n",
    "        \"Refrigerante\": 1.25\n",
    "    }\n",
    "\n",
    "    opcoes_cardapio = list(precos_cardapio.keys())\n",
    "\n",
    "    print(\"\\n-------------------------------\")\n",
    "    print(\"|     Cardápio da Lanchonete   |\")\n",
    "    print(\"-------------------------------\")\n",
    "    for i, item in enumerate(opcoes_cardapio, start=200):\n",
    "        print(f\"| {i:<2} - {item:<17} R$ {precos_cardapio[item]:.2f} |\")\n",
    "    print(\"-------------------------------\\n\")\n",
    "\n",
    "    total_pedido = 0.0\n",
    "\n",
    "    while True:\n",
    "        try:\n",
    "            numero_item_pedido = int(input(\"Olá! Peça seu produto, digite o código(ou 0 para encerrar o pedido): \"))\n",
    "            if numero_item_pedido == 0:\n",
    "                break\n",
    "            elif 200 <= numero_item_pedido < 200 + len(opcoes_cardapio):\n",
    "                quantidade_item = int(input(\"Digite a quantidade desejada: \"))\n",
    "                item = opcoes_cardapio[numero_item_pedido - 200]\n",
    "                preco_item = precos_cardapio[item] * quantidade_item\n",
    "                total_pedido += preco_item\n",
    "                print(f\"\\n{quantidade_item}x {item}: R$ {preco_item:.2f}\\n\")\n",
    "            else:\n",
    "                print(\"Opção inválida. Tente novamente.\")\n",
    "        except ValueError:\n",
    "            print(\"Valor digitado não é um número. Tente novamente.\")\n",
    "\n",
    "    print(\"\\n---------------------------\")\n",
    "    print(f\"Total a pagar: R$ {total_pedido:.2f}\")\n",
    "    print(\"Pedido encerrado. Obrigado!\")\n",
    "    print(\"\\n---------------------------\")\n",
    "lanchonete()\n",
    "print('-=' * 50)"
   ]
  },
  {
   "cell_type": "markdown",
   "id": "16b2544d-50d8-40ad-abb9-86006b4c00f9",
   "metadata": {},
   "source": [
    "- ### 18 - Foi feita uma estatística em cinco cidades brasileiras para coletar dados sobre acidentes de trânsito. Foram obtidos os seguintes dados:\n",
    "```\n",
    "\n",
    "(O usuário deve informar esses dados:)\n",
    "Código da cidade;\n",
    "Número de veículos de passeio (em 1999);\n",
    "Número de acidentes de trânsito com vítimas (em 1999).\n",
    "Deseja-se saber:\n",
    "Qual o maior e menor índice de acidentes de transito e a que cidade pertence;\n",
    "Qual a média de veículos nas cinco cidades juntas;\n",
    "Qual a média de acidentes de trânsito nas cidades com menos de 2.000 veículos de passeio\n",
    "\n",
    "```\n",
    "\n",
    "<br>"
   ]
  },
  {
   "cell_type": "markdown",
   "id": "61c01199-5c37-4a31-84a5-7f1ca4ee825e",
   "metadata": {},
   "source": [
    "- Criei função dados_cidade coleta os dados de uma cidade via dicionário.\n",
    "- Criei função media_acidentes_menos_2000 veículos com uma lista de decioná rio contendo os dados da cidade.\n",
    "- Criei a função principal acidentes_transito que executa a análise de dados de acidentes de trânsito dentro do if __name__ == \"__main__\":"
   ]
  },
  {
   "cell_type": "code",
   "execution_count": 91,
   "id": "6f6e9d1e-d69f-41fe-abf6-a6aaf47272f2",
   "metadata": {},
   "outputs": [
    {
     "name": "stdout",
     "output_type": "stream",
     "text": [
      "--- Cidade 1 ---\n"
     ]
    },
    {
     "name": "stdin",
     "output_type": "stream",
     "text": [
      "Código da cidade:  1\n",
      "Número de veículos de passeio em 1999:  1500\n",
      "Número de acidentes de trânsito com vítimas em 1999:  5\n"
     ]
    },
    {
     "name": "stdout",
     "output_type": "stream",
     "text": [
      "--- Cidade 2 ---\n"
     ]
    },
    {
     "name": "stdin",
     "output_type": "stream",
     "text": [
      "Código da cidade:  2\n",
      "Número de veículos de passeio em 1999:  2000\n",
      "Número de acidentes de trânsito com vítimas em 1999:  8\n"
     ]
    },
    {
     "name": "stdout",
     "output_type": "stream",
     "text": [
      "--- Cidade 3 ---\n"
     ]
    },
    {
     "name": "stdin",
     "output_type": "stream",
     "text": [
      "Código da cidade:  3\n",
      "Número de veículos de passeio em 1999:  1000\n",
      "Número de acidentes de trânsito com vítimas em 1999:  1\n"
     ]
    },
    {
     "name": "stdout",
     "output_type": "stream",
     "text": [
      "--- Cidade 4 ---\n"
     ]
    },
    {
     "name": "stdin",
     "output_type": "stream",
     "text": [
      "Código da cidade:  4\n",
      "Número de veículos de passeio em 1999:  1800\n",
      "Número de acidentes de trânsito com vítimas em 1999:  4\n"
     ]
    },
    {
     "name": "stdout",
     "output_type": "stream",
     "text": [
      "--- Cidade 5 ---\n"
     ]
    },
    {
     "name": "stdin",
     "output_type": "stream",
     "text": [
      "Código da cidade:  5\n",
      "Número de veículos de passeio em 1999:  1200\n",
      "Número de acidentes de trânsito com vítimas em 1999:  3\n"
     ]
    },
    {
     "name": "stdout",
     "output_type": "stream",
     "text": [
      "\n",
      "--- Resultado da Estatística de Acidentes de Trânsito ---\n",
      "Maior índice de acidentes de trânsito: 8 - Cidade 2\n",
      "Menor índice de acidentes de trânsito: 1 - Cidade 3\n",
      "Média de veículos nas cinco cidades: 1500.00\n",
      "Média de acidentes de trânsito nas cidades com menos de 2.000 veículos de passeio: 3.25\n",
      "-=-=-=-=-=-=-=-=-=-=-=-=-=-=-=-=-=-=-=-=-=-=-=-=-=-=-=-=-=-=-=-=-=-=-=-=-=-=-=-=-=-=-=-=-=-=-=-=-=-=\n"
     ]
    }
   ],
   "source": [
    "def dados_cidade(numero_cidade):\n",
    "   \n",
    "    cidade = {}\n",
    "    print(f\"--- Cidade {numero_cidade} ---\")\n",
    "    cidade[\"codigo\"] = int(input(\"Código da cidade: \"))\n",
    "    cidade[\"veiculos_passeio\"] = int(input(\"Número de veículos de passeio em 1999: \"))\n",
    "    cidade[\"acidentes_vitimas\"] = int(input(\"Número de acidentes de trânsito com vítimas em 1999: \"))\n",
    "    return cidade\n",
    "\n",
    "def media_acidentes_menos_2000(cidades, indice_acidentes):\n",
    "   \n",
    "    cidades_menos_2000 = [cidade for cidade in cidades if cidade[\"veiculos_passeio\"] < 2000]\n",
    "    if cidades_menos_2000:\n",
    "        acidentes_menos_2000 = sum(cidade[\"acidentes_vitimas\"] for cidade in cidades_menos_2000)\n",
    "        return acidentes_menos_2000 / len(cidades_menos_2000)\n",
    "    else:\n",
    "        return 0\n",
    "\n",
    "def acidentes_transito():\n",
    "  \n",
    "    cidades = []\n",
    "\n",
    "    for i in range(1, 6):\n",
    "        cidade_dados = dados_cidade(i)\n",
    "        cidades.append(cidade_dados)\n",
    "\n",
    "    indice_acidentes = [cidade[\"acidentes_vitimas\"] for cidade in cidades]\n",
    "    cidade_maior_indice = cidades[indice_acidentes.index(max(indice_acidentes))]\n",
    "    cidade_menor_indice = cidades[indice_acidentes.index(min(indice_acidentes))]\n",
    "\n",
    "    media_veiculos = sum(cidade[\"veiculos_passeio\"] for cidade in cidades) / len(cidades)\n",
    "\n",
    "    media_acidentes = media_acidentes_menos_2000(cidades, indice_acidentes)\n",
    "\n",
    "    print(\"\\n--- Resultado da Estatística de Acidentes de Trânsito ---\")\n",
    "\n",
    "    print(f\"Maior índice de acidentes de trânsito: {cidade_maior_indice['acidentes_vitimas']} - Cidade {cidade_maior_indice['codigo']}\")\n",
    "    print(f\"Menor índice de acidentes de trânsito: {cidade_menor_indice['acidentes_vitimas']} - Cidade {cidade_menor_indice['codigo']}\")\n",
    "    print(f\"Média de veículos nas cinco cidades: {media_veiculos:.2f}\")\n",
    "    print(f\"Média de acidentes de trânsito nas cidades com menos de 2.000 veículos de passeio: {media_acidentes:.2f}\")\n",
    "    \n",
    "\n",
    "if __name__ == \"__main__\":\n",
    "    acidentes_transito()\n",
    "    \n",
    "print('-=' * 50)"
   ]
  },
  {
   "cell_type": "markdown",
   "id": "db77b874-cd46-47f0-bf6f-b72159d01013",
   "metadata": {},
   "source": [
    "- ### 19 - Um funcionário de uma empresa recebe aumento salarial anualmente: Sabese que:\n",
    "```\n",
    "•\tEsse funcionário foi contratado em 2005, com salário inicial de R$ 1.000,00; • Em 2006 recebeu aumento de 1,5% sobre seu salário inicial;\n",
    "•\tA partir de 2007 (inclusive), os aumentos salariais sempre correspondem ao dobro do percentual do ano anterior. Faça um programa que determine o salário atual desse funcionário. Após concluir isto, altere o programa permitindo que o usuário digite o salário inicial do funcionário.\n",
    "\n",
    "```\n",
    "\n",
    "<br>"
   ]
  },
  {
   "cell_type": "markdown",
   "id": "956ce888-50ed-42a4-b024-f9a0de62cb51",
   "metadata": {},
   "source": [
    "- Realizei de duas formas porém não estou confortável com o resultado, fiz diversas pesquisas e tentei usar outros conceitos que não me retornaram um resultado adequado. Porém pesquisei muitas formas de atuar."
   ]
  },
  {
   "cell_type": "code",
   "execution_count": 97,
   "id": "54ff0b9b-ff1a-419c-80bd-b5db99b20834",
   "metadata": {},
   "outputs": [
    {
     "name": "stdin",
     "output_type": "stream",
     "text": [
      "Digite o salário inicial do funcionário: R$  1000\n",
      "Digite o ano atual:  2024\n"
     ]
    },
    {
     "name": "stdout",
     "output_type": "stream",
     "text": [
      "Salário atual do funcionário em 2024: R$ 2034089956135593040857845855.00\n"
     ]
    }
   ],
   "source": [
    "from decimal import Decimal\n",
    "\n",
    "def calculo_salario(salario_inicial, ano_atual):\n",
    "    percentual = Decimal('1.5')\n",
    "    salario = Decimal(str(salario_inicial))\n",
    "    \n",
    "    for ano in range(2006, ano_atual + 1):\n",
    "        salario += salario * percentual / 100\n",
    "        percentual *= 2  \n",
    "    \n",
    "    return salario\n",
    "\n",
    "try:\n",
    "    salario_inicial = Decimal(input(\"Digite o salário inicial do funcionário: R$ \"))\n",
    "    \n",
    "    if salario_inicial <= 0:\n",
    "        raise ValueError(\"O salário não pode ser negativo.\")\n",
    "    \n",
    "    ano_atual = int(input(\"Digite o ano atual: \"))\n",
    "    \n",
    "    if ano_atual < 2005:\n",
    "        raise ValueError(\"O ano deve ser maior ou igual a 2005.\")\n",
    "    \n",
    "    salario_atual = calculo_salario(salario_inicial, ano_atual)\n",
    "    print(f\"Salário atual do funcionário em {ano_atual}: R$ {salario_atual:.2f}\")\n",
    "    \n",
    "except ValueError as erro:\n",
    "    print(erro)\n"
   ]
  },
  {
   "cell_type": "code",
   "execution_count": 96,
   "id": "8d6954be-911d-4be2-83f0-5befb14018fa",
   "metadata": {},
   "outputs": [
    {
     "name": "stdin",
     "output_type": "stream",
     "text": [
      "Digite o salário inicial do funcionário: R$  1000\n",
      "Digite o ano atual:  2024\n"
     ]
    },
    {
     "name": "stdout",
     "output_type": "stream",
     "text": [
      "Salário atual do funcionário em 2024: R$ 2034089956135592629960179712.00\n",
      "-=-=-=-=-=-=-=-=-=-=-=-=-=-=-=-=-=-=-=-=-=-=-=-=-=-=-=-=-=-=-=-=-=-=-=-=-=-=-=-=-=-=-=-=-=-=-=-=-=-=\n"
     ]
    }
   ],
   "source": [
    "def calculo_salario(salario_inicial, ano_atual):\n",
    "    \n",
    "    percentual = 1.5\n",
    "    \n",
    "    for ano in range(2006, ano_atual + 1):\n",
    "        salario_inicial += salario_inicial * percentual / 100\n",
    "        percentual *= 2\n",
    "    return salario_inicial\n",
    "\n",
    "try:\n",
    "    salario_inicial = float(input(\"Digite o salário inicial do funcionário: R$ \"))\n",
    "    if salario_inicial <= 0:\n",
    "        raise ValueError(\"O salário não pode ser negativo.\")\n",
    "    ano_atual = int(input(\"Digite o ano atual: \"))\n",
    "    if ano_atual < 2005:\n",
    "        raise ValueError(\"O ano deve ser maior ou igual a 2005.\")\n",
    "        \n",
    "    salario_atual = calculo_salario(salario_inicial, ano_atual)\n",
    "    \n",
    "    print(f\"Salário atual do funcionário em {ano_atual}: R$ {salario_atual:.2f}\")\n",
    "except ValueError as erro: \n",
    "    print(erro)\n",
    "print('-=' * 50)"
   ]
  },
  {
   "cell_type": "markdown",
   "id": "fdc44995-491d-45dc-a03b-4bbcd3a096de",
   "metadata": {},
   "source": [
    "- ### 20 - Faça um programa que leia seis conjuntos de dois valores, o primeiro representando o número do funcionário e o segundo representando a sua altura em centímetros. Encontre o funcionário mais alto e o mais baixo. Mostre o número do funcionário mais alto e o número do aluno mais baixo, junto com suas alturas.\n",
    "\n",
    "\n",
    "<br>\n"
   ]
  },
  {
   "cell_type": "markdown",
   "id": "bd1f0e90-6566-42ef-bf34-c179aeab66a8",
   "metadata": {},
   "source": [
    "- Criei a função confirmar_numero recebe a mensagem do usuário e tenta converter a entrada em um número inteiro e retornar esse número. Caso o usuário digite algo que não seja um número inteiro, uma mensagem de erro é exibida, conforme tratamento\n",
    "\n",
    "- Criei a função confirmar_altura além de converter a entrada em um número float, ela também verifica se a altura é um número positivo. Se o usuário digitar um valor negativo, uma exceção é gerada.\n",
    "\n",
    "- Criei a função filtros_funcionarios através da variável \"funcionarios\" que é definida como um dicionário vazio no início da função, dentro do loop for os números dos funcionários são usados como chaves e as alturas dos funcionários são usadas como valores associados a essas chaves no dicionário \"funcionarios\". Se o número já estiver cadastrado, uma mensagem de erro é exibida e o usuário deve inserir outro número. No final, encontra o funcionário mais alto e o mais baixo com base nas alturas informadas.\n",
    "  \n",
    "- Por fim, os prints evidênciando as informações dos funcionários mais altos e mais baixos."
   ]
  },
  {
   "cell_type": "code",
   "execution_count": 89,
   "id": "51335993-e1a3-47bd-acdc-dd4e5a9c1fdb",
   "metadata": {},
   "outputs": [
    {
     "name": "stdin",
     "output_type": "stream",
     "text": [
      "Digite o número do 1º funcionário:  1\n",
      "Digite a altura do 1º funcionário (em cm):  1.70\n",
      "Digite o número do 2º funcionário:  2\n",
      "Digite a altura do 2º funcionário (em cm):  1.60\n",
      "Digite o número do 3º funcionário:  3\n",
      "Digite a altura do 3º funcionário (em cm):  1.57\n",
      "Digite o número do 4º funcionário:  4\n",
      "Digite a altura do 4º funcionário (em cm):  1.72\n",
      "Digite o número do 5º funcionário:  5\n",
      "Digite a altura do 5º funcionário (em cm):  1.85\n",
      "Digite o número do 6º funcionário:  6\n",
      "Digite a altura do 6º funcionário (em cm):  1.80\n"
     ]
    },
    {
     "name": "stdout",
     "output_type": "stream",
     "text": [
      "-=-=-=-=-=-=-=-=-=-=-=-=-=-=-=-=-=-=-=-=-=-=-=-=-=-=-=-=-=-=-=-=-=-=-=-=-=-=-=-=-=-=-=-=-=-=-=-=-=-=\n",
      "\n",
      "Funcionário mais alto:\n",
      "Número: 5, Altura: 1.85cm\n",
      "\n",
      "Funcionário mais baixo:\n",
      "Número: 3, Altura: 1.57cm\n",
      "-=-=-=-=-=-=-=-=-=-=-=-=-=-=-=-=-=-=-=-=-=-=-=-=-=-=-=-=-=-=-=-=-=-=-=-=-=-=-=-=-=-=-=-=-=-=-=-=-=-=\n"
     ]
    }
   ],
   "source": [
    "def confirmar_numero(mensagem_usuário):\n",
    "   \n",
    "    while True:\n",
    "        try:\n",
    "            confirmar = int(input(mensagem_usuário))\n",
    "            return confirmar\n",
    "        except ValueError:\n",
    "            print(\"Valor inválido. Digite um número inteiro.\")\n",
    "\n",
    "def confirmar_altura(mensagem_usuário):\n",
    "  \n",
    "    while True:\n",
    "        try:\n",
    "            confirmar = float(input(mensagem_usuário))\n",
    "            if confirmar < 0:\n",
    "                raise ValueError(\"Altura não pode ser negativa.\")\n",
    "            return confirmar\n",
    "        except ValueError:\n",
    "            print(\"Valor inválido. Digite um número positivo para a altura.\")\n",
    "\n",
    "def filtros_funcionarios():\n",
    "   \n",
    "    funcionarios = {}\n",
    "    for i in range(1, 7):\n",
    "        num_funcionario = confirmar_numero(f\"Digite o número do {i}º funcionário: \")\n",
    "        if num_funcionario in funcionarios:\n",
    "            print(\"Número de funcionário já cadastrado. Digite outro número.\")\n",
    "            continue\n",
    "\n",
    "        altura = confirmar_altura(f\"Digite a altura do {i}º funcionário (em cm): \")\n",
    "        funcionarios[num_funcionario] = altura\n",
    "\n",
    "    funcionario_alto = max(funcionarios.items(), key=lambda x: x[1])\n",
    "    funcionario_baixo = min(funcionarios.items(), key=lambda x: x[1])\n",
    "\n",
    "    return funcionario_alto, funcionario_baixo\n",
    "\n",
    "funcionario_alto, funcionario_baixo = filtros_funcionarios()\n",
    "\n",
    "print('-=' * 50)  \n",
    "\n",
    "print(\"\\nFuncionário mais alto:\")\n",
    "print(f\"Número: {funcionario_alto[0]}, Altura: {funcionario_alto[1]:.2f}cm\")\n",
    "\n",
    "print(\"\\nFuncionário mais baixo:\")\n",
    "print(f\"Número: {funcionario_baixo[0]}, Altura: {funcionario_baixo[1]:.2f}cm\")\n",
    "\n",
    "print('-=' * 50)  "
   ]
  }
 ],
 "metadata": {
  "kernelspec": {
   "display_name": "Python 3 (ipykernel)",
   "language": "python",
   "name": "python3"
  },
  "language_info": {
   "codemirror_mode": {
    "name": "ipython",
    "version": 3
   },
   "file_extension": ".py",
   "mimetype": "text/x-python",
   "name": "python",
   "nbconvert_exporter": "python",
   "pygments_lexer": "ipython3",
   "version": "3.11.7"
  }
 },
 "nbformat": 4,
 "nbformat_minor": 5
}
