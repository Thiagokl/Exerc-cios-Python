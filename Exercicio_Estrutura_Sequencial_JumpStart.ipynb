{
 "cells": [
  {
   "cell_type": "markdown",
   "id": "d6c3cd8e-8e0e-42b5-9a3a-b68613442e9d",
   "metadata": {},
   "source": [
    "<div style=\"display: flex; align-items: center;\">\n",
    "    <img src=\"https://scontent.fjdo12-1.fna.fbcdn.net/v/t39.30808-6/385067949_805512978251733_639921228418853171_n.jpg?_nc_cat=106&ccb=1-7&_nc_sid=5f2048&_nc_ohc=R1INuflgYEQQ7kNvgFO14wf&_nc_ht=scontent.fjdo12-1.fna&oh=00_AYCiz0Y4Ywb_0exKVdCCrRlKbq6h4dvf4ctL6SWY4MJ1kQ&oe=666FE98C\" width=\"80\" style=\"margin-right: 10px;\"> \n",
    "    <h1 style=\"font-size: 15px;\">Segunda-Feira 17/06/2024</h1>\n",
    "</div>\n",
    "<p style=\"color:orange;\">Jump Start 4</p>\n",
    "<h2 style=\"text-align: center;\">Thiago Costa Santana</h2>\n",
    "<br>\n",
    "<h1 align=\"center\">Exercícios - Estrutura Sequencial</h1>\n",
    "<br>\n",
    "<br>"
   ]
  },
  {
   "cell_type": "markdown",
   "id": "149ffafa-c49b-4c40-996e-0833cfa5ecf0",
   "metadata": {},
   "source": [
    "- ### 1 - Faça um programa que peça um número e então mostre a mensagem ”O número informado foi [número]”.\n",
    "  <br>\n",
    "  "
   ]
  },
  {
   "cell_type": "markdown",
   "id": "e7e7de54-e063-4b24-b000-b8fc2bb286fd",
   "metadata": {},
   "source": [
    "- #### Fiz a conversão do input que é valor str por default, evitando problemas futuros no cod. em op matemáticas ou de comparação"
   ]
  },
  {
   "cell_type": "code",
   "execution_count": 119,
   "id": "49c1cefe-27d2-46e1-9d86-aa00e2c02377",
   "metadata": {},
   "outputs": [
    {
     "name": "stdin",
     "output_type": "stream",
     "text": [
      "inserir número:  10\n"
     ]
    },
    {
     "name": "stdout",
     "output_type": "stream",
     "text": [
      "O número informado foi 10\n",
      "-=-=-=-=-=-=-=-=-=-=-=-=-=-=-=-=-=-=-=-=-=-=-=-=-=-=-=-=-=-=-=-=-=-=-=-=-=-=-=-=-=-=-=-=-=-=-=-=-=-=\n"
     ]
    }
   ],
   "source": [
    "numero = int(input(\"inserir número: \")) \n",
    "\n",
    "print(\"O número informado foi \" + str(numero))\n",
    "print('-='*50)\n"
   ]
  },
  {
   "cell_type": "markdown",
   "id": "04b0e5c7-f928-4881-af45-ab76d28c1d4b",
   "metadata": {},
   "source": [
    "- ### 2 - Faça um programa que peça dois números e imprima a soma.\n",
    "  <br>\n"
   ]
  },
  {
   "cell_type": "code",
   "execution_count": 95,
   "id": "6d8ba3fe-49a0-4b14-8d51-6739ccd61c55",
   "metadata": {},
   "outputs": [
    {
     "name": "stdin",
     "output_type": "stream",
     "text": [
      "Insira um número a ser somado 10\n",
      "Insira outro número a ser somado 15\n"
     ]
    },
    {
     "name": "stdout",
     "output_type": "stream",
     "text": [
      " Soma = 25\n",
      "-=-=-=-=-=-=-=-=-=-=-=-=-=-=-=-=-=-=-=-=-=-=-=-=-=-=-=-=-=-=-=-=-=-=-=-=-=-=-=-=-=-=-=-=-=-=-=-=-=-=\n"
     ]
    }
   ],
   "source": [
    "numero1 = int(input('Insira um número a ser somado')) \n",
    "numero2 = int(input('Insira outro número a ser somado')) \n",
    "\n",
    "soma = numero1 + numero2\n",
    "\n",
    "print(f' Soma = {soma}')\n",
    "print('-='*50)"
   ]
  },
  {
   "attachments": {},
   "cell_type": "markdown",
   "id": "5e594649-d2eb-4d20-af33-2bacd6912406",
   "metadata": {},
   "source": [
    "- ### 3 - Faça um programa que peça as 4 notas bimestrais e mostre a média. \r\n",
    "<br>\n"
   ]
  },
  {
   "cell_type": "markdown",
   "id": "93c39a6d-88e3-4daa-98d5-6f6aeb7b67de",
   "metadata": {},
   "source": [
    "- #### Usei uma lista para armazenar as notas, no cálculo da média usei o round para determinar uma casa decimal e o len na divisão para contar as notas somadas, concatenando no print a variável 'media' com a mensagem."
   ]
  },
  {
   "cell_type": "code",
   "execution_count": 77,
   "id": "43c6764d-1147-41fb-9d62-97b25d76307f",
   "metadata": {},
   "outputs": [
    {
     "name": "stdin",
     "output_type": "stream",
     "text": [
      "1° nota:  5.5\n",
      "2° nota:  7\n",
      "3° nota:  6.8\n",
      "4° nota:  9.5\n"
     ]
    },
    {
     "name": "stdout",
     "output_type": "stream",
     "text": [
      "Média do Bimestre: 7.2\n",
      "-=-=-=-=-=-=-=-=-=-=-=-=-=-=-=-=-=-=-=-=-=-=-=-=-=-=-=-=-=-=-=-=-=-=-=-=-=-=-=-=-=-=-=-=-=-=-=-=-=-=\n"
     ]
    }
   ],
   "source": [
    "notas = [float(input(\"1° nota: \")), \n",
    "         float(input(\"2° nota: \")), \n",
    "         float(input(\"3° nota: \")), \n",
    "         float(input(\"4° nota: \"))]\n",
    "\n",
    "media =  round(sum(notas) / len(notas), 1)\n",
    "\n",
    "print(f\"Média do Bimestre: {media}\")\n",
    "print('-='*50)"
   ]
  },
  {
   "cell_type": "markdown",
   "id": "2bc7558a-5624-405b-8b57-0f5919b3f186",
   "metadata": {},
   "source": [
    "- ### 4 - Faça um programa que converta metros para centímetros.\n",
    "<br>"
   ]
  },
  {
   "cell_type": "markdown",
   "id": "8e03bee0-2dc8-4e07-900f-0bfd2d3b4ada",
   "metadata": {},
   "source": [
    "- #### Caso o usuário digite valores negátivos retorna 'valor inválido, não pode ser negativo', se texto retorna o erro conforme mensagem"
   ]
  },
  {
   "cell_type": "code",
   "execution_count": 99,
   "id": "c34ee8df-1fb2-4115-a8bb-ebb1cfab7676",
   "metadata": {},
   "outputs": [
    {
     "name": "stdin",
     "output_type": "stream",
     "text": [
      "Insira a metragem:  -2\n"
     ]
    },
    {
     "name": "stdout",
     "output_type": "stream",
     "text": [
      "valor inválido, não pode ser negativo.\n"
     ]
    },
    {
     "name": "stdin",
     "output_type": "stream",
     "text": [
      "Insira a metragem:  dois\n"
     ]
    },
    {
     "name": "stdout",
     "output_type": "stream",
     "text": [
      "Erro.Inserir formato numérico.\n"
     ]
    },
    {
     "name": "stdin",
     "output_type": "stream",
     "text": [
      "Insira a metragem:  2\n"
     ]
    },
    {
     "name": "stdout",
     "output_type": "stream",
     "text": [
      "2.0 metros equivalem a 200.0 centímetros.\n",
      "-=-=-=-=-=-=-=-=-=-=-=-=-=-=-=-=-=-=-=-=-=-=-=-=-=-=-=-=-=-=-=-=-=-=-=-=-=-=-=-=-=-=-=-=-=-=-=-=-=-=\n"
     ]
    }
   ],
   "source": [
    "\n",
    "while True: \n",
    "    try: \n",
    "        metros = float(input(\"Insira a metragem: \")) \n",
    "        if metros < 0: \n",
    "            print(\"valor inválido, não pode ser negativo.\") \n",
    "        else: \n",
    "            centimetros = metros * 100 \n",
    "            print(f\"{metros} metros equivalem a {centimetros} centímetros.\") \n",
    "            break \n",
    "    except ValueError: \n",
    "        print(\"Erro.Inserir formato numérico.\")\n",
    "print('-='*50)"
   ]
  },
  {
   "attachments": {},
   "cell_type": "markdown",
   "id": "3a061a32-3d49-475f-a0eb-fae26a157c98",
   "metadata": {},
   "source": [
    "- ### 5 - Faça um programa que peça o raio de um círculo e mostre sua área.\n",
    "\n",
    "<br>\n"
   ]
  },
  {
   "cell_type": "markdown",
   "id": "eafb0c46-e435-454d-b46c-912dd31d829f",
   "metadata": {},
   "source": [
    "- #### Sem importar biblioteca"
   ]
  },
  {
   "cell_type": "code",
   "execution_count": 120,
   "id": "139de114-c306-47f3-8aaf-d59d5d16c6ff",
   "metadata": {},
   "outputs": [
    {
     "name": "stdin",
     "output_type": "stream",
     "text": [
      "Valor do raio do círculo:  2\n"
     ]
    },
    {
     "name": "stdout",
     "output_type": "stream",
     "text": [
      "Resultado da Área Calculada: 12.57\n"
     ]
    }
   ],
   "source": [
    "raio_circulo = float(input(\"Valor do raio do círculo: \"))\n",
    "area = 3.14159 * raio_circulo**2\n",
    "\n",
    "print(f\"Resultado da Área Calculada: {area:.2f}\")"
   ]
  },
  {
   "cell_type": "code",
   "execution_count": 121,
   "id": "484d56a1-bb66-4c73-a772-88c20e488729",
   "metadata": {},
   "outputs": [
    {
     "name": "stdin",
     "output_type": "stream",
     "text": [
      "valor do raio circulo:  2\n"
     ]
    },
    {
     "name": "stdout",
     "output_type": "stream",
     "text": [
      "Resultado Área Calculada: 12.57\n",
      "-=-=-=-=-=-=-=-=-=-=-=-=-=-=-=-=-=-=-=-=-=-=-=-=-=-=-=-=-=-=-=-=-=-=-=-=-=-=-=-=-=-=-=-=-=-=-=-=-=-=\n"
     ]
    }
   ],
   "source": [
    "import math\n",
    "\n",
    "raio_circulo = float(input(\"valor do raio circulo: \"))\n",
    "area = math.pi * raio_circulo**2\n",
    "\n",
    "print(f\"Resultado Área Calculada: {area:.2f}\")\n",
    "print('-='*50)"
   ]
  },
  {
   "cell_type": "markdown",
   "id": "cb1da319-54f5-4e29-9bd7-6225bc5975ee",
   "metadata": {},
   "source": [
    "\n",
    "- ### 6 - Faça um programa que calcule a área de um quadrado, em seguida mostre o dobro desta área para o usuário.\n",
    "<br>\n"
   ]
  },
  {
   "cell_type": "markdown",
   "id": "7574832a-1167-47e6-87a4-3cdcff1a526c",
   "metadata": {},
   "source": [
    "- #### Sem importar biblioteca"
   ]
  },
  {
   "cell_type": "code",
   "execution_count": 122,
   "id": "54709633-5fb8-4ad0-aa1e-048d6bd9c364",
   "metadata": {},
   "outputs": [
    {
     "name": "stdin",
     "output_type": "stream",
     "text": [
      "Insira um valor para o lado do quadrado:  5\n"
     ]
    },
    {
     "name": "stdout",
     "output_type": "stream",
     "text": [
      "Dobro da área do quadrado: 50.00\n"
     ]
    }
   ],
   "source": [
    "lado_q = float(input(\"Insira um valor para o lado do quadrado: \")) \n",
    "area_q = lado_q ** 2; dobro_area = 2 * area_q\n",
    "\n",
    "print(f\"Dobro da área do quadrado: {dobro_area:.2f}\")\n"
   ]
  },
  {
   "cell_type": "code",
   "execution_count": 123,
   "id": "482bd16b-b5d8-4708-b065-12c609f73549",
   "metadata": {},
   "outputs": [
    {
     "name": "stdin",
     "output_type": "stream",
     "text": [
      "Informe o valor do lado do quadrado:  5\n"
     ]
    },
    {
     "name": "stdout",
     "output_type": "stream",
     "text": [
      "Cálculo dobro da área do quadrado é 50.00\n",
      "-=-=-=-=-=-=-=-=-=-=-=-=-=-=-=-=-=-=-=-=-=-=-=-=-=-=-=-=-=-=-=-=-=-=-=-=-=-=-=-=-=-=-=-=-=-=-=-=-=-=\n"
     ]
    }
   ],
   "source": [
    "import math\n",
    "\n",
    "lado_q = float(input(\"Informe o valor do lado do quadrado: \"))\n",
    "area_q = math.pow(lado_q, 2)\n",
    "\n",
    "dobro_area = 2 * area_q\n",
    "\n",
    "print(f\"Cálculo dobro da área do quadrado é {dobro_area:.2f}\")\n",
    "print('-='*50)"
   ]
  },
  {
   "attachments": {},
   "cell_type": "markdown",
   "id": "cdb75e7c-7c93-4c20-8249-99289d482166",
   "metadata": {},
   "source": [
    "\n",
    "- ### 7 - Faça um programa que pergunte quanto você ganha por hora e o número de horas trabalhadas no mês. Calcule e mostre o total do seu salário no referido mês\r",
    "<br>\n"
   ]
  },
  {
   "cell_type": "code",
   "execution_count": 81,
   "id": "9e59e10a-211e-4a99-9157-d8e16b35bf69",
   "metadata": {},
   "outputs": [
    {
     "name": "stdin",
     "output_type": "stream",
     "text": [
      "Insira valor hora trabalhada? R$  100\n",
      "Horas trabalhadas no mês?  176\n"
     ]
    },
    {
     "name": "stdout",
     "output_type": "stream",
     "text": [
      "Salário mensal bruto R$ 17600.00\n",
      "-=-=-=-=-=-=-=-=-=-=-=-=-=-=-=-=-=-=-=-=-=-=-=-=-=-=-=-=-=-=-=-=-=-=-=-=-=-=-=-=-=-=-=-=-=-=-=-=-=-=\n"
     ]
    }
   ],
   "source": [
    "salario_hora = float(input(\"Insira valor hora trabalhada? R$ \"))\n",
    "horas_trabalhadas = float(input(\"Horas trabalhadas no mês? \")) \n",
    "\n",
    "salario = salario_hora * horas_trabalhadas\n",
    "\n",
    "print(f\"Salário mensal bruto R$ {salario:.2f}\")\n",
    "print('-='*50)"
   ]
  },
  {
   "attachments": {},
   "cell_type": "markdown",
   "id": "c6216e10-25d9-4e6a-9915-72b8eafc4943",
   "metadata": {},
   "source": [
    "- ### 8 - Faça um programa que peça a temperatura em graus Fahrenheit, transforme e mostre a temperatura em graus Celsius.\r",
    "<br>\n"
   ]
  },
  {
   "cell_type": "code",
   "execution_count": 102,
   "id": "b65b0be1-6c16-46b4-8f97-73d0d16acb2b",
   "metadata": {},
   "outputs": [
    {
     "name": "stdin",
     "output_type": "stream",
     "text": [
      "Insira a temperatura em graus Fahrenheit:  86\n"
     ]
    },
    {
     "name": "stdout",
     "output_type": "stream",
     "text": [
      "Temperatura em graus Celsius: 30°C\n",
      "-=-=-=-=-=-=-=-=-=-=-=-=-=-=-=-=-=-=-=-=-=-=-=-=-=-=-=-=-=-=-=-=-=-=-=-=-=-=-=-=-=-=-=-=-=-=-=-=-=-=\n"
     ]
    }
   ],
   "source": [
    "fahrenheit = float(input(\"Insira a temperatura em graus Fahrenheit: \"))\n",
    "\n",
    "celsius = (fahrenheit - 32) * 5/9\n",
    "\n",
    "print(f\"Temperatura em graus Celsius: {celsius:.0f}°C\")\n",
    "print('-='*50)"
   ]
  },
  {
   "attachments": {},
   "cell_type": "markdown",
   "id": "c6640c76-06a0-49c1-a062-2ff8da651998",
   "metadata": {},
   "source": [
    "- ### 9 - Faça um programa que peça a temperatura em graus Celsius, transforme e mostre em graus Fahrenheit.\r",
    "<br>\n"
   ]
  },
  {
   "cell_type": "code",
   "execution_count": 103,
   "id": "60e9ffd6-5350-46ac-b4d5-6f0d9d0912bd",
   "metadata": {},
   "outputs": [
    {
     "name": "stdin",
     "output_type": "stream",
     "text": [
      "Insira a temperatura em graus Celsius:  30\n"
     ]
    },
    {
     "name": "stdout",
     "output_type": "stream",
     "text": [
      "Temperatura em graus Fahrenheit: 86ºF\n",
      "-=-=-=-=-=-=-=-=-=-=-=-=-=-=-=-=-=-=-=-=-=-=-=-=-=-=-=-=-=-=-=-=-=-=-=-=-=-=-=-=-=-=-=-=-=-=-=-=-=-=\n"
     ]
    }
   ],
   "source": [
    "graus_celsius = float(input(\"Insira a temperatura em graus Celsius: \"))\n",
    "\n",
    "graus_fahrenheit = (graus_celsius * 9/5) + 32\n",
    "\n",
    "print(f\"Temperatura em graus Fahrenheit: {graus_fahrenheit:.0f}ºF\")\n",
    "print('-='*50)"
   ]
  },
  {
   "cell_type": "markdown",
   "id": "2fd4090b-cd3e-4e0d-bcc1-d8e4ac98c459",
   "metadata": {},
   "source": [
    "- ### 10 - Faça um programa que peça 2 números inteiros e um número real. Calcule e mostre:\n",
    "  ### a. o produto do dobro do primeiro com metade do segundo.\n",
    "  ### b. soma do triplo do primeiro com o terceiro.\n",
    "  ### c. o terceiro elevado ao cubo.\n",
    "<br>"
   ]
  },
  {
   "cell_type": "markdown",
   "id": "8589e4d6-0384-43cf-b51b-dd17892f76c7",
   "metadata": {},
   "source": [
    "- #### usando a função pow já com import"
   ]
  },
  {
   "cell_type": "code",
   "execution_count": 105,
   "id": "6f5be39f-d9b6-47b2-944c-3f142dc2d1f0",
   "metadata": {},
   "outputs": [
    {
     "name": "stdin",
     "output_type": "stream",
     "text": [
      "Inserir um número:  5\n",
      "Inserir segundo número:  10\n",
      "Inserir número real:  3.5\n"
     ]
    },
    {
     "name": "stdout",
     "output_type": "stream",
     "text": [
      "a. Produto do dobro do primeiro com metade do segundo: 50\n",
      "b. Soma do triplo do primeiro com o terceiro: 18.50\n",
      "c. O terceiro elevado ao cubo: 42.88\n",
      "-=-=-=-=-=-=-=-=-=-=-=-=-=-=-=-=-=-=-=-=-=-=-=-=-=-=-=-=-=-=-=-=-=-=-=-=-=-=-=-=-=-=-=-=-=-=-=-=-=-=\n"
     ]
    }
   ],
   "source": [
    "import math\n",
    "\n",
    "inteiro_1 = int(input(\"Inserir um número: \"))\n",
    "inteiro_2 = int(input(\"Inserir segundo número: \"))\n",
    "inteiro_3 = float(input(\"Inserir número real: \"))\n",
    "\n",
    "a = 2 * inteiro_1 * inteiro_2 / 2\n",
    "b = 3 * inteiro_1 + inteiro_3\n",
    "c = pow(inteiro_3, 3)\n",
    "\n",
    "print(f\"a. Produto do dobro do primeiro com metade do segundo: {a:.0f}\")\n",
    "print(f\"b. Soma do triplo do primeiro com o terceiro: {b:.2f}\") \n",
    "print(f\"c. O terceiro elevado ao cubo: {c:.2f}\")\n",
    "print('-='*50)"
   ]
  },
  {
   "attachments": {},
   "cell_type": "markdown",
   "id": "a7b3ed1b-e80d-48c4-ae40-aab7a1e8c6ee",
   "metadata": {},
   "source": [
    "- ### 11 - Tendo como dados de entrada a altura de uma pessoa, construa um algoritmo que calcule seu peso ideal, usando a seguinte fórmula: (72.7*altura) - 58\r",
    "<br> "
   ]
  },
  {
   "cell_type": "code",
   "execution_count": 106,
   "id": "0666782c-0b81-42de-907a-c14f2e2d84d3",
   "metadata": {},
   "outputs": [
    {
     "name": "stdin",
     "output_type": "stream",
     "text": [
      "Qual a sua altura:  1.70\n"
     ]
    },
    {
     "name": "stdout",
     "output_type": "stream",
     "text": [
      "Seu peso ideal é: 65.59 kg\n",
      "-=-=-=-=-=-=-=-=-=-=-=-=-=-=-=-=-=-=-=-=-=-=-=-=-=-=-=-=-=-=-=-=-=-=-=-=-=-=-=-=-=-=-=-=-=-=-=-=-=-=\n"
     ]
    }
   ],
   "source": [
    "while True:\n",
    "  altura = float(input(\"Qual a sua altura: \"))\n",
    "  if altura > 1:\n",
    "    break\n",
    "  else:\n",
    "    print(\"Altura inválida.\")\n",
    "\n",
    "formula = 72.7 * altura - abs(58)\n",
    "print(\"Seu peso ideal é: {:.2f} kg\".format(formula))\n",
    "print('-='*50)\n"
   ]
  },
  {
   "cell_type": "markdown",
   "id": "10196f73-5aed-4cc4-aae1-4bc2ed4538d7",
   "metadata": {},
   "source": [
    "- ### 12 - Tendo como dado de entrada a altura (h) de uma pessoa, construa um algoritmo que calcule seu peso ideal, utilizando as seguintes fórmulas:\n",
    "  ### a. Para homens: (72.7*h) - 58\n",
    "  ### b. Para mulheres: (62.1*h) - 44.7\n",
    "<br>"
   ]
  },
  {
   "cell_type": "code",
   "execution_count": 108,
   "id": "713e5868-d16a-4b8f-9123-794374c709f4",
   "metadata": {},
   "outputs": [
    {
     "name": "stdin",
     "output_type": "stream",
     "text": [
      "Qual a sua altura:  1\n"
     ]
    },
    {
     "name": "stdout",
     "output_type": "stream",
     "text": [
      "Altura inválida\n"
     ]
    },
    {
     "name": "stdin",
     "output_type": "stream",
     "text": [
      "Qual a sua altura:  1.1\n",
      "insira M 'masculino' ou F 'feminino'.):  f\n"
     ]
    },
    {
     "name": "stdout",
     "output_type": "stream",
     "text": [
      "Seu peso ideal é: 23.61 kg\n",
      "-=-=-=-=-=-=-=-=-=-=-=-=-=-=-=-=-=-=-=-=-=-=-=-=-=-=-=-=-=-=-=-=-=-=-=-=-=-=-=-=-=-=-=-=-=-=-=-=-=-=\n"
     ]
    }
   ],
   "source": [
    "while True:\n",
    "    altura = float(input(\"Qual a sua altura: \"))\n",
    "    if altura > 1:\n",
    "        break\n",
    "    else:\n",
    "        print(\"Altura inválida\")\n",
    "\n",
    "genero = input(\"insira M 'masculino' ou F 'feminino'.): \").upper()\n",
    "\n",
    "if genero == 'M':\n",
    "    peso_ideal = (72.7 * altura) - 58\n",
    "    print(\"Seu peso ideal é: {:.2f} kg\".format(peso_ideal))\n",
    "elif genero == 'F':\n",
    "    peso_ideal = (62.1 * altura) - 44.7\n",
    "    print(\"Seu peso ideal é: {:.2f} kg\".format(peso_ideal))\n",
    "else:\n",
    "    print(\"genero inválido, insira M 'masculino' ou F 'feminino'.\")\n",
    "print('-='*50)"
   ]
  },
  {
   "attachments": {},
   "cell_type": "markdown",
   "id": "ffea18f9-16ee-48f5-a6bc-ce53dd8c8133",
   "metadata": {},
   "source": [
    "- ### 13 - Arthur Oliveira, homem de bem, comprou um microcomputador para controlar o rendimento diário de seu trabalho. Toda vez que ele traz um peso de peixes maior que o estabelecido pelo regulamento de pesca do estado de São Paulo (50 quilos) deve pagar uma multa de R$ 4,00 por quilo excedente. João precisa que você faça um programa que leia a variável peso (peso de peixes) e calcule o excesso. Gravar na variável excesso a quantidade de quilos além do limite e na variável multa o valor da multa que Arthur deverá pagar. Imprima os dados do programa com as mensagens adequadas.\r",
    "<br>\n"
   ]
  },
  {
   "cell_type": "markdown",
   "id": "724b7ada-9c47-4e27-a8b2-efefb5b5f264",
   "metadata": {},
   "source": [
    "- #### Criei a variável definindo limite de peso máximo e variáveis para posterior verificação do excesso de peso. \n",
    "- #### Criei a variável para input do peso dos peixes em seguida estabeleci as condições para multa e o print do resultado."
   ]
  },
  {
   "cell_type": "code",
   "execution_count": 109,
   "id": "4e74d967-074d-45d0-9fca-400bb182cb24",
   "metadata": {},
   "outputs": [
    {
     "name": "stdin",
     "output_type": "stream",
     "text": [
      "Insira o peso dos peixes:  55\n"
     ]
    },
    {
     "name": "stdout",
     "output_type": "stream",
     "text": [
      "O peso dos peixes excederam: 5.00 kg.\n",
      "Multa a ser paga por Arthur: R$ 20.00.\n",
      "--------------------------------------------------\n"
     ]
    }
   ],
   "source": [
    "limite = 50  \n",
    "excedeu_limite = 0\n",
    "multa = 0\n",
    "\n",
    "peso_peixe = float(input(\"Insira o peso dos peixes: \"))\n",
    "\n",
    "while peso_peixe > limite:\n",
    "    excedeu_limite += peso_peixe - limite  \n",
    "    peso_peixe -= limite  \n",
    "    \n",
    "multa += excedeu_limite * 4\n",
    "\n",
    "if excedeu_limite > 0:\n",
    "    print(f\"O peso dos peixes excederam: {excedeu_limite :.2f} kg.\")\n",
    "    print(f\"Multa a ser paga por Arthur: R$ {multa:.2f}.\")\n",
    "else:\n",
    "    print(\"Arthur não pagará multa.\")\n",
    "print('-' * 50)  "
   ]
  },
  {
   "cell_type": "markdown",
   "id": "dea0daca-d648-4294-9782-3260b97d346a",
   "metadata": {},
   "source": [
    "- ### 14 - Faça um programa que pergunte quanto você ganha por hora e o número de horas trabalhadas no mês. Calcule e mostre o total do seu salário no referido mês, sabendo-se que são descontados 11% para o Imposto de Renda, 8% para o INSS e 5% para o sindicato, faça um programa que nos dê:\n",
    "\n",
    "- salário bruto.\n",
    "- quanto pagou ao INSS.\n",
    "- quanto pagou ao sindicato.\n",
    "- o salário líquido.\n",
    " ### calcule os descontos e o salário líquido, conforme a tabela abaixo:\n",
    "- + Salário Bruto \n",
    "- - IR (11%) \n",
    "- - INSS (8%) \n",
    "- - Sindicato ( 5%) \n",
    "- = Salário Liquido "
   ]
  },
  {
   "cell_type": "markdown",
   "id": "0b0b1c4f-645e-4a7d-884f-e689bdf2d831",
   "metadata": {},
   "source": [
    "- #### Temos dois exemplos o segundo com variável local e com uso de dicionário"
   ]
  },
  {
   "cell_type": "code",
   "execution_count": 43,
   "id": "19a72324-4a93-4883-a132-e93fdf8aaf8a",
   "metadata": {},
   "outputs": [
    {
     "name": "stdin",
     "output_type": "stream",
     "text": [
      "Insira salário por hora: R$ 100\n",
      "Insira as horas trabalhadas no mês:  176\n"
     ]
    },
    {
     "name": "stdout",
     "output_type": "stream",
     "text": [
      "Salário Bruto : R$17600.00\n",
      "Desconto IR (11%) : R$1936.00\n",
      "Desconto INSS (8%) : R$1408.00\n",
      "Desconto Sindicato (5%) : R$880.00\n",
      "Salário Liquido : R$13376.00\n",
      "-=-=-=-=-=-=-=-=-=-=-=-=-=-=-=-=-=-=-=-=-=-=-=-=-=-=-=-=-=-=-=-=-=-=-=-=-=-=-=-=-=-=-=-=-=-=-=-=-=-=\n"
     ]
    }
   ],
   "source": [
    "salario_hora = float(input(\"Insira salário por hora: R$\"))\n",
    "horas_trabalhadas = float(input(\"Insira as horas trabalhadas no mês: \"))\n",
    "\n",
    "salario_bruto = salario_hora * horas_trabalhadas\n",
    "ir = salario_bruto * 0.11\n",
    "inss = salario_bruto * 0.08\n",
    "sindicato = salario_bruto * 0.05\n",
    "salario_liquido = salario_bruto - ir - inss - sindicato\n",
    "\n",
    "print(f\"Salário Bruto : R${salario_bruto:.2f}\")\n",
    "print(f\"Desconto IR (11%) : R${ir:.2f}\")\n",
    "print(f\"Desconto INSS (8%) : R${inss:.2f}\")\n",
    "print(f\"Desconto Sindicato (5%) : R${sindicato:.2f}\")\n",
    "print(f\"Salário Liquido : R${salario_liquido:.2f}\")\n",
    "print('-='*50)"
   ]
  },
  {
   "cell_type": "code",
   "execution_count": 111,
   "id": "5f86ef2a-9c97-4250-bb2c-041393e32837",
   "metadata": {},
   "outputs": [
    {
     "name": "stdin",
     "output_type": "stream",
     "text": [
      "Insira salário por hora: R$ 100\n",
      "Insira as horas trabalhadas no mês:  176\n"
     ]
    },
    {
     "name": "stdout",
     "output_type": "stream",
     "text": [
      "Salário Bruto: R$17600.00\n",
      "Desconto IR (11%): R$1936.00\n",
      "Desconto INSS (8%): R$1408.00\n",
      "Desconto Sindicato (5%): R$880.00\n",
      "Salário Líquido: R$13376.00\n",
      "-=-=-=-=-=-=-=-=-=-=-=-=-=-=-=-=-=-=-=-=-=-=-=-=-=-=-=-=-=-=-=-=-=-=-=-=-=-=-=-=-=-=-=-=-=-=-=-=-=-=\n"
     ]
    }
   ],
   "source": [
    "def salario_liquido_mensal(salario_hora, horas_trabalhadas):\n",
    "    salario_bruto = salario_hora * horas_trabalhadas\n",
    "    ir = salario_bruto * 0.11\n",
    "    inss = salario_bruto * 0.08\n",
    "    sindicato = salario_bruto * 0.05\n",
    "    \n",
    "    descontos = {\"Desconto IR (11%)\": ir, \n",
    "                 \"Desconto INSS (8%)\": inss, \n",
    "                 \"Desconto Sindicato (5%)\": sindicato\n",
    "                }\n",
    "    \n",
    "    salario_liquido = salario_bruto - sum(descontos.values())\n",
    "    \n",
    "    return {\n",
    "        \"Salário Bruto\": salario_bruto, \n",
    "        \"Desconto IR (11%)\": ir, \n",
    "        \"Desconto INSS (8%)\": inss, \n",
    "        \"Desconto Sindicato (5%)\": sindicato, \n",
    "        \"Salário Líquido\": salario_liquido\n",
    "    }\n",
    "\n",
    "salario_hora = float(input(\"Insira salário por hora: R$\"))\n",
    "horas_trabalhadas = float(input(\"Insira as horas trabalhadas no mês: \"))\n",
    "\n",
    "resultado_desc = salario_liquido_mensal(salario_hora, horas_trabalhadas)\n",
    "\n",
    "for item, valor in resultado_desc.items():\n",
    "    print(f\"{item}: R${valor:.2f}\")\n",
    "print('-='*50)"
   ]
  },
  {
   "attachments": {},
   "cell_type": "markdown",
   "id": "0664282d-3c9d-4b59-8fbb-11febd2a7705",
   "metadata": {},
   "source": [
    "- ### 15 - Faça um programa para uma loja de tintas. O programa deverá pedir o tamanho em metros quadrados da área a ser pintada. Considere que a cobertura da tinta é de 1 litro para cada 3 metros quadrados e que a tinta é vendida em latas de 18 litros, que custam R$ 80,00. Informe ao usuário a quantidades de latas de tinta a serem compradas e o preço total.\n",
    "<br>\r\n"
   ]
  },
  {
   "cell_type": "markdown",
   "id": "7a285f64-72fd-46cf-9b0c-0221ee518050",
   "metadata": {},
   "source": [
    "- #### Utilizei a biblioteca math nos Exemplos.\n",
    "-  1° exemplo realizei de forma simples o programa calculando através da metragem e valor da lata de tinta\n",
    "-  2° exemplo utilizei a função criando os cálculos e uma condição para novos pedidos. "
   ]
  },
  {
   "cell_type": "code",
   "execution_count": 32,
   "id": "528e13c5-e48d-4480-a65b-0032bf5eeda0",
   "metadata": {},
   "outputs": [
    {
     "name": "stdin",
     "output_type": "stream",
     "text": [
      "Insira a metragem:  100\n"
     ]
    },
    {
     "name": "stdout",
     "output_type": "stream",
     "text": [
      "Sr. Cliente será necessário 2 latas de tinta.\n",
      "O preço total será R$ 160.00\n",
      "-=-=-=-=-=-=-=-=-=-=-=-=-=-=-=-=-=-=-=-=-=-=-=-=-=-=-=-=-=-=-=-=-=-=-=-=-=-=-=-=-=-=-=-=-=-=-=-=-=-=\n"
     ]
    }
   ],
   "source": [
    "import math\n",
    "\n",
    "metros_quadrados = float(input(\"Insira a metragem: \"))\n",
    "\n",
    "litros_tinta = metros_quadrados / 3\n",
    "quantidade_latas = math.ceil(litros_tinta / 18)\n",
    "preco_total = quantidade_latas * 80\n",
    "\n",
    "print(f\"Sr. Cliente será necessário {quantidade_latas} latas de tinta.\")\n",
    "print(f\"O preço total será R$ {preco_total:.2f}\")\n",
    "print('-='*50)"
   ]
  },
  {
   "cell_type": "code",
   "execution_count": 33,
   "id": "484510a9-3eee-4034-b968-0e0c9aefcaef",
   "metadata": {},
   "outputs": [
    {
     "name": "stdin",
     "output_type": "stream",
     "text": [
      "Insira a metragem:  100\n"
     ]
    },
    {
     "name": "stdout",
     "output_type": "stream",
     "text": [
      "Sr. Cliente será necessário 2 latas de tinta.\n",
      "O preço total será R$ 160.00\n"
     ]
    },
    {
     "name": "stdin",
     "output_type": "stream",
     "text": [
      "novo pedido? (s/n):  s\n",
      "Insira a metragem:  150\n"
     ]
    },
    {
     "name": "stdout",
     "output_type": "stream",
     "text": [
      "Sr. Cliente será necessário 3 latas de tinta.\n",
      "O preço total será R$ 240.00\n"
     ]
    },
    {
     "name": "stdin",
     "output_type": "stream",
     "text": [
      "novo pedido? (s/n):  n\n"
     ]
    },
    {
     "name": "stdout",
     "output_type": "stream",
     "text": [
      "-=-=-=-=-=-=-=-=-=-=-=-=-=-=-=-=-=-=-=-=-=-=-=-=-=-=-=-=-=-=-=-=-=-=-=-=-=-=-=-=-=-=-=-=-=-=-=-=-=-=\n"
     ]
    }
   ],
   "source": [
    "import math\n",
    "\n",
    "def calculo_tinta():\n",
    "    metros_quadrados = float(input(\"Insira a metragem: \"))\n",
    "    \n",
    "    litros_tinta = metros_quadrados / 3\n",
    "    quantidade_latas = math.ceil(litros_tinta / 18)\n",
    "    preco_total = quantidade_latas * 80\n",
    "    \n",
    "    print(f\"Sr. Cliente será necessário {quantidade_latas} latas de tinta.\")\n",
    "    print(f\"O preço total será R$ {preco_total:.2f}\")\n",
    "   \n",
    "\n",
    "while True:\n",
    "    calculo_tinta()\n",
    "    resposta = input(\"novo pedido? (s/n): \")\n",
    "    if resposta.lower() != 's':\n",
    "        break\n",
    "print('-='*50)"
   ]
  },
  {
   "cell_type": "markdown",
   "id": "1dfeef37-b957-4eef-adfa-b7465e5c70cd",
   "metadata": {},
   "source": [
    "- ### 16 - Faça um Programa para uma loja de tintas. O programa deverá pedir o tamanho em metros quadrados da área a ser pintada. Considere que a cobertura da tinta é de 1 litro para cada 6 metros quadrados e que a tinta é vendida em latas de 18 litros,que custam R 80,00 ou em galoes de 3,6 litros, que custam R 25,00.\n",
    "- Informe ao usuário as quantidades de tinta a serem compradas e os respectivos preços em 3 situações:\n",
    "- comprar apenas latas de 18 litros;\n",
    "- comprar apenas galões de 3,6 litros;\n",
    "- misturar latas e galões, de forma que o desperdício de tinta seja menor. Acrescente 10% de folga e sempre arredonde os valores para cima, isto é,  considere latas cheias.\n",
    "<br>\n",
    "<br>\n"
   ]
  },
  {
   "cell_type": "markdown",
   "id": "896702e5-e364-4ea3-9db1-b36ce569259b",
   "metadata": {},
   "source": [
    "- #### 2 Exemplos primeiro sem função segundo definindo funções e condições "
   ]
  },
  {
   "cell_type": "code",
   "execution_count": 112,
   "id": "60f31186-7ee1-4075-aea4-ca4ef68d3de5",
   "metadata": {},
   "outputs": [
    {
     "name": "stdin",
     "output_type": "stream",
     "text": [
      "Insira a metragem:  150\n"
     ]
    },
    {
     "name": "stdout",
     "output_type": "stream",
     "text": [
      "\n",
      "Sr. cliente comprando latas de 18 litros: 2 latas,\n",
      "Preço: R$ 160\n",
      "Sr. cliente comprando galões de 3,6 litros: 8 galões,\n",
      "Preço: R$ 200\n",
      "Sr. cliente misturando latas e galões: 1 latas e 3 galões,\n",
      "Preço: R$ 155\n",
      "\n",
      "-=-=-=-=-=-=-=-=-=-=-=-=-=-=-=-=-=-=-=-=-=-=-=-=-=-=-=-=-=-=-=-=-=-=-=-=-=-=-=-=-=-=-=-=-=-=-=-=-=-=\n"
     ]
    }
   ],
   "source": [
    "import math\n",
    "\n",
    "metros_quadrados = float(input(\"Insira a metragem: \"))\n",
    "\n",
    "litros_tinta = (metros_quadrados + (metros_quadrados * 0.1)) / 6  \n",
    "litros_folga = litros_tinta * 1.1  \n",
    "\n",
    "latas_18 = math.ceil(litros_tinta / 18)\n",
    "preco_latas_18 = latas_18 * 80\n",
    "\n",
    "\n",
    "galoes_3_6 = math.ceil(litros_tinta / 3.6)\n",
    "preco_galoes_3_6 = galoes_3_6 * 25\n",
    "\n",
    "latas = math.floor(litros_tinta / 18)\n",
    "sobra = litros_tinta % 18\n",
    "galoes = math.ceil(sobra / 3.6)\n",
    "\n",
    "total_latas_galoes = latas + galoes\n",
    "\n",
    "if galoes != 0:  \n",
    "    total_latas_galoes -= 1\n",
    "\n",
    "preco_latas_galoes = (latas * 80) + (galoes * 25)\n",
    "\n",
    "print(f\"\"\"\n",
    "Sr. cliente comprando latas de 18 litros: {latas_18} latas,\n",
    "Preço: R$ {preco_latas_18}\n",
    "Sr. cliente comprando galões de 3,6 litros: {galoes_3_6} galões,\n",
    "Preço: R$ {preco_galoes_3_6}\n",
    "Sr. cliente misturando latas e galões: {latas} latas e {galoes} galões,\n",
    "Preço: R$ {preco_latas_galoes}\n",
    "\"\"\")\n",
    "print('-=' * 50)"
   ]
  },
  {
   "cell_type": "code",
   "execution_count": 113,
   "id": "ad640208-0ba0-488b-83ba-0576fd5c7188",
   "metadata": {},
   "outputs": [
    {
     "name": "stdin",
     "output_type": "stream",
     "text": [
      "Insira a metragem:  150\n"
     ]
    },
    {
     "name": "stdout",
     "output_type": "stream",
     "text": [
      "\n",
      "    Sr. Cliente comprando latas de 18 litros: 2 latas,\n",
      "    Preço: R$ 160.00\n",
      "    \n",
      "    Sr. Cliente comprando galões de 3.6 litros: 7 galões,\n",
      "    Preço: R$ 175.00\n",
      "    \n",
      "    Sr. Cliente misturando latas e galões: 1 latas e 3 galões,\n",
      "    Preço: R$ 155.00\n",
      "    \n"
     ]
    },
    {
     "name": "stdin",
     "output_type": "stream",
     "text": [
      "Novo pedido? (s/n):  s\n",
      "Insira a metragem:  350\n"
     ]
    },
    {
     "name": "stdout",
     "output_type": "stream",
     "text": [
      "\n",
      "    Sr. Cliente comprando latas de 18 litros: 4 latas,\n",
      "    Preço: R$ 320.00\n",
      "    \n",
      "    Sr. Cliente comprando galões de 3.6 litros: 17 galões,\n",
      "    Preço: R$ 425.00\n",
      "    \n",
      "    Sr. Cliente misturando latas e galões: 3 latas e 3 galões,\n",
      "    Preço: R$ 315.00\n",
      "    \n"
     ]
    },
    {
     "name": "stdin",
     "output_type": "stream",
     "text": [
      "Novo pedido? (s/n):  n\n"
     ]
    },
    {
     "name": "stdout",
     "output_type": "stream",
     "text": [
      "-=-=-=-=-=-=-=-=-=-=-=-=-=-=-=-=-=-=-=-=-=-=-=-=-=-=-=-=-=-=-=-=-=-=-=-=-=-=-=-=-=-=-=-=-=-=-=-=-=-=\n"
     ]
    }
   ],
   "source": [
    "import math\n",
    "\n",
    "def calculo_tintas():\n",
    "    metros_quadrados = float(input(\"Insira a metragem: \"))\n",
    "    \n",
    "    litros_tinta = metros_quadrados / 6\n",
    "   \n",
    "    latas_18 = math.ceil(litros_tinta / 18)\n",
    "    preco_latas_18 = latas_18 * 80\n",
    "    \n",
    "    galoes_3_6 = math.ceil(litros_tinta / 3.6)\n",
    "    preco_galoes_3_6 = galoes_3_6  * 25\n",
    "    \n",
    "    litros_folga = litros_tinta + litros_tinta * 0.1\n",
    "    latas_mistas_18 = math.floor(litros_folga / 18)\n",
    "    galoes_mistos_3_6 = math.ceil((litros_folga % 18) / 3.6)\n",
    "    preco_misto = latas_mistas_18 * 80 + galoes_mistos_3_6 * 25\n",
    "    \n",
    "    print(f\"\"\"\n",
    "    Sr. Cliente comprando latas de 18 litros: {latas_18} latas,\n",
    "    Preço: R$ {preco_latas_18:.2f}\n",
    "    \n",
    "    Sr. Cliente comprando galões de 3.6 litros: {galoes_3_6} galões,\n",
    "    Preço: R$ {preco_galoes_3_6:.2f}\n",
    "    \n",
    "    Sr. Cliente misturando latas e galões: {latas_mistas_18} latas e {galoes_mistos_3_6} galões,\n",
    "    Preço: R$ {preco_misto:.2f}\n",
    "    \"\"\")\n",
    "    \n",
    "while True:\n",
    "    calculo_tintas()\n",
    "    resposta = input(\"Novo pedido? (s/n): \")\n",
    "    if resposta.lower() != 's':\n",
    "        break\n",
    "print('-='*50)"
   ]
  }
 ],
 "metadata": {
  "kernelspec": {
   "display_name": "Python 3 (ipykernel)",
   "language": "python",
   "name": "python3"
  },
  "language_info": {
   "codemirror_mode": {
    "name": "ipython",
    "version": 3
   },
   "file_extension": ".py",
   "mimetype": "text/x-python",
   "name": "python",
   "nbconvert_exporter": "python",
   "pygments_lexer": "ipython3",
   "version": "3.11.7"
  }
 },
 "nbformat": 4,
 "nbformat_minor": 5
}
