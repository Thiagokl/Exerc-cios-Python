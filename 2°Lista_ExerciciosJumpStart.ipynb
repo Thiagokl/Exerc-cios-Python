{
 "cells": [
  {
   "cell_type": "markdown",
   "id": "3ce0370c-94d4-4cc9-a71f-f8feaa960f43",
   "metadata": {},
   "source": [
    "Aula2 Segunda-Feria 10/06/2024\n",
    "# 2° Lista - Exercícios:\n",
    "Pesquisa a utilidade e dê um exemplo de como utilizar as seguintes funções:"
   ]
  },
  {
   "cell_type": "markdown",
   "id": "fb12f056-1e51-4970-8b02-eeb9efbbaed8",
   "metadata": {},
   "source": [
    "# Exemplo da função reverse()\n",
    "Inverte a ordem dos elementos de uma lista."
   ]
  },
  {
   "cell_type": "code",
   "execution_count": 38,
   "id": "14772aa4-638a-42cb-993c-679bff29efa6",
   "metadata": {},
   "outputs": [
    {
     "name": "stdout",
     "output_type": "stream",
     "text": [
      "[5, 4, 3, 2, 1]\n"
     ]
    }
   ],
   "source": [
    "# utilizando o método reverse() em uma lista e depois chamando print a lista, você consegue ver a inversão diretamente porque o método reverse() \n",
    "# altera a ordem dos elementos na própria lista.\n",
    "lista = [1, 2, 3, 4, 5]\n",
    "lista.reverse()\n",
    "print(lista)"
   ]
  },
  {
   "cell_type": "code",
   "execution_count": 39,
   "id": "ad566367-43a0-473f-a819-6bdabb81c839",
   "metadata": {},
   "outputs": [
    {
     "name": "stdout",
     "output_type": "stream",
     "text": [
      "Carlos\n",
      "Ana\n",
      "Pedro\n",
      "Maria\n",
      "João\n",
      "-=-=-=-=-=-=-=-=-=-=-=-=-=-=-=-=-=-=-=-=-=-=-=-=-=-=-=-=-=-=\n"
     ]
    }
   ],
   "source": [
    "# Digamos que você tenha uma lista de funcionários em ordem alfabética e você precisa apresentar esses funcionários \n",
    "# em ordem inversa de acordo com a avaliação de desempenho.\n",
    "# No exemplo abaixo estamos invertendo uma String 'em Python imutável', por isso criei um for loop, criando uma nova string \n",
    "# a partir da inversão dos caracteres da String original.\n",
    "\n",
    "funcionarios = ['João', 'Maria', 'Pedro', 'Ana', 'Carlos']\n",
    "\n",
    "funcionarios.reverse()\n",
    "\n",
    "# Exibir a lista de funcionários em ordem inversa\n",
    "for funcionario in funcionarios:\n",
    "    print(funcionario)\n",
    "\n",
    "print('-='*30)\n"
   ]
  },
  {
   "cell_type": "code",
   "execution_count": 2,
   "id": "788cac4b-d1c9-4c56-aa89-91b5492857de",
   "metadata": {},
   "outputs": [
    {
     "name": "stdout",
     "output_type": "stream",
     "text": [
      "['Carlos', 'Ana', 'Pedro', 'Maria', 'João']\n"
     ]
    }
   ],
   "source": [
    "# ou simplesmnete inverter a ordem sem o tratamento\n",
    "\n",
    "funcionarios = ['João', 'Maria', 'Pedro', 'Ana', 'Carlos']\n",
    "\n",
    "funcionarios.reverse()\n",
    "print(funcionarios)"
   ]
  },
  {
   "cell_type": "markdown",
   "id": "ea8f9e3c-4ccb-40b1-acc9-33c0d38ea4d3",
   "metadata": {},
   "source": [
    "# Exemplo da função sort()\n",
    "Ordena os elementos de uma lista em ordem crescente ou decrescente\n",
    "ele modifica a lista original"
   ]
  },
  {
   "cell_type": "code",
   "execution_count": 36,
   "id": "1d49399c-25dc-4f6c-b87d-ed1ead64b219",
   "metadata": {},
   "outputs": [
    {
     "name": "stdout",
     "output_type": "stream",
     "text": [
      "[1, 2, 3, 5, 8]\n",
      "[9, 7, 6, 4, 2]\n"
     ]
    }
   ],
   "source": [
    "# Ordenando a lista de forma crescente \n",
    "\n",
    "lista = [5, 2, 8, 1, 3] \n",
    "lista.sort()\n",
    "print(lista)\n",
    "\n",
    "# ordenando a lista de forma decrescente, utilizei o método sort(). Necessário adicionar o parâmetro reverse=True \n",
    "lista = [7, 4, 9, 2, 6] \n",
    "lista.sort(reverse=True) \n",
    "print(lista)"
   ]
  },
  {
   "cell_type": "code",
   "execution_count": 37,
   "id": "b55c4e9a-c6e1-48f0-aa56-902abc972ee2",
   "metadata": {},
   "outputs": [
    {
     "name": "stdout",
     "output_type": "stream",
     "text": [
      "['Ana', 'João', 'Maria', 'Pedro']\n",
      "-=-=-=-=-=-=-=-=-=-=-=-=-=-=-=-=-=-=-=-=-=-=-=-=-=-=-=-=-=-=\n"
     ]
    }
   ],
   "source": [
    "# Caso uma empresa precise organizar uma lista de funcionários por ordem alfabética. \n",
    "# A função sort() poderia ser usada da seguinte forma:\n",
    "\n",
    "funcionarios = [\"Maria\", \"João\", \"Ana\", \"Pedro\"] \n",
    "\n",
    "funcionarios.sort()\n",
    "print(funcionarios) \n",
    "\n",
    "print('-='*30)"
   ]
  },
  {
   "cell_type": "markdown",
   "id": "1d2a241f-eaa0-4a91-ac23-68c656f43848",
   "metadata": {},
   "source": [
    "# Exemplo da função copy()\n",
    "Cria uma cópia de uma lista, evitando alterações na lista original.\n",
    "\n",
    "No ambiente corporativo, pode ser necessário criar uma cópia de uma lista de dados para preservar a originalidade dos dados. Por exemplo, em um sistema de gerenciamento de projetos, ao copiar uma lista de tarefas de um projeto para outro, é importante garantir que quaisquer alterações feitas na nova lista de tarefas não afetem a lista original.\n"
   ]
  },
  {
   "cell_type": "code",
   "execution_count": 34,
   "id": "930ed350-309f-4be8-8da8-b0195840e33b",
   "metadata": {},
   "outputs": [
    {
     "name": "stdout",
     "output_type": "stream",
     "text": [
      "[1, 2, 3, 4, 5]\n",
      "[1, 2, 3, 4, 5]\n"
     ]
    }
   ],
   "source": [
    "# Veja que ao copiar a lista1 criando a lista2 os valores se repetem sem alteração\n",
    "\n",
    "lista1 = [1, 2, 3, 4, 5] \n",
    "lista2 = lista1.copy() \n",
    "print(lista1) \n",
    "print(lista2)"
   ]
  },
  {
   "cell_type": "code",
   "execution_count": 35,
   "id": "729aa259-ab27-49e8-9555-1df7d703a96c",
   "metadata": {},
   "outputs": [
    {
     "name": "stdout",
     "output_type": "stream",
     "text": [
      "[1, 2, 3, 4, 5]\n",
      "[10, 2, 3, 4, 5]\n"
     ]
    }
   ],
   "source": [
    "# a função copy é utilizada para criar uma cópia da lista1 na lista2. Ao modificar o primeiro elemento de lista2, \n",
    "# a lista1 não é afetada, mostrando que a função copy cria uma cópia independente\n",
    "\n",
    "lista1 = [1, 2, 3, 4, 5] \n",
    "lista2 = lista1.copy() \n",
    "lista2[0] = 10\n",
    "print(lista1) \n",
    "print(lista2)"
   ]
  }
 ],
 "metadata": {
  "kernelspec": {
   "display_name": "Python 3 (ipykernel)",
   "language": "python",
   "name": "python3"
  },
  "language_info": {
   "codemirror_mode": {
    "name": "ipython",
    "version": 3
   },
   "file_extension": ".py",
   "mimetype": "text/x-python",
   "name": "python",
   "nbconvert_exporter": "python",
   "pygments_lexer": "ipython3",
   "version": "3.11.7"
  }
 },
 "nbformat": 4,
 "nbformat_minor": 5
}
